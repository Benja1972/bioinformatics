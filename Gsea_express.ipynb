{
 "cells": [
  {
   "cell_type": "code",
   "execution_count": 53,
   "metadata": {
    "collapsed": false
   },
   "outputs": [],
   "source": [
    "import numpy as np\n",
    "import yaml\n",
    "from os.path import join \n",
    "import pandas as pd\n"
   ]
  },
  {
   "cell_type": "code",
   "execution_count": 63,
   "metadata": {
    "collapsed": false
   },
   "outputs": [],
   "source": [
    "tbl_f = join('tracks', 'TLX3vsRAGvsTAP_DESeq2-results.txt')\n",
    "tbl = pd.read_table(tbl_f, index_col=0)\n"
   ]
  },
  {
   "cell_type": "code",
   "execution_count": 64,
   "metadata": {
    "collapsed": true
   },
   "outputs": [],
   "source": [
    "tbl = tbl[(tbl.padj < 0.05)].dropna()"
   ]
  },
  {
   "cell_type": "code",
   "execution_count": 65,
   "metadata": {
    "collapsed": false
   },
   "outputs": [],
   "source": [
    "gene_names = pd.read_table(\"tracks/UCSC_mm9_transcripID_to_geneSymbol.sort.txt\", \n",
    "                           index_col=0,\n",
    "                           names=[\"Geneid\", \"NAME\"])"
   ]
  },
  {
   "cell_type": "code",
   "execution_count": 66,
   "metadata": {
    "collapsed": true
   },
   "outputs": [],
   "source": [
    "names = gene_names.loc[tbl.index]"
   ]
  },
  {
   "cell_type": "code",
   "execution_count": 67,
   "metadata": {
    "collapsed": false
   },
   "outputs": [],
   "source": [
    "assert names.shape[0] == tbl.shape[0]\n"
   ]
  },
  {
   "cell_type": "code",
   "execution_count": 68,
   "metadata": {
    "collapsed": false
   },
   "outputs": [],
   "source": []
  },
  {
   "cell_type": "code",
   "execution_count": 69,
   "metadata": {
    "collapsed": true
   },
   "outputs": [],
   "source": [
    "tbl_raw = tbl[['R2.RAG1W.RAG1','RAGS.RAGZ','RAGZ',\n",
    "               'TLX3.1_1','TLX3.1_5','TLX3.1_P',\n",
    "               'TAP','TAP1B','TAP2B']]"
   ]
  },
  {
   "cell_type": "code",
   "execution_count": 70,
   "metadata": {
    "collapsed": false
   },
   "outputs": [
    {
     "data": {
      "text/html": [
       "<div>\n",
       "<table border=\"1\" class=\"dataframe\">\n",
       "  <thead>\n",
       "    <tr style=\"text-align: right;\">\n",
       "      <th></th>\n",
       "      <th>R2.RAG1W.RAG1</th>\n",
       "      <th>RAGS.RAGZ</th>\n",
       "      <th>RAGZ</th>\n",
       "      <th>TLX3.1_1</th>\n",
       "      <th>TLX3.1_5</th>\n",
       "      <th>TLX3.1_P</th>\n",
       "      <th>TAP</th>\n",
       "      <th>TAP1B</th>\n",
       "      <th>TAP2B</th>\n",
       "    </tr>\n",
       "    <tr>\n",
       "      <th>Gene</th>\n",
       "      <th></th>\n",
       "      <th></th>\n",
       "      <th></th>\n",
       "      <th></th>\n",
       "      <th></th>\n",
       "      <th></th>\n",
       "      <th></th>\n",
       "      <th></th>\n",
       "      <th></th>\n",
       "    </tr>\n",
       "  </thead>\n",
       "  <tbody>\n",
       "    <tr>\n",
       "      <th>ENSMUST00000022242</th>\n",
       "      <td>2056.987517</td>\n",
       "      <td>2131.634145</td>\n",
       "      <td>2011.473416</td>\n",
       "      <td>21401.247207</td>\n",
       "      <td>21245.921524</td>\n",
       "      <td>24249.879198</td>\n",
       "      <td>8242.768963</td>\n",
       "      <td>7719.564495</td>\n",
       "      <td>8154.039494</td>\n",
       "    </tr>\n",
       "    <tr>\n",
       "      <th>ENSMUST00000103553</th>\n",
       "      <td>271.597527</td>\n",
       "      <td>271.477838</td>\n",
       "      <td>277.082483</td>\n",
       "      <td>6835.061283</td>\n",
       "      <td>6349.925517</td>\n",
       "      <td>6276.321481</td>\n",
       "      <td>1822.050055</td>\n",
       "      <td>1956.703443</td>\n",
       "      <td>1810.837282</td>\n",
       "    </tr>\n",
       "    <tr>\n",
       "      <th>ENSMUST00000001327</th>\n",
       "      <td>2552.895501</td>\n",
       "      <td>2555.664485</td>\n",
       "      <td>2345.103344</td>\n",
       "      <td>36095.769570</td>\n",
       "      <td>36297.826271</td>\n",
       "      <td>35931.089078</td>\n",
       "      <td>3645.231115</td>\n",
       "      <td>3400.993682</td>\n",
       "      <td>3362.042145</td>\n",
       "    </tr>\n",
       "    <tr>\n",
       "      <th>ENSMUST00000009058</th>\n",
       "      <td>358.896732</td>\n",
       "      <td>346.933914</td>\n",
       "      <td>364.327113</td>\n",
       "      <td>5908.059678</td>\n",
       "      <td>5787.208541</td>\n",
       "      <td>5810.555524</td>\n",
       "      <td>10466.326013</td>\n",
       "      <td>9496.327487</td>\n",
       "      <td>10094.034021</td>\n",
       "    </tr>\n",
       "    <tr>\n",
       "      <th>ENSMUST00000047485</th>\n",
       "      <td>117.611429</td>\n",
       "      <td>120.565687</td>\n",
       "      <td>96.938478</td>\n",
       "      <td>2679.023182</td>\n",
       "      <td>2837.332573</td>\n",
       "      <td>2822.641866</td>\n",
       "      <td>2114.980510</td>\n",
       "      <td>2074.677645</td>\n",
       "      <td>2249.708327</td>\n",
       "    </tr>\n",
       "  </tbody>\n",
       "</table>\n",
       "</div>"
      ],
      "text/plain": [
       "                    R2.RAG1W.RAG1    RAGS.RAGZ         RAGZ      TLX3.1_1  \\\n",
       "Gene                                                                        \n",
       "ENSMUST00000022242    2056.987517  2131.634145  2011.473416  21401.247207   \n",
       "ENSMUST00000103553     271.597527   271.477838   277.082483   6835.061283   \n",
       "ENSMUST00000001327    2552.895501  2555.664485  2345.103344  36095.769570   \n",
       "ENSMUST00000009058     358.896732   346.933914   364.327113   5908.059678   \n",
       "ENSMUST00000047485     117.611429   120.565687    96.938478   2679.023182   \n",
       "\n",
       "                        TLX3.1_5      TLX3.1_P           TAP        TAP1B  \\\n",
       "Gene                                                                        \n",
       "ENSMUST00000022242  21245.921524  24249.879198   8242.768963  7719.564495   \n",
       "ENSMUST00000103553   6349.925517   6276.321481   1822.050055  1956.703443   \n",
       "ENSMUST00000001327  36297.826271  35931.089078   3645.231115  3400.993682   \n",
       "ENSMUST00000009058   5787.208541   5810.555524  10466.326013  9496.327487   \n",
       "ENSMUST00000047485   2837.332573   2822.641866   2114.980510  2074.677645   \n",
       "\n",
       "                           TAP2B  \n",
       "Gene                              \n",
       "ENSMUST00000022242   8154.039494  \n",
       "ENSMUST00000103553   1810.837282  \n",
       "ENSMUST00000001327   3362.042145  \n",
       "ENSMUST00000009058  10094.034021  \n",
       "ENSMUST00000047485   2249.708327  "
      ]
     },
     "execution_count": 70,
     "metadata": {},
     "output_type": "execute_result"
    }
   ],
   "source": [
    "tbl_raw.head()"
   ]
  },
  {
   "cell_type": "code",
   "execution_count": 71,
   "metadata": {
    "collapsed": false
   },
   "outputs": [],
   "source": [
    "tbl_rawR=names.join(tbl_raw, how ='right')\n"
   ]
  },
  {
   "cell_type": "code",
   "execution_count": 72,
   "metadata": {
    "collapsed": false
   },
   "outputs": [
    {
     "data": {
      "text/html": [
       "<div>\n",
       "<table border=\"1\" class=\"dataframe\">\n",
       "  <thead>\n",
       "    <tr style=\"text-align: right;\">\n",
       "      <th></th>\n",
       "      <th>NAME</th>\n",
       "      <th>R2.RAG1W.RAG1</th>\n",
       "      <th>RAGS.RAGZ</th>\n",
       "      <th>RAGZ</th>\n",
       "      <th>TLX3.1_1</th>\n",
       "      <th>TLX3.1_5</th>\n",
       "      <th>TLX3.1_P</th>\n",
       "      <th>TAP</th>\n",
       "      <th>TAP1B</th>\n",
       "      <th>TAP2B</th>\n",
       "    </tr>\n",
       "    <tr>\n",
       "      <th>Gene</th>\n",
       "      <th></th>\n",
       "      <th></th>\n",
       "      <th></th>\n",
       "      <th></th>\n",
       "      <th></th>\n",
       "      <th></th>\n",
       "      <th></th>\n",
       "      <th></th>\n",
       "      <th></th>\n",
       "      <th></th>\n",
       "    </tr>\n",
       "  </thead>\n",
       "  <tbody>\n",
       "    <tr>\n",
       "      <th>ENSMUST00000131365</th>\n",
       "      <td>2410019O14Rik</td>\n",
       "      <td>17.581090</td>\n",
       "      <td>9.842097</td>\n",
       "      <td>14.540772</td>\n",
       "      <td>8.021027</td>\n",
       "      <td>6.195049</td>\n",
       "      <td>3.004942</td>\n",
       "      <td>11.310056</td>\n",
       "      <td>16.683221</td>\n",
       "      <td>15.815173</td>\n",
       "    </tr>\n",
       "    <tr>\n",
       "      <th>ENSMUST00000049378</th>\n",
       "      <td>Ablim3</td>\n",
       "      <td>5.456200</td>\n",
       "      <td>3.280699</td>\n",
       "      <td>3.231283</td>\n",
       "      <td>0.000000</td>\n",
       "      <td>0.000000</td>\n",
       "      <td>0.000000</td>\n",
       "      <td>0.000000</td>\n",
       "      <td>0.000000</td>\n",
       "      <td>0.000000</td>\n",
       "    </tr>\n",
       "    <tr>\n",
       "      <th>ENSMUST00000145870</th>\n",
       "      <td>Ica1</td>\n",
       "      <td>5.456200</td>\n",
       "      <td>3.280699</td>\n",
       "      <td>3.231283</td>\n",
       "      <td>0.000000</td>\n",
       "      <td>0.000000</td>\n",
       "      <td>0.000000</td>\n",
       "      <td>0.000000</td>\n",
       "      <td>0.000000</td>\n",
       "      <td>0.000000</td>\n",
       "    </tr>\n",
       "    <tr>\n",
       "      <th>ENSMUST00000153614</th>\n",
       "      <td>Ube2e3</td>\n",
       "      <td>33.343446</td>\n",
       "      <td>60.692931</td>\n",
       "      <td>49.277060</td>\n",
       "      <td>25.208944</td>\n",
       "      <td>33.040263</td>\n",
       "      <td>22.036239</td>\n",
       "      <td>13.572067</td>\n",
       "      <td>21.449855</td>\n",
       "      <td>21.086897</td>\n",
       "    </tr>\n",
       "    <tr>\n",
       "      <th>ENSMUST00000128442</th>\n",
       "      <td>Rab3d</td>\n",
       "      <td>2.424978</td>\n",
       "      <td>4.100874</td>\n",
       "      <td>5.654745</td>\n",
       "      <td>0.000000</td>\n",
       "      <td>1.032508</td>\n",
       "      <td>0.000000</td>\n",
       "      <td>1.131006</td>\n",
       "      <td>1.191659</td>\n",
       "      <td>1.317931</td>\n",
       "    </tr>\n",
       "  </tbody>\n",
       "</table>\n",
       "</div>"
      ],
      "text/plain": [
       "                             NAME  R2.RAG1W.RAG1  RAGS.RAGZ       RAGZ  \\\n",
       "Gene                                                                     \n",
       "ENSMUST00000131365  2410019O14Rik      17.581090   9.842097  14.540772   \n",
       "ENSMUST00000049378         Ablim3       5.456200   3.280699   3.231283   \n",
       "ENSMUST00000145870           Ica1       5.456200   3.280699   3.231283   \n",
       "ENSMUST00000153614         Ube2e3      33.343446  60.692931  49.277060   \n",
       "ENSMUST00000128442          Rab3d       2.424978   4.100874   5.654745   \n",
       "\n",
       "                     TLX3.1_1   TLX3.1_5   TLX3.1_P        TAP      TAP1B  \\\n",
       "Gene                                                                        \n",
       "ENSMUST00000131365   8.021027   6.195049   3.004942  11.310056  16.683221   \n",
       "ENSMUST00000049378   0.000000   0.000000   0.000000   0.000000   0.000000   \n",
       "ENSMUST00000145870   0.000000   0.000000   0.000000   0.000000   0.000000   \n",
       "ENSMUST00000153614  25.208944  33.040263  22.036239  13.572067  21.449855   \n",
       "ENSMUST00000128442   0.000000   1.032508   0.000000   1.131006   1.191659   \n",
       "\n",
       "                        TAP2B  \n",
       "Gene                           \n",
       "ENSMUST00000131365  15.815173  \n",
       "ENSMUST00000049378   0.000000  \n",
       "ENSMUST00000145870   0.000000  \n",
       "ENSMUST00000153614  21.086897  \n",
       "ENSMUST00000128442   1.317931  "
      ]
     },
     "execution_count": 72,
     "metadata": {},
     "output_type": "execute_result"
    }
   ],
   "source": [
    "#tbl_rawR.tail()"
   ]
  },
  {
   "cell_type": "code",
   "execution_count": 39,
   "metadata": {
    "collapsed": true
   },
   "outputs": [],
   "source": []
  },
  {
   "cell_type": "code",
   "execution_count": 75,
   "metadata": {
    "collapsed": false
   },
   "outputs": [
    {
     "data": {
      "text/html": [
       "<div>\n",
       "<table border=\"1\" class=\"dataframe\">\n",
       "  <thead>\n",
       "    <tr style=\"text-align: right;\">\n",
       "      <th></th>\n",
       "      <th>NAME</th>\n",
       "      <th>R2.RAG1W.RAG1</th>\n",
       "      <th>RAGS.RAGZ</th>\n",
       "      <th>RAGZ</th>\n",
       "      <th>TLX3.1_1</th>\n",
       "      <th>TLX3.1_5</th>\n",
       "      <th>TLX3.1_P</th>\n",
       "      <th>TAP</th>\n",
       "      <th>TAP1B</th>\n",
       "      <th>TAP2B</th>\n",
       "    </tr>\n",
       "    <tr>\n",
       "      <th>Gene</th>\n",
       "      <th></th>\n",
       "      <th></th>\n",
       "      <th></th>\n",
       "      <th></th>\n",
       "      <th></th>\n",
       "      <th></th>\n",
       "      <th></th>\n",
       "      <th></th>\n",
       "      <th></th>\n",
       "      <th></th>\n",
       "    </tr>\n",
       "  </thead>\n",
       "  <tbody>\n",
       "    <tr>\n",
       "      <th>ENSMUST00000022242</th>\n",
       "      <td>EMB</td>\n",
       "      <td>2056.987517</td>\n",
       "      <td>2131.634145</td>\n",
       "      <td>2011.473416</td>\n",
       "      <td>21401.247207</td>\n",
       "      <td>21245.921524</td>\n",
       "      <td>24249.879198</td>\n",
       "      <td>8242.768963</td>\n",
       "      <td>7719.564495</td>\n",
       "      <td>8154.039494</td>\n",
       "    </tr>\n",
       "    <tr>\n",
       "      <th>ENSMUST00000103553</th>\n",
       "      <td>TCRG-V7</td>\n",
       "      <td>271.597527</td>\n",
       "      <td>271.477838</td>\n",
       "      <td>277.082483</td>\n",
       "      <td>6835.061283</td>\n",
       "      <td>6349.925517</td>\n",
       "      <td>6276.321481</td>\n",
       "      <td>1822.050055</td>\n",
       "      <td>1956.703443</td>\n",
       "      <td>1810.837282</td>\n",
       "    </tr>\n",
       "    <tr>\n",
       "      <th>ENSMUST00000001327</th>\n",
       "      <td>ITGB7</td>\n",
       "      <td>2552.895501</td>\n",
       "      <td>2555.664485</td>\n",
       "      <td>2345.103344</td>\n",
       "      <td>36095.769570</td>\n",
       "      <td>36297.826271</td>\n",
       "      <td>35931.089078</td>\n",
       "      <td>3645.231115</td>\n",
       "      <td>3400.993682</td>\n",
       "      <td>3362.042145</td>\n",
       "    </tr>\n",
       "    <tr>\n",
       "      <th>ENSMUST00000009058</th>\n",
       "      <td>ABCB1B</td>\n",
       "      <td>358.896732</td>\n",
       "      <td>346.933914</td>\n",
       "      <td>364.327113</td>\n",
       "      <td>5908.059678</td>\n",
       "      <td>5787.208541</td>\n",
       "      <td>5810.555524</td>\n",
       "      <td>10466.326013</td>\n",
       "      <td>9496.327487</td>\n",
       "      <td>10094.034021</td>\n",
       "    </tr>\n",
       "    <tr>\n",
       "      <th>ENSMUST00000047485</th>\n",
       "      <td>RUNDC3B</td>\n",
       "      <td>117.611429</td>\n",
       "      <td>120.565687</td>\n",
       "      <td>96.938478</td>\n",
       "      <td>2679.023182</td>\n",
       "      <td>2837.332573</td>\n",
       "      <td>2822.641866</td>\n",
       "      <td>2114.980510</td>\n",
       "      <td>2074.677645</td>\n",
       "      <td>2249.708327</td>\n",
       "    </tr>\n",
       "  </tbody>\n",
       "</table>\n",
       "</div>"
      ],
      "text/plain": [
       "                       NAME  R2.RAG1W.RAG1    RAGS.RAGZ         RAGZ  \\\n",
       "Gene                                                                   \n",
       "ENSMUST00000022242      EMB    2056.987517  2131.634145  2011.473416   \n",
       "ENSMUST00000103553  TCRG-V7     271.597527   271.477838   277.082483   \n",
       "ENSMUST00000001327    ITGB7    2552.895501  2555.664485  2345.103344   \n",
       "ENSMUST00000009058   ABCB1B     358.896732   346.933914   364.327113   \n",
       "ENSMUST00000047485  RUNDC3B     117.611429   120.565687    96.938478   \n",
       "\n",
       "                        TLX3.1_1      TLX3.1_5      TLX3.1_P           TAP  \\\n",
       "Gene                                                                         \n",
       "ENSMUST00000022242  21401.247207  21245.921524  24249.879198   8242.768963   \n",
       "ENSMUST00000103553   6835.061283   6349.925517   6276.321481   1822.050055   \n",
       "ENSMUST00000001327  36095.769570  36297.826271  35931.089078   3645.231115   \n",
       "ENSMUST00000009058   5908.059678   5787.208541   5810.555524  10466.326013   \n",
       "ENSMUST00000047485   2679.023182   2837.332573   2822.641866   2114.980510   \n",
       "\n",
       "                          TAP1B         TAP2B  \n",
       "Gene                                           \n",
       "ENSMUST00000022242  7719.564495   8154.039494  \n",
       "ENSMUST00000103553  1956.703443   1810.837282  \n",
       "ENSMUST00000001327  3400.993682   3362.042145  \n",
       "ENSMUST00000009058  9496.327487  10094.034021  \n",
       "ENSMUST00000047485  2074.677645   2249.708327  "
      ]
     },
     "execution_count": 75,
     "metadata": {},
     "output_type": "execute_result"
    }
   ],
   "source": [
    "tbl_rawR['NAME']=tbl_rawR['NAME'].str.upper()\n",
    "#tbl_rawR.head() "
   ]
  },
  {
   "cell_type": "code",
   "execution_count": 76,
   "metadata": {
    "collapsed": true
   },
   "outputs": [],
   "source": []
  },
  {
   "cell_type": "code",
   "execution_count": 77,
   "metadata": {
    "collapsed": true
   },
   "outputs": [],
   "source": [
    "import gseapy as gp\n",
    "\n",
    "classi = ['WT','WT','WT','MUT','MUT','MUT','MUT','MUT','MUT']"
   ]
  },
  {
   "cell_type": "code",
   "execution_count": 78,
   "metadata": {
    "collapsed": false
   },
   "outputs": [
    {
     "data": {
      "text/html": [
       "<div>\n",
       "<table border=\"1\" class=\"dataframe\">\n",
       "  <thead>\n",
       "    <tr style=\"text-align: right;\">\n",
       "      <th></th>\n",
       "      <th>NAME</th>\n",
       "      <th>R2.RAG1W.RAG1</th>\n",
       "      <th>RAGS.RAGZ</th>\n",
       "      <th>RAGZ</th>\n",
       "      <th>TLX3.1_1</th>\n",
       "      <th>TLX3.1_5</th>\n",
       "      <th>TLX3.1_P</th>\n",
       "      <th>TAP</th>\n",
       "      <th>TAP1B</th>\n",
       "      <th>TAP2B</th>\n",
       "    </tr>\n",
       "    <tr>\n",
       "      <th>Gene</th>\n",
       "      <th></th>\n",
       "      <th></th>\n",
       "      <th></th>\n",
       "      <th></th>\n",
       "      <th></th>\n",
       "      <th></th>\n",
       "      <th></th>\n",
       "      <th></th>\n",
       "      <th></th>\n",
       "      <th></th>\n",
       "    </tr>\n",
       "  </thead>\n",
       "  <tbody>\n",
       "    <tr>\n",
       "      <th>ENSMUST00000022242</th>\n",
       "      <td>EMB</td>\n",
       "      <td>2056.987517</td>\n",
       "      <td>2131.634145</td>\n",
       "      <td>2011.473416</td>\n",
       "      <td>21401.247207</td>\n",
       "      <td>21245.921524</td>\n",
       "      <td>24249.879198</td>\n",
       "      <td>8242.768963</td>\n",
       "      <td>7719.564495</td>\n",
       "      <td>8154.039494</td>\n",
       "    </tr>\n",
       "    <tr>\n",
       "      <th>ENSMUST00000103553</th>\n",
       "      <td>TCRG-V7</td>\n",
       "      <td>271.597527</td>\n",
       "      <td>271.477838</td>\n",
       "      <td>277.082483</td>\n",
       "      <td>6835.061283</td>\n",
       "      <td>6349.925517</td>\n",
       "      <td>6276.321481</td>\n",
       "      <td>1822.050055</td>\n",
       "      <td>1956.703443</td>\n",
       "      <td>1810.837282</td>\n",
       "    </tr>\n",
       "    <tr>\n",
       "      <th>ENSMUST00000001327</th>\n",
       "      <td>ITGB7</td>\n",
       "      <td>2552.895501</td>\n",
       "      <td>2555.664485</td>\n",
       "      <td>2345.103344</td>\n",
       "      <td>36095.769570</td>\n",
       "      <td>36297.826271</td>\n",
       "      <td>35931.089078</td>\n",
       "      <td>3645.231115</td>\n",
       "      <td>3400.993682</td>\n",
       "      <td>3362.042145</td>\n",
       "    </tr>\n",
       "    <tr>\n",
       "      <th>ENSMUST00000009058</th>\n",
       "      <td>ABCB1B</td>\n",
       "      <td>358.896732</td>\n",
       "      <td>346.933914</td>\n",
       "      <td>364.327113</td>\n",
       "      <td>5908.059678</td>\n",
       "      <td>5787.208541</td>\n",
       "      <td>5810.555524</td>\n",
       "      <td>10466.326013</td>\n",
       "      <td>9496.327487</td>\n",
       "      <td>10094.034021</td>\n",
       "    </tr>\n",
       "    <tr>\n",
       "      <th>ENSMUST00000047485</th>\n",
       "      <td>RUNDC3B</td>\n",
       "      <td>117.611429</td>\n",
       "      <td>120.565687</td>\n",
       "      <td>96.938478</td>\n",
       "      <td>2679.023182</td>\n",
       "      <td>2837.332573</td>\n",
       "      <td>2822.641866</td>\n",
       "      <td>2114.980510</td>\n",
       "      <td>2074.677645</td>\n",
       "      <td>2249.708327</td>\n",
       "    </tr>\n",
       "  </tbody>\n",
       "</table>\n",
       "</div>"
      ],
      "text/plain": [
       "                       NAME  R2.RAG1W.RAG1    RAGS.RAGZ         RAGZ  \\\n",
       "Gene                                                                   \n",
       "ENSMUST00000022242      EMB    2056.987517  2131.634145  2011.473416   \n",
       "ENSMUST00000103553  TCRG-V7     271.597527   271.477838   277.082483   \n",
       "ENSMUST00000001327    ITGB7    2552.895501  2555.664485  2345.103344   \n",
       "ENSMUST00000009058   ABCB1B     358.896732   346.933914   364.327113   \n",
       "ENSMUST00000047485  RUNDC3B     117.611429   120.565687    96.938478   \n",
       "\n",
       "                        TLX3.1_1      TLX3.1_5      TLX3.1_P           TAP  \\\n",
       "Gene                                                                         \n",
       "ENSMUST00000022242  21401.247207  21245.921524  24249.879198   8242.768963   \n",
       "ENSMUST00000103553   6835.061283   6349.925517   6276.321481   1822.050055   \n",
       "ENSMUST00000001327  36095.769570  36297.826271  35931.089078   3645.231115   \n",
       "ENSMUST00000009058   5908.059678   5787.208541   5810.555524  10466.326013   \n",
       "ENSMUST00000047485   2679.023182   2837.332573   2822.641866   2114.980510   \n",
       "\n",
       "                          TAP1B         TAP2B  \n",
       "Gene                                           \n",
       "ENSMUST00000022242  7719.564495   8154.039494  \n",
       "ENSMUST00000103553  1956.703443   1810.837282  \n",
       "ENSMUST00000001327  3400.993682   3362.042145  \n",
       "ENSMUST00000009058  9496.327487  10094.034021  \n",
       "ENSMUST00000047485  2074.677645   2249.708327  "
      ]
     },
     "execution_count": 78,
     "metadata": {},
     "output_type": "execute_result"
    }
   ],
   "source": [
    "tbl_g = tbl_rawR.head(500)\n",
    "\n",
    "#tbl_g.head()"
   ]
  },
  {
   "cell_type": "code",
   "execution_count": 80,
   "metadata": {
    "collapsed": false
   },
   "outputs": [
    {
     "name": "stderr",
     "output_type": "stream",
     "text": [
      "2017-07-06 15:59:38,513 Parsing data files for GSEA.............................\n",
      "2017-07-06 15:59:44,690 1 gene_sets used for further statistical testing.....\n",
      "2017-07-06 15:59:44,691 Start to run GSEA...Might take a while..................\n",
      "/home/sergio/miniconda3/lib/python3.5/site-packages/gseapy/algorithm.py:297: RuntimeWarning: invalid value encountered in true_divide\n",
      "  choicelist = [np.sum(esnull < es.reshape(len(es),1), axis=1)/ np.sum(esnull < 0, axis=1) ,\n",
      "/home/sergio/miniconda3/lib/python3.5/site-packages/numpy/core/_methods.py:59: RuntimeWarning: Mean of empty slice.\n",
      "  warnings.warn(\"Mean of empty slice.\", RuntimeWarning)\n",
      "/home/sergio/miniconda3/lib/python3.5/site-packages/numpy/core/_methods.py:70: RuntimeWarning: invalid value encountered in double_scalars\n",
      "  ret = ret.dtype.type(ret / rcount)\n",
      "2017-07-06 16:03:13,211 Start to generate gseapy reports, and produce figures...\n",
      "2017-07-06 16:03:14,014 Congratulations. GSEAPY run successfully................\n"
     ]
    }
   ],
   "source": [
    "\n",
    "gs_res = gp.gsea.call(data=tbl_g, \n",
    "                      gene_sets='KEGG_2016', \n",
    "                      cls=classi,\n",
    "                      permutation_type='phenotype',\n",
    "                      outdir='gsea_reprot')"
   ]
  },
  {
   "cell_type": "code",
   "execution_count": 58,
   "metadata": {
    "collapsed": false
   },
   "outputs": [],
   "source": [
    "#tbl_g.to_csv('TLXgsea.txt', sep='\\t')"
   ]
  },
  {
   "cell_type": "code",
   "execution_count": null,
   "metadata": {
    "collapsed": true
   },
   "outputs": [],
   "source": []
  }
 ],
 "metadata": {
  "kernelspec": {
   "display_name": "Python 3",
   "language": "python",
   "name": "python3"
  },
  "language_info": {
   "codemirror_mode": {
    "name": "ipython",
    "version": 3
   },
   "file_extension": ".py",
   "mimetype": "text/x-python",
   "name": "python",
   "nbconvert_exporter": "python",
   "pygments_lexer": "ipython3",
   "version": "3.5.2"
  }
 },
 "nbformat": 4,
 "nbformat_minor": 2
}
