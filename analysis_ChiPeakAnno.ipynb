{
 "cells": [
  {
   "cell_type": "code",
   "execution_count": 1,
   "metadata": {
    "collapsed": false
   },
   "outputs": [
    {
     "name": "stderr",
     "output_type": "stream",
     "text": [
      "Loading required package: grid\n",
      "Loading required package: IRanges\n",
      "Loading required package: BiocGenerics\n",
      "Loading required package: parallel\n",
      "\n",
      "Attaching package: ‘BiocGenerics’\n",
      "\n",
      "The following objects are masked from ‘package:parallel’:\n",
      "\n",
      "    clusterApply, clusterApplyLB, clusterCall, clusterEvalQ,\n",
      "    clusterExport, clusterMap, parApply, parCapply, parLapply,\n",
      "    parLapplyLB, parRapply, parSapply, parSapplyLB\n",
      "\n",
      "The following objects are masked from ‘package:stats’:\n",
      "\n",
      "    IQR, mad, xtabs\n",
      "\n",
      "The following objects are masked from ‘package:base’:\n",
      "\n",
      "    anyDuplicated, append, as.data.frame, cbind, colnames, do.call,\n",
      "    duplicated, eval, evalq, Filter, Find, get, grep, grepl, intersect,\n",
      "    is.unsorted, lapply, lengths, Map, mapply, match, mget, order,\n",
      "    paste, pmax, pmax.int, pmin, pmin.int, Position, rank, rbind,\n",
      "    Reduce, rownames, sapply, setdiff, sort, table, tapply, union,\n",
      "    unique, unsplit, which, which.max, which.min\n",
      "\n",
      "Loading required package: S4Vectors\n",
      "Loading required package: stats4\n",
      "\n",
      "Attaching package: ‘S4Vectors’\n",
      "\n",
      "The following objects are masked from ‘package:base’:\n",
      "\n",
      "    colMeans, colSums, expand.grid, rowMeans, rowSums\n",
      "\n",
      "Loading required package: Biostrings\n",
      "Loading required package: XVector\n",
      "Loading required package: GenomicRanges\n",
      "Loading required package: GenomeInfoDb\n",
      "Loading required package: VennDiagram\n",
      "Loading required package: futile.logger\n",
      "\n"
     ]
    }
   ],
   "source": [
    "#source(\"https://bioconductor.org/biocLite.R\")\n",
    "#biocLite(\"ChIPpeakAnno\")\n",
    "library(ChIPpeakAnno)"
   ]
  },
  {
   "cell_type": "code",
   "execution_count": 2,
   "metadata": {
    "collapsed": true
   },
   "outputs": [],
   "source": [
    "library(yaml)\n",
    "rel_path = \"/home/sergio/media\""
   ]
  },
  {
   "cell_type": "code",
   "execution_count": 3,
   "metadata": {
    "collapsed": false
   },
   "outputs": [],
   "source": [
    "tlx_list <- yaml.load_file(\"tracks/TLX3_TLX3_list.yaml\")"
   ]
  },
  {
   "cell_type": "code",
   "execution_count": 4,
   "metadata": {
    "collapsed": false
   },
   "outputs": [
    {
     "data": {
      "text/html": [
       "'/home/sergio/media/NAS4/PFlab/TLX3_project/ChiP-Seq/TLX3/051peak_merge/TLX3_TLX3_summits.bed'"
      ],
      "text/latex": [
       "'/home/sergio/media/NAS4/PFlab/TLX3\\_project/ChiP-Seq/TLX3/051peak\\_merge/TLX3\\_TLX3\\_summits.bed'"
      ],
      "text/markdown": [
       "'/home/sergio/media/NAS4/PFlab/TLX3_project/ChiP-Seq/TLX3/051peak_merge/TLX3_TLX3_summits.bed'"
      ],
      "text/plain": [
       "[1] \"/home/sergio/media/NAS4/PFlab/TLX3_project/ChiP-Seq/TLX3/051peak_merge/TLX3_TLX3_summits.bed\""
      ]
     },
     "metadata": {},
     "output_type": "display_data"
    }
   ],
   "source": [
    "tlx_peaks <- paste(rel_path, tlx_list$peaks[1], sep = \"\")\n",
    "tlx_peaks"
   ]
  },
  {
   "cell_type": "code",
   "execution_count": 5,
   "metadata": {
    "collapsed": false
   },
   "outputs": [],
   "source": [
    "tlx_gr <- toGRanges(tlx_peaks, format=\"BED\", header=FALSE) "
   ]
  },
  {
   "cell_type": "code",
   "execution_count": 6,
   "metadata": {
    "collapsed": false
   },
   "outputs": [
    {
     "data": {
      "text/plain": [
       "GRanges object with 2 ranges and 1 metadata column:\n",
       "                   seqnames             ranges strand |     score\n",
       "                      <Rle>          <IRanges>  <Rle> | <numeric>\n",
       "  TLX3_TLX3_peak_1     chr1 [6363293, 6363293]      * |  49.73278\n",
       "  TLX3_TLX3_peak_2     chr1 [6443751, 6443751]      * | 116.91567\n",
       "  -------\n",
       "  seqinfo: 26 sequences from an unspecified genome; no seqlengths"
      ]
     },
     "metadata": {},
     "output_type": "display_data"
    }
   ],
   "source": [
    "tlx_gr[1:2]"
   ]
  },
  {
   "cell_type": "code",
   "execution_count": 7,
   "metadata": {
    "collapsed": true
   },
   "outputs": [],
   "source": [
    "rag_list <- yaml.load_file(\"tracks/RAG_TLX3_list.yaml\")"
   ]
  },
  {
   "cell_type": "code",
   "execution_count": 8,
   "metadata": {
    "collapsed": false
   },
   "outputs": [
    {
     "data": {
      "text/html": [
       "'/home/sergio/media/NAS4/PFlab/TLX3_project/ChiP-Seq/RAG_DN/05peak/RAG_TLX3_repl1_summits.bed'"
      ],
      "text/latex": [
       "'/home/sergio/media/NAS4/PFlab/TLX3\\_project/ChiP-Seq/RAG\\_DN/05peak/RAG\\_TLX3\\_repl1\\_summits.bed'"
      ],
      "text/markdown": [
       "'/home/sergio/media/NAS4/PFlab/TLX3_project/ChiP-Seq/RAG_DN/05peak/RAG_TLX3_repl1_summits.bed'"
      ],
      "text/plain": [
       "[1] \"/home/sergio/media/NAS4/PFlab/TLX3_project/ChiP-Seq/RAG_DN/05peak/RAG_TLX3_repl1_summits.bed\""
      ]
     },
     "metadata": {},
     "output_type": "display_data"
    }
   ],
   "source": [
    "rag_peaks <- paste(rel_path, rag_list$peaks[1], sep = \"\")\n",
    "rag_peaks"
   ]
  },
  {
   "cell_type": "code",
   "execution_count": 9,
   "metadata": {
    "collapsed": false
   },
   "outputs": [
    {
     "name": "stderr",
     "output_type": "stream",
     "text": [
      "Warning message in file(file, \"rt\"):\n",
      "\"cannot open file '/home/sergio/media/NAS4/PFlab/TLX3_project/ChiP-Seq/RAG_DN/05peak/RAG_TLX3_repl1_summits.bed': No such file or directory\""
     ]
    },
    {
     "ename": "ERROR",
     "evalue": "Error in file(file, \"rt\"): cannot open the connection\n",
     "output_type": "error",
     "traceback": [
      "Error in file(file, \"rt\"): cannot open the connection\nTraceback:\n",
      "1. toGRanges(rag_peaks, format = \"BED\", header = FALSE)",
      "2. toGRanges(rag_peaks, format = \"BED\", header = FALSE)",
      "3. .local(data, ...)",
      "4. read.table(data, header = header, comment.char = comment.char, \n .     ..., nrows = 5)",
      "5. file(file, \"rt\")"
     ]
    }
   ],
   "source": [
    "rag_gr <- toGRanges(rag_peaks, format=\"BED\", header=FALSE) "
   ]
  },
  {
   "cell_type": "code",
   "execution_count": 11,
   "metadata": {
    "collapsed": false
   },
   "outputs": [
    {
     "data": {
      "text/plain": [
       "GRanges object with 2 ranges and 1 metadata column:\n",
       "                        seqnames               ranges strand |     score\n",
       "                           <Rle>            <IRanges>  <Rle> | <numeric>\n",
       "  RAG_TLX3_repl1_peak_1     chr1 [63223320, 63223320]      * |  92.73306\n",
       "  RAG_TLX3_repl1_peak_2     chr1 [64579299, 64579299]      * |  59.72068\n",
       "  -------\n",
       "  seqinfo: 18 sequences from an unspecified genome; no seqlengths"
      ]
     },
     "metadata": {},
     "output_type": "display_data"
    }
   ],
   "source": [
    "rag_gr[1:2]"
   ]
  },
  {
   "cell_type": "code",
   "execution_count": 12,
   "metadata": {
    "collapsed": false
   },
   "outputs": [
    {
     "name": "stderr",
     "output_type": "stream",
     "text": [
      "Missing totalTest! totalTest is required for HyperG test. \n",
      "If totalTest is missing, pvalue will be calculated by estimating \n",
      "the total binding sites of encoding region of human.\n",
      "totalTest = humanGenomeSize * (2%(codingDNA) + \n",
      "             1%(regulationRegion)) / ( 2 * averagePeakWidth )\n",
      "          = 3.3e+9 * 0.03 / ( 2 * averagePeakWidth)\n",
      "          = 5e+7 /averagePeakWidth\n"
     ]
    },
    {
     "data": {
      "text/plain": [
       "$p.value\n",
       "     tlx_gr rag_gr       pval\n",
       "[1,]      1      1 0.01022135\n",
       "\n",
       "$vennCounts\n",
       "     tlx_gr rag_gr Counts\n",
       "[1,]      0      0      0\n",
       "[2,]      0      1     53\n",
       "[3,]      1      0   9511\n",
       "[4,]      1      1      1\n",
       "attr(,\"class\")\n",
       "[1] \"VennCounts\"\n"
      ]
     },
     "metadata": {},
     "output_type": "display_data"
    },
    {
     "data": {
      "image/png": "[encoded data removed]",
      "text/plain": [
       "plot without title"
      ]
     },
     "metadata": {},
     "output_type": "display_data"
    }
   ],
   "source": [
    "ol <- findOverlapsOfPeaks(tlx_gr, rag_gr)\n",
    "makeVennDiagram(ol)"
   ]
  },
  {
   "cell_type": "code",
   "execution_count": 108,
   "metadata": {
    "collapsed": false
   },
   "outputs": [],
   "source": [
    "## try http:// if https:// URLs are not supported\n",
    "#source(\"https://bioconductor.org/biocLite.R\")\n",
    "#biocLite(\"EnsDb.Hsapiens.v75\")\n",
    "#source(\"https://bioconductor.org/biocLite.R\")\n",
    "#biocLite(\"TxDb.Mmusculus.UCSC.mm9.knownGene\")\n",
    "#library(EnsDb.Hsapiens.v75)\n",
    "\n",
    "## create annotation file from EnsDb or TxDb\n",
    "library(EnsDb.Mmusculus.v75)\n",
    "library(GenomicFeatures)\n",
    "library(TxDb.Mmusculus.UCSC.mm9.knownGene)\n",
    "\n",
    "annoData <- genes(TxDb.Mmusculus.UCSC.mm9.knownGene)\n",
    "#annoData <- genes(EnsDb.Mmusculus.v75)"
   ]
  },
  {
   "cell_type": "code",
   "execution_count": 110,
   "metadata": {
    "collapsed": false
   },
   "outputs": [],
   "source": [
    "tlx_gr.anno <- annotatePeakInBatch(tlx_gr, AnnotationData=annoData, \n",
    "                                    output=\"overlapping\", maxgap=5000L)"
   ]
  },
  {
   "cell_type": "markdown",
   "metadata": {},
   "source": [
    "In addition to annotating peaks to nearest genes, ChIPpeakAnno can also reports all overlapping and flanking genes by setting output=“both” and maxgap in annotatePeakInBatch. For example, it outputs all overlapping and flanking genes within 5kb plus nearest genes if set maxgap = 5000 and output =“both”."
   ]
  },
  {
   "cell_type": "code",
   "execution_count": 125,
   "metadata": {
    "collapsed": false
   },
   "outputs": [
    {
     "data": {
      "text/plain": [
       "GRanges object with 6 ranges and 10 metadata columns:\n",
       "                          seqnames             ranges strand |     score\n",
       "                             <Rle>          <IRanges>  <Rle> | <numeric>\n",
       "  TLX3_TLX3_peak_1.620393     chr1 [6363293, 6363293]      * |  49.73278\n",
       "  TLX3_TLX3_peak_2.240690     chr1 [6443751, 6443751]      * | 116.91567\n",
       "  TLX3_TLX3_peak_3.240690     chr1 [6509345, 6509345]      * | 309.41519\n",
       "  TLX3_TLX3_peak_4.170755     chr1 [9797954, 9797954]      * |  16.85537\n",
       "  TLX3_TLX3_peak_5.170755     chr1 [9823731, 9823731]      * |  24.26228\n",
       "  TLX3_TLX3_peak_6.170755     chr1 [9873326, 9873326]      * |  56.33292\n",
       "                                      peak     feature start_position\n",
       "                               <character> <character>      <integer>\n",
       "  TLX3_TLX3_peak_1.620393 TLX3_TLX3_peak_1      620393        6349412\n",
       "  TLX3_TLX3_peak_2.240690 TLX3_TLX3_peak_2      240690        6477312\n",
       "  TLX3_TLX3_peak_3.240690 TLX3_TLX3_peak_3      240690        6477312\n",
       "  TLX3_TLX3_peak_4.170755 TLX3_TLX3_peak_4      170755        9788211\n",
       "  TLX3_TLX3_peak_5.170755 TLX3_TLX3_peak_5      170755        9788211\n",
       "  TLX3_TLX3_peak_6.170755 TLX3_TLX3_peak_6      170755        9788211\n",
       "                          end_position feature_strand insideFeature\n",
       "                             <integer>    <character>      <factor>\n",
       "  TLX3_TLX3_peak_1.620393      6384812              +        inside\n",
       "  TLX3_TLX3_peak_2.240690      6851021              +      upstream\n",
       "  TLX3_TLX3_peak_3.240690      6851021              +        inside\n",
       "  TLX3_TLX3_peak_4.170755      9892649              +        inside\n",
       "  TLX3_TLX3_peak_5.170755      9892649              +        inside\n",
       "  TLX3_TLX3_peak_6.170755      9892649              +        inside\n",
       "                          distancetoFeature shortestDistance\n",
       "                                  <numeric>        <integer>\n",
       "  TLX3_TLX3_peak_1.620393             13881            13881\n",
       "  TLX3_TLX3_peak_2.240690            -33561            33561\n",
       "  TLX3_TLX3_peak_3.240690             32033            32033\n",
       "  TLX3_TLX3_peak_4.170755              9743             9743\n",
       "  TLX3_TLX3_peak_5.170755             35520            35520\n",
       "  TLX3_TLX3_peak_6.170755             85115            19323\n",
       "                          fromOverlappingOrNearest\n",
       "                                       <character>\n",
       "  TLX3_TLX3_peak_1.620393          NearestLocation\n",
       "  TLX3_TLX3_peak_2.240690          NearestLocation\n",
       "  TLX3_TLX3_peak_3.240690          NearestLocation\n",
       "  TLX3_TLX3_peak_4.170755          NearestLocation\n",
       "  TLX3_TLX3_peak_5.170755          NearestLocation\n",
       "  TLX3_TLX3_peak_6.170755              Overlapping\n",
       "  -------\n",
       "  seqinfo: 26 sequences from an unspecified genome; no seqlengths"
      ]
     },
     "metadata": {},
     "output_type": "display_data"
    }
   ],
   "source": [
    "tlx_gr.anno_both <- annotatePeakInBatch(tlx_gr, AnnotationData=annoData, \n",
    "                                    output=\"both\", maxgap=5000)\n",
    "head(tlx_gr.anno_both)"
   ]
  },
  {
   "cell_type": "code",
   "execution_count": 89,
   "metadata": {
    "collapsed": true
   },
   "outputs": [],
   "source": [
    "#tlx_gr.anno$gene_name <- \n",
    "#    annoData$gene_name[match(tlx_gr.anno$feature,\n",
    "#                             names(annoData))]"
   ]
  },
  {
   "cell_type": "code",
   "execution_count": 111,
   "metadata": {
    "collapsed": false
   },
   "outputs": [
    {
     "data": {
      "image/png": "[encoded data removed]",
      "text/plain": [
       "Plot with title \"Distribution of aggregated peak numbers around TSS\""
      ]
     },
     "metadata": {},
     "output_type": "display_data"
    }
   ],
   "source": [
    "tlx_gr.copy <- tlx_gr\n",
    "tlx_gr.copy$score <- 1\n",
    "binOverFeature(tlx_gr, tlx_gr.copy, annotationData=annoData,\n",
    "               radius=5000, nbins=10, FUN=c(sum, length),\n",
    "               ylab=c(\"score\", \"count\"), \n",
    "               main=c(\"Distribution of aggregated peak scores around TSS\", \n",
    "                      \"Distribution of aggregated peak numbers around TSS\"))"
   ]
  },
  {
   "cell_type": "markdown",
   "metadata": {},
   "source": [
    "The distribution of the peaks over exon, intron, enhancer, proximal promoter, 5’ UTR and 3’ UTR can be summarized in peak centric or nucleotide centric view using the function assignChromosomeRegion. Please note that setting nucleotideLevel = TRUE will give a nucleotide level distribution over different features.\n",
    "\n"
   ]
  },
  {
   "cell_type": "code",
   "execution_count": 123,
   "metadata": {
    "collapsed": false
   },
   "outputs": [
    {
     "name": "stderr",
     "output_type": "stream",
     "text": [
      "Loading required package: FDb.UCSC.tRNAs\n"
     ]
    },
    {
     "data": {
      "image/png": "[encoded data removed]",
      "text/plain": [
       "plot without title"
      ]
     },
     "metadata": {},
     "output_type": "display_data"
    }
   ],
   "source": [
    "if(require(TxDb.Mmusculus.UCSC.mm9.knownGene)){\n",
    "    aCR<-assignChromosomeRegion(tlx_gr, nucleotideLevel=FALSE, \n",
    "                           precedence=c(\"Promoters\", \"immediateDownstream\", \n",
    "                                         \"fiveUTRs\", \"threeUTRs\", \n",
    "                                         \"Exons\", \"Introns\"), \n",
    "                           TxDb=TxDb.Mmusculus.UCSC.mm9.knownGene)\n",
    "    barplot(aCR$percentage)\n",
    "}"
   ]
  },
  {
   "cell_type": "code",
   "execution_count": 124,
   "metadata": {
    "collapsed": false
   },
   "outputs": [
    {
     "data": {
      "text/html": [
       "<dl>\n",
       "\t<dt>$percentage</dt>\n",
       "\t\t<dd><dl class=dl-horizontal>\n",
       "\t<dt>Promoters</dt>\n",
       "\t\t<dd>14.5815811606392</dd>\n",
       "\t<dt>immediateDownstream</dt>\n",
       "\t\t<dd>1.80824222035324</dd>\n",
       "\t<dt>fiveUTRs</dt>\n",
       "\t\t<dd>1.49285113540791</dd>\n",
       "\t<dt>threeUTRs</dt>\n",
       "\t\t<dd>1.09335576114382</dd>\n",
       "\t<dt>Exons</dt>\n",
       "\t\t<dd>1.66105971404542</dd>\n",
       "\t<dt>Introns</dt>\n",
       "\t\t<dd>39.8128679562658</dd>\n",
       "\t<dt>Intergenic.Region</dt>\n",
       "\t\t<dd>39.5500420521447</dd>\n",
       "</dl>\n",
       "</dd>\n",
       "\t<dt>$jaccard</dt>\n",
       "\t\t<dd><dl class=dl-horizontal>\n",
       "\t<dt>Promoters</dt>\n",
       "\t\t<dd>0.0293464232063136</dd>\n",
       "\t<dt>immediateDownstream</dt>\n",
       "\t\t<dd>0.00478984801045058</dd>\n",
       "\t<dt>fiveUTRs</dt>\n",
       "\t\t<dd>0.00380719287511048</dd>\n",
       "\t<dt>threeUTRs</dt>\n",
       "\t\t<dd>0.00297764201555561</dd>\n",
       "\t<dt>Exons</dt>\n",
       "\t\t<dd>0.00214060696186432</dd>\n",
       "\t<dt>Introns</dt>\n",
       "\t\t<dd>0.0189322346563688</dd>\n",
       "\t<dt>Intergenic.Region</dt>\n",
       "\t\t<dd>0.383017585591708</dd>\n",
       "</dl>\n",
       "</dd>\n",
       "</dl>\n"
      ],
      "text/plain": [
       "$percentage\n",
       "subjectHits\n",
       "          Promoters immediateDownstream            fiveUTRs           threeUTRs \n",
       "          14.581581            1.808242            1.492851            1.093356 \n",
       "              Exons             Introns   Intergenic.Region \n",
       "           1.661060           39.812868           39.550042 \n",
       "\n",
       "$jaccard\n",
       "          Promoters immediateDownstream            fiveUTRs           threeUTRs \n",
       "        0.029346423         0.004789848         0.003807193         0.002977642 \n",
       "              Exons             Introns   Intergenic.Region \n",
       "        0.002140607         0.018932235         0.383017586 \n"
      ]
     },
     "metadata": {},
     "output_type": "display_data"
    }
   ],
   "source": [
    "aCR"
   ]
  },
  {
   "cell_type": "code",
   "execution_count": 118,
   "metadata": {
    "collapsed": true
   },
   "outputs": [],
   "source": [
    "path <- system.file(\"extdata\", package=\"ChIPpeakAnno\")\n",
    "files <- dir(path, \"bigWig\")"
   ]
  },
  {
   "cell_type": "code",
   "execution_count": 119,
   "metadata": {
    "collapsed": false
   },
   "outputs": [
    {
     "data": {
      "text/html": [
       "<ol class=list-inline>\n",
       "\t<li>'TAF.bigWig'</li>\n",
       "\t<li>'Tead4.bigWig'</li>\n",
       "\t<li>'YY1.bigWig'</li>\n",
       "</ol>\n"
      ],
      "text/latex": [
       "\\begin{enumerate*}\n",
       "\\item 'TAF.bigWig'\n",
       "\\item 'Tead4.bigWig'\n",
       "\\item 'YY1.bigWig'\n",
       "\\end{enumerate*}\n"
      ],
      "text/markdown": [
       "1. 'TAF.bigWig'\n",
       "2. 'Tead4.bigWig'\n",
       "3. 'YY1.bigWig'\n",
       "\n",
       "\n"
      ],
      "text/plain": [
       "[1] \"TAF.bigWig\"   \"Tead4.bigWig\" \"YY1.bigWig\"  "
      ]
     },
     "metadata": {},
     "output_type": "display_data"
    }
   ],
   "source": [
    "files"
   ]
  },
  {
   "cell_type": "code",
   "execution_count": 120,
   "metadata": {
    "collapsed": false
   },
   "outputs": [
    {
     "data": {
      "text/html": [
       "'/home/sergio/R/x86_64-pc-linux-gnu-library/3.2/ChIPpeakAnno/extdata'"
      ],
      "text/latex": [
       "'/home/sergio/R/x86\\_64-pc-linux-gnu-library/3.2/ChIPpeakAnno/extdata'"
      ],
      "text/markdown": [
       "'/home/sergio/R/x86_64-pc-linux-gnu-library/3.2/ChIPpeakAnno/extdata'"
      ],
      "text/plain": [
       "[1] \"/home/sergio/R/x86_64-pc-linux-gnu-library/3.2/ChIPpeakAnno/extdata\""
      ]
     },
     "metadata": {},
     "output_type": "display_data"
    }
   ],
   "source": [
    "path"
   ]
  },
  {
   "cell_type": "code",
   "execution_count": 121,
   "metadata": {
    "collapsed": false
   },
   "outputs": [
    {
     "ename": "ERROR",
     "evalue": "Error in !ls: invalid argument type\n",
     "output_type": "error",
     "traceback": [
      "Error in !ls: invalid argument type\nTraceback:\n"
     ]
    }
   ],
   "source": []
  },
  {
   "cell_type": "code",
   "execution_count": null,
   "metadata": {
    "collapsed": true
   },
   "outputs": [],
   "source": []
  }
 ],
 "metadata": {
  "kernelspec": {
   "display_name": "R",
   "language": "R",
   "name": "ir"
  },
  "language_info": {
   "codemirror_mode": "r",
   "file_extension": ".r",
   "mimetype": "text/x-r-source",
   "name": "R",
   "pygments_lexer": "r",
   "version": "3.3.2"
  }
 },
 "nbformat": 4,
 "nbformat_minor": 2
}
