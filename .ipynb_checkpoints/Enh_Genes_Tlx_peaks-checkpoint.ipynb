{
 "cells": [
  {
   "cell_type": "code",
   "execution_count": 1,
   "metadata": {
    "collapsed": false
   },
   "outputs": [
    {
     "name": "stderr",
     "output_type": "stream",
     "text": [
      "/home/sergio/miniconda3/lib/python3.5/importlib/_bootstrap.py:222: RuntimeWarning: numpy.dtype size changed, may indicate binary incompatibility. Expected 96, got 88\n",
      "  return f(*args, **kwds)\n",
      "/home/sergio/miniconda3/lib/python3.5/importlib/_bootstrap.py:222: RuntimeWarning: numpy.dtype size changed, may indicate binary incompatibility. Expected 96, got 88\n",
      "  return f(*args, **kwds)\n",
      "/home/sergio/miniconda3/lib/python3.5/importlib/_bootstrap.py:222: RuntimeWarning: numpy.dtype size changed, may indicate binary incompatibility. Expected 96, got 88\n",
      "  return f(*args, **kwds)\n"
     ]
    }
   ],
   "source": [
    "import pybedtools as pb\n",
    "import numpy as np\n",
    "#import scipy\n",
    "import pandas as pd\n",
    "#import matplotlib as mpl\n",
    "import matplotlib.pyplot as plt\n",
    "%matplotlib inline\n",
    "import seaborn as sns"
   ]
  },
  {
   "cell_type": "markdown",
   "metadata": {},
   "source": [
    "## Load enhancers "
   ]
  },
  {
   "cell_type": "code",
   "execution_count": 13,
   "metadata": {
    "collapsed": false
   },
   "outputs": [],
   "source": [
    "enh = pb.BedTool('tracks/Enhancers_ChromHMM.bed')\n",
    "enh_df = enh.to_dataframe()\n",
    "\n",
    "# Enh to genes table\n",
    "enh2gn = pd.read_table('tracks/Enhancers_ChromHMM_enh2genes.txt', \n",
    "                        header=1, \n",
    "                        names=['enhancers','gene_name'])\n",
    "# Gene to enh table\n",
    "gn2enh = pd.read_table('tracks/Enhancers_ChromHMM_genes2enh.txt', \n",
    "                        header=1, \n",
    "                        names=['gene_name','enhancers'])\n",
    "\n",
    "def enh_gene(gen,df):\n",
    "    reg = df[df['gene_name']==gen]\n",
    "    if len(reg)>0:\n",
    "        dr = reg.iloc[0]['enhancers'].split(' ')\n",
    "        enhl = [x for x in dr if 'enh' in x]\n",
    "    else:\n",
    "        enhl=[]  \n",
    "    return enhl\n",
    "\n",
    "\n",
    "def enh_l_gene(genl,df):\n",
    "    enhll = list()\n",
    "    for gen in genl:\n",
    "        reg = df[df['gene_name']==gen]\n",
    "        if len(reg)>0:\n",
    "            dr = reg.iloc[0]['enhancers'].split(' ')\n",
    "            enhl = [x for x in dr if 'enh' in x]\n",
    "        else:\n",
    "            enhl=[]\n",
    "        enhll = enhll+enhl\n",
    "    return list(set(enhll))\n",
    "\n",
    "\n",
    "def gene_enh(enh,df):\n",
    "    reg = df[df['enhancers']==enh]\n",
    "    if len(reg)>0:\n",
    "        ls = reg.iloc[0]['gene_name'].split(', ')\n",
    "        gl=[tr.split(' (')[0] for tr in ls]\n",
    "    else:\n",
    "        gl=[]  \n",
    "    return gl\n",
    "\n",
    "def gene_l_enh(enll,df):\n",
    "    genl = list()\n",
    "    for enh in enll:\n",
    "        reg = df[df['enhancers']==enh]\n",
    "        if len(reg)>0:\n",
    "            ls = reg.iloc[0]['gene_name'].split(', ')\n",
    "            gl=[tr.split(' (')[0] for tr in ls]\n",
    "        else:\n",
    "            gl=[]\n",
    "        genl = genl+gl\n",
    "    return list(set(genl))"
   ]
  },
  {
   "cell_type": "code",
   "execution_count": 9,
   "metadata": {
    "collapsed": false
   },
   "outputs": [
    {
     "data": {
      "text/html": [
       "<div>\n",
       "<style scoped>\n",
       "    .dataframe tbody tr th:only-of-type {\n",
       "        vertical-align: middle;\n",
       "    }\n",
       "\n",
       "    .dataframe tbody tr th {\n",
       "        vertical-align: top;\n",
       "    }\n",
       "\n",
       "    .dataframe thead th {\n",
       "        text-align: right;\n",
       "    }\n",
       "</style>\n",
       "<table border=\"1\" class=\"dataframe\">\n",
       "  <thead>\n",
       "    <tr style=\"text-align: right;\">\n",
       "      <th></th>\n",
       "      <th>chrom</th>\n",
       "      <th>start</th>\n",
       "      <th>end</th>\n",
       "      <th>name</th>\n",
       "    </tr>\n",
       "  </thead>\n",
       "  <tbody>\n",
       "    <tr>\n",
       "      <th>0</th>\n",
       "      <td>chr1</td>\n",
       "      <td>6397000</td>\n",
       "      <td>6397400</td>\n",
       "      <td>enh_0</td>\n",
       "    </tr>\n",
       "    <tr>\n",
       "      <th>1</th>\n",
       "      <td>chr1</td>\n",
       "      <td>6442800</td>\n",
       "      <td>6443400</td>\n",
       "      <td>enh_1</td>\n",
       "    </tr>\n",
       "    <tr>\n",
       "      <th>2</th>\n",
       "      <td>chr1</td>\n",
       "      <td>6445000</td>\n",
       "      <td>6446000</td>\n",
       "      <td>enh_2</td>\n",
       "    </tr>\n",
       "    <tr>\n",
       "      <th>3</th>\n",
       "      <td>chr1</td>\n",
       "      <td>6456800</td>\n",
       "      <td>6458000</td>\n",
       "      <td>enh_3</td>\n",
       "    </tr>\n",
       "    <tr>\n",
       "      <th>4</th>\n",
       "      <td>chr1</td>\n",
       "      <td>7444800</td>\n",
       "      <td>7445800</td>\n",
       "      <td>enh_4</td>\n",
       "    </tr>\n",
       "  </tbody>\n",
       "</table>\n",
       "</div>"
      ],
      "text/plain": [
       "  chrom    start      end   name\n",
       "0  chr1  6397000  6397400  enh_0\n",
       "1  chr1  6442800  6443400  enh_1\n",
       "2  chr1  6445000  6446000  enh_2\n",
       "3  chr1  6456800  6458000  enh_3\n",
       "4  chr1  7444800  7445800  enh_4"
      ]
     },
     "execution_count": 9,
     "metadata": {},
     "output_type": "execute_result"
    }
   ],
   "source": [
    "#gens = ['Tm9sf2', 'Tle3']\n",
    "#enhs = ['enh_168', 'enh_1683', 'enh_268']\n",
    "#enh_l_gene(gens,gn2enh)\n",
    "#enh_l_gene(gene_l_enh(enhs,enh2gn),gn2enh)\n",
    "#enh_df.head()"
   ]
  },
  {
   "cell_type": "markdown",
   "metadata": {},
   "source": [
    "## Load peaks "
   ]
  },
  {
   "cell_type": "code",
   "execution_count": 10,
   "metadata": {
    "collapsed": true
   },
   "outputs": [],
   "source": [
    "tlx = pb.BedTool('tracks/TLX3_TLX3_peaks.bed')\n",
    "tlx_df =tlx.to_dataframe(names=['chr','start','end','name','score'])\n",
    "\n",
    "#shr = 100\n",
    "#top = tlx_df[tlx_df['score']>shr].sort_values('score', axis=0, ascending=False)\n",
    "#tlx_top = pb.BedTool.from_dataframe(top)"
   ]
  },
  {
   "cell_type": "code",
   "execution_count": 37,
   "metadata": {
    "collapsed": false
   },
   "outputs": [],
   "source": [
    "#(enh+tlx).head()"
   ]
  },
  {
   "cell_type": "markdown",
   "metadata": {},
   "source": [
    "## Load TSS"
   ]
  },
  {
   "cell_type": "code",
   "execution_count": 16,
   "metadata": {
    "collapsed": true
   },
   "outputs": [],
   "source": [
    "genes = pb.BedTool('tracks/annot_tracks/genes.bed')\n",
    "\n",
    "### == TSS region\n",
    "tss =  3000"
   ]
  },
  {
   "cell_type": "code",
   "execution_count": 31,
   "metadata": {
    "collapsed": true
   },
   "outputs": [],
   "source": [
    "def gen_wth_peaks(en,enh2gn,tlx,genes,tss=3000):\n",
    "    gn_tss = genes.slop(b=tss, genome='mm9')\n",
    "    gn_tss_tlx=gn_tss+tlx\n",
    "    gn_tss_tlx_df = gn_tss_tlx.to_dataframe()\n",
    "    \n",
    "    gn_tlx_l =list(gn_tss_tlx_df['name']) \n",
    "    \n",
    "    gl = gene_enh(en,enh2gn)\n",
    "    \n",
    "    return list(set(gl) & set(gn_tlx_l))"
   ]
  },
  {
   "cell_type": "code",
   "execution_count": 57,
   "metadata": {
    "collapsed": false
   },
   "outputs": [],
   "source": [
    "enh_tlx = enh+tlx\n",
    "enh_tlx_df = enh_tlx.to_dataframe()"
   ]
  },
  {
   "cell_type": "code",
   "execution_count": 60,
   "metadata": {
    "collapsed": false
   },
   "outputs": [],
   "source": [
    "import warnings\n",
    "warnings.filterwarnings('ignore')\n",
    "\n",
    "\n",
    "#enh_tlx_df.head()\n",
    "enh_tlx_df['gentlx'] = enh_tlx_df.apply(lambda row: gen_wth_peaks(row['name'],enh2gn,tlx,genes), axis=1)\n",
    "\n",
    "#for i in enh_tlx_df.index:\n",
    "#    enh_tlx_df.loc[i]['gene_tlx'] = gen_wth_peaks(enh_tlx_df.loc[i]['name'],enh2gn,tlx,genes)\n",
    "\n",
    "#enh_tlx_df.loc[5]['name']\n",
    "#enh_tlx_df.head()"
   ]
  },
  {
   "cell_type": "code",
   "execution_count": 65,
   "metadata": {
    "collapsed": false
   },
   "outputs": [
    {
     "data": {
      "text/html": [
       "<div>\n",
       "<style scoped>\n",
       "    .dataframe tbody tr th:only-of-type {\n",
       "        vertical-align: middle;\n",
       "    }\n",
       "\n",
       "    .dataframe tbody tr th {\n",
       "        vertical-align: top;\n",
       "    }\n",
       "\n",
       "    .dataframe thead th {\n",
       "        text-align: right;\n",
       "    }\n",
       "</style>\n",
       "<table border=\"1\" class=\"dataframe\">\n",
       "  <thead>\n",
       "    <tr style=\"text-align: right;\">\n",
       "      <th></th>\n",
       "      <th>chrom</th>\n",
       "      <th>start</th>\n",
       "      <th>end</th>\n",
       "      <th>name</th>\n",
       "      <th>gentlx</th>\n",
       "      <th>num_gentlx</th>\n",
       "    </tr>\n",
       "  </thead>\n",
       "  <tbody>\n",
       "    <tr>\n",
       "      <th>0</th>\n",
       "      <td>chr1</td>\n",
       "      <td>9797600</td>\n",
       "      <td>9798600</td>\n",
       "      <td>enh_8</td>\n",
       "      <td>[Sgk3]</td>\n",
       "      <td>1</td>\n",
       "    </tr>\n",
       "    <tr>\n",
       "      <th>1</th>\n",
       "      <td>chr1</td>\n",
       "      <td>9822800</td>\n",
       "      <td>9824600</td>\n",
       "      <td>enh_11</td>\n",
       "      <td>[Sgk3]</td>\n",
       "      <td>1</td>\n",
       "    </tr>\n",
       "    <tr>\n",
       "      <th>2</th>\n",
       "      <td>chr1</td>\n",
       "      <td>10314600</td>\n",
       "      <td>10315800</td>\n",
       "      <td>enh_16</td>\n",
       "      <td>[Cpa6]</td>\n",
       "      <td>1</td>\n",
       "    </tr>\n",
       "    <tr>\n",
       "      <th>3</th>\n",
       "      <td>chr1</td>\n",
       "      <td>13257400</td>\n",
       "      <td>13258400</td>\n",
       "      <td>enh_22</td>\n",
       "      <td>[Ncoa2]</td>\n",
       "      <td>1</td>\n",
       "    </tr>\n",
       "    <tr>\n",
       "      <th>4</th>\n",
       "      <td>chr1</td>\n",
       "      <td>13564000</td>\n",
       "      <td>13565000</td>\n",
       "      <td>enh_27</td>\n",
       "      <td>[Tram1, Ncoa2]</td>\n",
       "      <td>2</td>\n",
       "    </tr>\n",
       "  </tbody>\n",
       "</table>\n",
       "</div>"
      ],
      "text/plain": [
       "  chrom     start       end    name          gentlx  num_gentlx\n",
       "0  chr1   9797600   9798600   enh_8          [Sgk3]           1\n",
       "1  chr1   9822800   9824600  enh_11          [Sgk3]           1\n",
       "2  chr1  10314600  10315800  enh_16          [Cpa6]           1\n",
       "3  chr1  13257400  13258400  enh_22         [Ncoa2]           1\n",
       "4  chr1  13564000  13565000  enh_27  [Tram1, Ncoa2]           2"
      ]
     },
     "execution_count": 65,
     "metadata": {},
     "output_type": "execute_result"
    }
   ],
   "source": [
    "enh_tlx_df['num_gentlx'] = enh_tlx_df.apply(lambda row: len(row['gentlx']), axis=1)\n",
    "\n",
    "enh_tlx_df.head()\n",
    "\n",
    "#enh_tlx_df.loc[300:350,:]\n",
    "#gen_wth_peaks('enh_1201',enh2gn,tlx,genes)"
   ]
  },
  {
   "cell_type": "markdown",
   "metadata": {},
   "source": [
    "## Load mutations"
   ]
  },
  {
   "cell_type": "code",
   "execution_count": null,
   "metadata": {
    "collapsed": true
   },
   "outputs": [],
   "source": [
    "ftlx = 'tracks/WGS-WES/Germline/FERRIER_09_Germline.allchr.snpEff.p.SAL.SAL10_1.vcf'\n",
    "var_b = pb.BedTool(ftlx)"
   ]
  },
  {
   "cell_type": "code",
   "execution_count": null,
   "metadata": {
    "collapsed": false
   },
   "outputs": [],
   "source": [
    "#allTLX_list =list(all_tss_gene['name'])\n",
    "#allTLX_list.sort()\n",
    "#len(allTLX_list)"
   ]
  },
  {
   "cell_type": "code",
   "execution_count": null,
   "metadata": {
    "collapsed": false
   },
   "outputs": [],
   "source": [
    "#a,b,c = plt.hist(np.log(tlx_df['score']), bins=100)\n",
    "#a,b,c = plt.hist(tlx_df['score'], bins=100)"
   ]
  },
  {
   "cell_type": "markdown",
   "metadata": {},
   "source": [
    "## Intersect enhancers and high score peaks"
   ]
  },
  {
   "cell_type": "code",
   "execution_count": null,
   "metadata": {
    "collapsed": false
   },
   "outputs": [],
   "source": [
    "#enh_tlx_top = enh+tlx_top "
   ]
  },
  {
   "cell_type": "code",
   "execution_count": null,
   "metadata": {
    "collapsed": false
   },
   "outputs": [],
   "source": [
    "#enh_tlx_top.head()"
   ]
  },
  {
   "cell_type": "markdown",
   "metadata": {},
   "source": [
    "## Load WGS variants"
   ]
  },
  {
   "cell_type": "code",
   "execution_count": null,
   "metadata": {
    "collapsed": false
   },
   "outputs": [],
   "source": [
    "path = 'tracks/WGS-WES/Germline/'\n",
    "ftlx = 'tracks/WGS-WES/Germline/FERRIER_09_Germline.allchr.snpEff.p.SAL.SAL10_1.vcf'\n",
    "var_b = pb.BedTool(ftlx)"
   ]
  },
  {
   "cell_type": "markdown",
   "metadata": {},
   "source": [
    "## Find variants in enhancers with TLX3 peaks"
   ]
  },
  {
   "cell_type": "code",
   "execution_count": null,
   "metadata": {
    "collapsed": true
   },
   "outputs": [],
   "source": [
    "var_ehn_tlx = var_b+enh_tlx_top"
   ]
  },
  {
   "cell_type": "code",
   "execution_count": null,
   "metadata": {
    "collapsed": false
   },
   "outputs": [],
   "source": [
    "var_ehn_tlx_df = var_ehn_tlx.to_dataframe(names=['CHROM','POS','ID','REF','ALT','QUAL','FILTER','INFO','FORMAT','AC3812','AC3813','AC3814','AC3815'])"
   ]
  },
  {
   "cell_type": "code",
   "execution_count": null,
   "metadata": {
    "collapsed": false
   },
   "outputs": [],
   "source": [
    "#var_ehn_tlx_df.head(10)\n",
    "len(var_ehn_tlx_df)"
   ]
  },
  {
   "cell_type": "code",
   "execution_count": null,
   "metadata": {
    "collapsed": false
   },
   "outputs": [],
   "source": [
    "# Enhancers Table manipulation\n",
    "enh2gn = pd.read_table('tracks/Enhancers_ChromHMM_enh2genes.txt', \n",
    "                        header=1, \n",
    "                        names=['enhancers','gene_name'])"
   ]
  },
  {
   "cell_type": "code",
   "execution_count": null,
   "metadata": {
    "collapsed": false
   },
   "outputs": [],
   "source": [
    "enh_tlx_top_df = enh_tlx_top.to_dataframe()"
   ]
  },
  {
   "cell_type": "code",
   "execution_count": null,
   "metadata": {
    "collapsed": false
   },
   "outputs": [],
   "source": [
    "enh_nm = list(enh_tlx_top_df['name'])"
   ]
  },
  {
   "cell_type": "code",
   "execution_count": null,
   "metadata": {
    "collapsed": false
   },
   "outputs": [],
   "source": [
    "enh2gn_top = enh2gn[enh2gn['enhancers'].isin(enh_nm)]"
   ]
  },
  {
   "cell_type": "code",
   "execution_count": null,
   "metadata": {
    "collapsed": true
   },
   "outputs": [],
   "source": [
    "a = list()\n",
    "for i in range(len(enh2gn_top )):\n",
    "    ls = enh2gn_top['gene_name'].iloc[i].split(', ')\n",
    "    a=a+[tr.split(' (')[0] for tr in ls]\n"
   ]
  },
  {
   "cell_type": "code",
   "execution_count": null,
   "metadata": {
    "collapsed": false
   },
   "outputs": [],
   "source": [
    "len(set(a))"
   ]
  },
  {
   "cell_type": "markdown",
   "metadata": {},
   "source": [
    "# Enrichment"
   ]
  },
  {
   "cell_type": "code",
   "execution_count": null,
   "metadata": {
    "collapsed": false
   },
   "outputs": [],
   "source": [
    "\n",
    "import EnrichRLib as erl\n",
    "# List of gene sets as above\n",
    "gss = [ \n",
    "       'GO_Biological_Process_2018',\n",
    "       'GO_Cellular_Component_2018',\n",
    "       'GO_Molecular_Function_2018',\n",
    "       'KEGG_2016',\n",
    "       'Reactome_2016'\n",
    "       ]"
   ]
  },
  {
   "cell_type": "code",
   "execution_count": null,
   "metadata": {
    "collapsed": false
   },
   "outputs": [],
   "source": [
    "a = [x.upper() for x in a]\n",
    "\n",
    "enr_a = erl.enrich_gs(a,gss)\n",
    "\n"
   ]
  },
  {
   "cell_type": "code",
   "execution_count": null,
   "metadata": {
    "collapsed": false
   },
   "outputs": [],
   "source": [
    "# --- Plot ---\n",
    "enr_a.sort_values('p-Val', axis=0, inplace = True)\n",
    "ds = enr_a.head(20)\n",
    "\n",
    "f, ax = plt.subplots()\n",
    "sns.barplot(y=ds.index,\n",
    "            x='-log10(p-Val)',\n",
    "            ax = ax, \n",
    "            color=\"Red\", \n",
    "            data = ds)\n",
    "ax.set_title('Genes regulated by enhancers with high Tlx3 peaks')"
   ]
  },
  {
   "cell_type": "markdown",
   "metadata": {},
   "source": [
    "# Expression analysis"
   ]
  },
  {
   "cell_type": "code",
   "execution_count": null,
   "metadata": {
    "collapsed": true
   },
   "outputs": [],
   "source": [
    "import RNA_expression_processing as rn\n",
    "from os.path import join"
   ]
  },
  {
   "cell_type": "code",
   "execution_count": null,
   "metadata": {
    "collapsed": false
   },
   "outputs": [],
   "source": [
    "tbl = pd.read_table(join('tracks', 'TLX3vsRAG-results_genesNames.txt'), index_col=0)\n",
    "#tbl = tbl[(tbl.padj < 0.05)].dropna()\n",
    "\n",
    "# === Pheno ==\n",
    "A,B = 'TLX3','RAG'\n",
    "classes = [A]*3+[B]*3\n",
    "\n",
    "\n",
    "cols = ['Gene_name', 'TLX3.1_1','TLX3.1_5','TLX3.1_P','R2.RAG1W.RAG1','RAGS.RAGZ','RAGZ']\n",
    "\n",
    "tbn = tbl[cols]\n",
    "tbv = tbn.set_index(keys=tbn.columns[0])\n",
    "tbv.index=tbv.index.str.upper()\n",
    "\n"
   ]
  },
  {
   "cell_type": "code",
   "execution_count": null,
   "metadata": {
    "collapsed": false
   },
   "outputs": [],
   "source": [
    "\n",
    "### == UP analysis\n",
    "\n",
    "tbu = tbv.iloc[tbv.index.isin(a)]\n"
   ]
  },
  {
   "cell_type": "code",
   "execution_count": null,
   "metadata": {
    "collapsed": false
   },
   "outputs": [],
   "source": [
    "jj,kk,ll=rn.scatter_n(tbu, A, B, classes, n_top=3, ttl='') "
   ]
  },
  {
   "cell_type": "code",
   "execution_count": null,
   "metadata": {
    "collapsed": false
   },
   "outputs": [],
   "source": [
    "ntop=40\n",
    "gr = rn.cluster(tbu, A, B, classes, n_top=ntop)\n",
    "gr.ax_heatmap.set_title('Cluster '+A+'/'+B)"
   ]
  },
  {
   "cell_type": "code",
   "execution_count": null,
   "metadata": {
    "collapsed": true
   },
   "outputs": [],
   "source": []
  }
 ],
 "metadata": {
  "kernelspec": {
   "display_name": "Python 3",
   "language": "python",
   "name": "python3"
  },
  "language_info": {
   "codemirror_mode": {
    "name": "ipython",
    "version": 3
   },
   "file_extension": ".py",
   "mimetype": "text/x-python",
   "name": "python",
   "nbconvert_exporter": "python",
   "pygments_lexer": "ipython3",
   "version": "3.5.2"
  }
 },
 "nbformat": 4,
 "nbformat_minor": 2
}
