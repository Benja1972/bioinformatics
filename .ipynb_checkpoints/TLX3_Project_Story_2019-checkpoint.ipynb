{
 "cells": [
  {
   "cell_type": "code",
   "execution_count": 11,
   "metadata": {
    "collapsed": false
   },
   "outputs": [],
   "source": [
    "import numpy as np\n",
    "import scipy\n",
    "import pandas as pd\n",
    "import pybedtools as pb\n",
    "\n",
    "# figs\n",
    "import matplotlib as mpl\n",
    "import matplotlib.pyplot as plt\n",
    "%matplotlib inline\n",
    "mpl.rcParams['figure.dpi']= 150\n",
    "import seaborn as sns\n",
    "\n",
    "\n",
    "#import h5py\n",
    "#import allel\n",
    "\n",
    "# my libs\n",
    "import EnrichRLib as erl\n",
    "import RNA_expression_processing as rn\n",
    "import Enh_Mut_Manip as emm\n",
    "\n",
    "# warnings\n",
    "import warnings\n",
    "warnings.filterwarnings('ignore')"
   ]
  },
  {
   "cell_type": "code",
   "execution_count": 30,
   "metadata": {
    "collapsed": true
   },
   "outputs": [],
   "source": [
    "# Project settings\n",
    "from os.path import join \n",
    "WORKDIR = '/home/sergio/Res_CIML/TLX3_project'\n",
    "SCRIPTS = join(WORKDIR,'scripts')\n",
    "DATADIR = join(WORKDIR,'data')\n",
    "WGS = join(DATADIR,'tracks/WGS-WES/Germline')\n",
    "RP = join(DATADIR,'tracks/MARGE/relativeRP/bam_input')"
   ]
  },
  {
   "cell_type": "markdown",
   "metadata": {},
   "source": [
    "# Data loading"
   ]
  },
  {
   "cell_type": "markdown",
   "metadata": {},
   "source": [
    "### Genome Wide mutations in TLX3"
   ]
  },
  {
   "cell_type": "code",
   "execution_count": 7,
   "metadata": {
    "collapsed": true
   },
   "outputs": [],
   "source": [
    "## == Genome vcf\n",
    "tlx_gn = pb.BedTool(join(WGS,'TLX3_WGS.vcf.gz'))"
   ]
  },
  {
   "cell_type": "code",
   "execution_count": 18,
   "metadata": {
    "collapsed": true
   },
   "outputs": [],
   "source": [
    "## == Expression table TLX3 vs RAG\n",
    "tbl = pd.read_table(join(DATADIR,'tracks', 'TLX3vsRAG-results_genesNames.txt'), index_col=0)\n",
    "#tbl = tbl[(tbl.padj < 0.05)].dropna()\n",
    "\n",
    "# -- Pheno --\n",
    "A,B = 'TLX3','RAG'\n",
    "classes = [A]*3+[B]*3\n",
    "\n",
    "\n",
    "cols = ['Gene_name', 'TLX3.1_1','TLX3.1_5','TLX3.1_P','R2.RAG1W.RAG1','RAGS.RAGZ','RAGZ']\n",
    "\n",
    "tbn = tbl[cols]\n",
    "expr = tbn.set_index(keys=tbn.columns[0])\n",
    "#expr.index = expr.index.str.upper()"
   ]
  },
  {
   "cell_type": "code",
   "execution_count": 19,
   "metadata": {
    "collapsed": false
   },
   "outputs": [],
   "source": [
    "## == Enhancers \n",
    "enh = pb.BedTool(join(DATADIR,'tracks/Enhancers_ChromHMM.bed'))\n",
    "enh_df = enh.to_dataframe()\n",
    "\n",
    "# Enh to genes table\n",
    "enh2gn = pd.read_table(join(DATADIR,'tracks/Enhancers_ChromHMM_enh2genes.txt'), \n",
    "                        header=1, \n",
    "                        names=['enhancers','gene_name'])\n",
    "# Gene to enh table\n",
    "gn2enh = pd.read_table(join(DATADIR,'tracks/Enhancers_ChromHMM_genes2enh.txt'), \n",
    "                        header=1, \n",
    "                        names=['gene_name','enhancers'])\n"
   ]
  },
  {
   "cell_type": "code",
   "execution_count": 34,
   "metadata": {
    "collapsed": false
   },
   "outputs": [],
   "source": [
    "# Regulatory Potentials\n",
    "rpt  =  pd.read_table(join(RP,'RAG_TLX_TAP_relativeRP_mm10mm9.txt'))\n",
    "\n",
    "# -- transform\n",
    "rp = rpt.sort_values('lgFC_TLXvsRAG', axis=0, ascending=False)\n",
    "rp.drop_duplicates(subset='gene_name', inplace=True)\n",
    "\n",
    "\n",
    "A,B = 'TLX_rel_RP','RAG_rel_RP'\n",
    "cols = ['gene_name', A, B]\n",
    "\n",
    "rp = rp[cols]\n",
    "rp = rp.set_index(keys=rp.columns[0])\n"
   ]
  },
  {
   "cell_type": "code",
   "execution_count": 36,
   "metadata": {
    "collapsed": false
   },
   "outputs": [
    {
     "data": {
      "text/html": [
       "<div>\n",
       "<style scoped>\n",
       "    .dataframe tbody tr th:only-of-type {\n",
       "        vertical-align: middle;\n",
       "    }\n",
       "\n",
       "    .dataframe tbody tr th {\n",
       "        vertical-align: top;\n",
       "    }\n",
       "\n",
       "    .dataframe thead th {\n",
       "        text-align: right;\n",
       "    }\n",
       "</style>\n",
       "<table border=\"1\" class=\"dataframe\">\n",
       "  <thead>\n",
       "    <tr style=\"text-align: right;\">\n",
       "      <th></th>\n",
       "      <th>chr</th>\n",
       "      <th>start</th>\n",
       "      <th>end</th>\n",
       "      <th>gene_id</th>\n",
       "      <th>gene_name</th>\n",
       "      <th>strand</th>\n",
       "      <th>RAG_raw_RP</th>\n",
       "      <th>RAG_rel_RP</th>\n",
       "      <th>TLX_raw_RP</th>\n",
       "      <th>TLX_rel_RP</th>\n",
       "      <th>TAP_raw_RP</th>\n",
       "      <th>TAP_rel_RP</th>\n",
       "      <th>chr_mm9</th>\n",
       "      <th>strand_mm9</th>\n",
       "      <th>start_mm9</th>\n",
       "      <th>end_mm9</th>\n",
       "      <th>lgFC_TLXvsRAG</th>\n",
       "      <th>lgFC_TAPvsRAG</th>\n",
       "      <th>lgFC_TAPvsTLX</th>\n",
       "    </tr>\n",
       "  </thead>\n",
       "  <tbody>\n",
       "    <tr>\n",
       "      <th>0</th>\n",
       "      <td>chr1</td>\n",
       "      <td>134235457</td>\n",
       "      <td>134235458</td>\n",
       "      <td>NM_001282945</td>\n",
       "      <td>Adora1</td>\n",
       "      <td>-</td>\n",
       "      <td>1323.139261</td>\n",
       "      <td>0.718</td>\n",
       "      <td>1292.018637</td>\n",
       "      <td>0.701</td>\n",
       "      <td>536.407687</td>\n",
       "      <td>0.291</td>\n",
       "      <td>chr1</td>\n",
       "      <td>-</td>\n",
       "      <td>136132034</td>\n",
       "      <td>136132035</td>\n",
       "      <td>-0.034569</td>\n",
       "      <td>-1.302965</td>\n",
       "      <td>-1.268395</td>\n",
       "    </tr>\n",
       "    <tr>\n",
       "      <th>1</th>\n",
       "      <td>chr1</td>\n",
       "      <td>134235457</td>\n",
       "      <td>134235458</td>\n",
       "      <td>NM_001039510</td>\n",
       "      <td>Adora1</td>\n",
       "      <td>-</td>\n",
       "      <td>1323.139261</td>\n",
       "      <td>0.718</td>\n",
       "      <td>1292.018637</td>\n",
       "      <td>0.701</td>\n",
       "      <td>536.407687</td>\n",
       "      <td>0.291</td>\n",
       "      <td>chr1</td>\n",
       "      <td>-</td>\n",
       "      <td>136132034</td>\n",
       "      <td>136132035</td>\n",
       "      <td>-0.034569</td>\n",
       "      <td>-1.302965</td>\n",
       "      <td>-1.268395</td>\n",
       "    </tr>\n",
       "    <tr>\n",
       "      <th>2</th>\n",
       "      <td>chr1</td>\n",
       "      <td>134234856</td>\n",
       "      <td>134234857</td>\n",
       "      <td>NM_001291928</td>\n",
       "      <td>Adora1</td>\n",
       "      <td>-</td>\n",
       "      <td>1329.644667</td>\n",
       "      <td>0.722</td>\n",
       "      <td>1292.148218</td>\n",
       "      <td>0.702</td>\n",
       "      <td>537.010030</td>\n",
       "      <td>0.292</td>\n",
       "      <td>chr1</td>\n",
       "      <td>-</td>\n",
       "      <td>136131433</td>\n",
       "      <td>136131434</td>\n",
       "      <td>-0.040528</td>\n",
       "      <td>-1.306030</td>\n",
       "      <td>-1.265503</td>\n",
       "    </tr>\n",
       "    <tr>\n",
       "      <th>3</th>\n",
       "      <td>chr1</td>\n",
       "      <td>134235457</td>\n",
       "      <td>134235458</td>\n",
       "      <td>NM_001008533</td>\n",
       "      <td>Adora1</td>\n",
       "      <td>-</td>\n",
       "      <td>1323.139261</td>\n",
       "      <td>0.718</td>\n",
       "      <td>1292.018637</td>\n",
       "      <td>0.701</td>\n",
       "      <td>536.407687</td>\n",
       "      <td>0.291</td>\n",
       "      <td>chr1</td>\n",
       "      <td>-</td>\n",
       "      <td>136132034</td>\n",
       "      <td>136132035</td>\n",
       "      <td>-0.034569</td>\n",
       "      <td>-1.302965</td>\n",
       "      <td>-1.268395</td>\n",
       "    </tr>\n",
       "    <tr>\n",
       "      <th>4</th>\n",
       "      <td>chr1</td>\n",
       "      <td>134235457</td>\n",
       "      <td>134235458</td>\n",
       "      <td>NM_001291930</td>\n",
       "      <td>Adora1</td>\n",
       "      <td>-</td>\n",
       "      <td>1323.139261</td>\n",
       "      <td>0.718</td>\n",
       "      <td>1292.018637</td>\n",
       "      <td>0.701</td>\n",
       "      <td>536.407687</td>\n",
       "      <td>0.291</td>\n",
       "      <td>chr1</td>\n",
       "      <td>-</td>\n",
       "      <td>136132034</td>\n",
       "      <td>136132035</td>\n",
       "      <td>-0.034569</td>\n",
       "      <td>-1.302965</td>\n",
       "      <td>-1.268395</td>\n",
       "    </tr>\n",
       "  </tbody>\n",
       "</table>\n",
       "</div>"
      ],
      "text/plain": [
       "    chr      start        end       gene_id gene_name strand   RAG_raw_RP  \\\n",
       "0  chr1  134235457  134235458  NM_001282945    Adora1      -  1323.139261   \n",
       "1  chr1  134235457  134235458  NM_001039510    Adora1      -  1323.139261   \n",
       "2  chr1  134234856  134234857  NM_001291928    Adora1      -  1329.644667   \n",
       "3  chr1  134235457  134235458  NM_001008533    Adora1      -  1323.139261   \n",
       "4  chr1  134235457  134235458  NM_001291930    Adora1      -  1323.139261   \n",
       "\n",
       "   RAG_rel_RP   TLX_raw_RP  TLX_rel_RP  TAP_raw_RP  TAP_rel_RP chr_mm9  \\\n",
       "0       0.718  1292.018637       0.701  536.407687       0.291    chr1   \n",
       "1       0.718  1292.018637       0.701  536.407687       0.291    chr1   \n",
       "2       0.722  1292.148218       0.702  537.010030       0.292    chr1   \n",
       "3       0.718  1292.018637       0.701  536.407687       0.291    chr1   \n",
       "4       0.718  1292.018637       0.701  536.407687       0.291    chr1   \n",
       "\n",
       "  strand_mm9  start_mm9    end_mm9  lgFC_TLXvsRAG  lgFC_TAPvsRAG  \\\n",
       "0          -  136132034  136132035      -0.034569      -1.302965   \n",
       "1          -  136132034  136132035      -0.034569      -1.302965   \n",
       "2          -  136131433  136131434      -0.040528      -1.306030   \n",
       "3          -  136132034  136132035      -0.034569      -1.302965   \n",
       "4          -  136132034  136132035      -0.034569      -1.302965   \n",
       "\n",
       "   lgFC_TAPvsTLX  \n",
       "0      -1.268395  \n",
       "1      -1.268395  \n",
       "2      -1.265503  \n",
       "3      -1.268395  \n",
       "4      -1.268395  "
      ]
     },
     "execution_count": 36,
     "metadata": {},
     "output_type": "execute_result"
    }
   ],
   "source": [
    "rpt.head()"
   ]
  },
  {
   "cell_type": "code",
   "execution_count": 25,
   "metadata": {
    "collapsed": false
   },
   "outputs": [],
   "source": [
    "#gn2enh.head()\n",
    "ts = emm.enh_gene(list(expr[0:10].index),gn2enh)\n",
    "\n",
    "ts_en = enh_df[enh_df['name'].isin(ts)]\n",
    "\n",
    "tsen = pb.BedTool.from_dataframe(ts_en).sort()"
   ]
  },
  {
   "cell_type": "code",
   "execution_count": null,
   "metadata": {
    "collapsed": false
   },
   "outputs": [],
   "source": []
  },
  {
   "cell_type": "code",
   "execution_count": null,
   "metadata": {
    "collapsed": true
   },
   "outputs": [],
   "source": []
  }
 ],
 "metadata": {
  "kernelspec": {
   "display_name": "Python 3",
   "language": "python",
   "name": "python3"
  },
  "language_info": {
   "codemirror_mode": {
    "name": "ipython",
    "version": 3
   },
   "file_extension": ".py",
   "mimetype": "text/x-python",
   "name": "python",
   "nbconvert_exporter": "python",
   "pygments_lexer": "ipython3",
   "version": "3.5.6"
  }
 },
 "nbformat": 4,
 "nbformat_minor": 2
}
