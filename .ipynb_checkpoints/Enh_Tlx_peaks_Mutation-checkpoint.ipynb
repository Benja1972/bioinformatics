{
 "cells": [
  {
   "cell_type": "code",
   "execution_count": 1,
   "metadata": {
    "collapsed": false
   },
   "outputs": [
    {
     "name": "stderr",
     "output_type": "stream",
     "text": [
      "/home/sergio/miniconda3/lib/python3.5/importlib/_bootstrap.py:222: RuntimeWarning: numpy.dtype size changed, may indicate binary incompatibility. Expected 96, got 88\n",
      "  return f(*args, **kwds)\n",
      "/home/sergio/miniconda3/lib/python3.5/importlib/_bootstrap.py:222: RuntimeWarning: numpy.dtype size changed, may indicate binary incompatibility. Expected 96, got 88\n",
      "  return f(*args, **kwds)\n",
      "/home/sergio/miniconda3/lib/python3.5/importlib/_bootstrap.py:222: RuntimeWarning: numpy.dtype size changed, may indicate binary incompatibility. Expected 96, got 88\n",
      "  return f(*args, **kwds)\n"
     ]
    }
   ],
   "source": [
    "import pybedtools as pb\n",
    "import numpy as np\n",
    "#import scipy\n",
    "import pandas as pd\n",
    "#import matplotlib as mpl\n",
    "import matplotlib.pyplot as plt\n",
    "%matplotlib inline\n",
    "import seaborn as sns"
   ]
  },
  {
   "cell_type": "markdown",
   "metadata": {},
   "source": [
    "## Load enhancers "
   ]
  },
  {
   "cell_type": "code",
   "execution_count": 2,
   "metadata": {
    "collapsed": true
   },
   "outputs": [],
   "source": [
    "enh = pb.BedTool('tracks/Enhancers_ChromHMM.bed')\n",
    "enh_df = enh.to_dataframe()"
   ]
  },
  {
   "cell_type": "markdown",
   "metadata": {},
   "source": [
    "## Load peaks and filter by score"
   ]
  },
  {
   "cell_type": "code",
   "execution_count": 3,
   "metadata": {
    "collapsed": true
   },
   "outputs": [],
   "source": [
    "tlx_pk = pb.BedTool('tracks/TLX3_TLX3_peaks.bed')\n",
    "tlx_df =tlx_pk.to_dataframe(names=['chr','start','end','name','score'])\n",
    "\n",
    "shr = 100\n",
    "top = tlx_df[tlx_df['score']>shr].sort_values('score', axis=0, ascending=False)\n",
    "tlx_top = pb.BedTool.from_dataframe(top)"
   ]
  },
  {
   "cell_type": "code",
   "execution_count": 4,
   "metadata": {
    "collapsed": false
   },
   "outputs": [
    {
     "data": {
      "image/png": "[encoded data removed]",
      "text/plain": [
       "<matplotlib.figure.Figure at 0x7f07e4fd2128>"
      ]
     },
     "metadata": {},
     "output_type": "display_data"
    }
   ],
   "source": [
    "#a,b,c = plt.hist(np.log(tlx_df['score']), bins=100)\n",
    "a,b,c = plt.hist(tlx_df['score'], bins=100)"
   ]
  },
  {
   "cell_type": "markdown",
   "metadata": {},
   "source": [
    "## Intersect enhancers and high score peaks"
   ]
  },
  {
   "cell_type": "code",
   "execution_count": 5,
   "metadata": {
    "collapsed": false
   },
   "outputs": [],
   "source": [
    "enh_tlx_top = enh+tlx_top "
   ]
  },
  {
   "cell_type": "markdown",
   "metadata": {},
   "source": [
    "## Load WGS variants"
   ]
  },
  {
   "cell_type": "code",
   "execution_count": 6,
   "metadata": {
    "collapsed": false
   },
   "outputs": [],
   "source": [
    "path = 'tracks/WGS-WES/Germline/'\n",
    "ftlx = 'tracks/WGS-WES/Germline/FERRIER_09_Germline.allchr.snpEff.p.SAL.SAL10_1.vcf'\n",
    "var_b = pb.BedTool(ftlx)"
   ]
  },
  {
   "cell_type": "markdown",
   "metadata": {},
   "source": [
    "## Find variants in enhancers with TLX3 peaks"
   ]
  },
  {
   "cell_type": "code",
   "execution_count": 7,
   "metadata": {
    "collapsed": true
   },
   "outputs": [],
   "source": [
    "var_ehn_tlx = var_b+enh_tlx_top"
   ]
  },
  {
   "cell_type": "code",
   "execution_count": 8,
   "metadata": {
    "collapsed": false
   },
   "outputs": [],
   "source": [
    "var_ehn_tlx_df = var_ehn_tlx.to_dataframe(names=['CHROM','POS','ID','REF','ALT','QUAL','FILTER','INFO','FORMAT','AC3812','AC3813','AC3814','AC3815'])"
   ]
  },
  {
   "cell_type": "code",
   "execution_count": 18,
   "metadata": {
    "collapsed": false
   },
   "outputs": [
    {
     "data": {
      "text/plain": [
       "136"
      ]
     },
     "execution_count": 18,
     "metadata": {},
     "output_type": "execute_result"
    }
   ],
   "source": [
    "#var_ehn_tlx_df.head(10)\n",
    "len(var_ehn_tlx_df)"
   ]
  },
  {
   "cell_type": "code",
   "execution_count": 11,
   "metadata": {
    "collapsed": false
   },
   "outputs": [],
   "source": [
    "# Enhancers Table manipulation\n",
    "enh2gn = pd.read_table('tracks/Enhancers_ChromHMM_enh2genes.txt', \n",
    "                        header=1, \n",
    "                        names=['enhancers','gene_name'])"
   ]
  },
  {
   "cell_type": "code",
   "execution_count": 12,
   "metadata": {
    "collapsed": false
   },
   "outputs": [],
   "source": [
    "enh_tlx_top_df = enh_tlx_top.to_dataframe()"
   ]
  },
  {
   "cell_type": "code",
   "execution_count": 13,
   "metadata": {
    "collapsed": false
   },
   "outputs": [],
   "source": [
    "enh_nm = list(enh_tlx_top_df['name'])"
   ]
  },
  {
   "cell_type": "code",
   "execution_count": 14,
   "metadata": {
    "collapsed": false
   },
   "outputs": [],
   "source": [
    "enh2gn_top = enh2gn[enh2gn['enhancers'].isin(enh_nm)]"
   ]
  },
  {
   "cell_type": "code",
   "execution_count": 15,
   "metadata": {
    "collapsed": true
   },
   "outputs": [],
   "source": [
    "a = list()\n",
    "for i in range(len(enh2gn_top )):\n",
    "    ls = enh2gn_top['gene_name'].iloc[i].split(', ')\n",
    "    a=a+[tr.split(' (')[0] for tr in ls]\n"
   ]
  },
  {
   "cell_type": "code",
   "execution_count": 16,
   "metadata": {
    "collapsed": false
   },
   "outputs": [
    {
     "data": {
      "text/plain": [
       "371"
      ]
     },
     "execution_count": 16,
     "metadata": {},
     "output_type": "execute_result"
    }
   ],
   "source": [
    "len(set(a))"
   ]
  },
  {
   "cell_type": "markdown",
   "metadata": {},
   "source": [
    "# Enrichment"
   ]
  },
  {
   "cell_type": "code",
   "execution_count": 19,
   "metadata": {
    "collapsed": false
   },
   "outputs": [],
   "source": [
    "\n",
    "import EnrichRLib as erl\n",
    "# List of gene sets as above\n",
    "gss = [ \n",
    "       'GO_Biological_Process_2018',\n",
    "       'GO_Cellular_Component_2018',\n",
    "       'GO_Molecular_Function_2018',\n",
    "       'KEGG_2016',\n",
    "       'Reactome_2016'\n",
    "       ]"
   ]
  },
  {
   "cell_type": "code",
   "execution_count": 20,
   "metadata": {
    "collapsed": false
   },
   "outputs": [
    {
     "name": "stdout",
     "output_type": "stream",
     "text": [
      "GO_Biological_Process_2018 2048\n",
      "GO_Cellular_Component_2018 200\n",
      "GO_Molecular_Function_2018 421\n",
      "KEGG_2016 215\n",
      "Reactome_2016 648\n"
     ]
    }
   ],
   "source": [
    "a = [x.upper() for x in a]\n",
    "\n",
    "enr_a = erl.enrich_gs(a,gss)\n",
    "\n"
   ]
  },
  {
   "cell_type": "code",
   "execution_count": 22,
   "metadata": {
    "collapsed": false
   },
   "outputs": [
    {
     "data": {
      "text/plain": [
       "Text(0.5,1,'Genes regulated by enhancers with high Tlx3 peaks')"
      ]
     },
     "execution_count": 22,
     "metadata": {},
     "output_type": "execute_result"
    },
    {
     "data": {
      "image/png": "[encoded data removed]",
      "text/plain": [
       "<matplotlib.figure.Figure at 0x7f07dd3b3358>"
      ]
     },
     "metadata": {},
     "output_type": "display_data"
    }
   ],
   "source": [
    "# --- Plot ---\n",
    "enr_a.sort_values('p-Val', axis=0, inplace = True)\n",
    "ds = enr_a.head(20)\n",
    "\n",
    "f, ax = plt.subplots()\n",
    "sns.barplot(y=ds.index,\n",
    "            x='-log10(p-Val)',\n",
    "            ax = ax, \n",
    "            color=\"Red\", \n",
    "            data = ds)\n",
    "ax.set_title('Genes regulated by enhancers with high Tlx3 peaks')"
   ]
  },
  {
   "cell_type": "markdown",
   "metadata": {},
   "source": [
    "# Expression analysis"
   ]
  },
  {
   "cell_type": "code",
   "execution_count": 25,
   "metadata": {
    "collapsed": true
   },
   "outputs": [],
   "source": [
    "import RNA_expression_processing as rn\n",
    "from os.path import join"
   ]
  },
  {
   "cell_type": "code",
   "execution_count": 32,
   "metadata": {
    "collapsed": false
   },
   "outputs": [],
   "source": [
    "tbl = pd.read_table(join('tracks', 'TLX3vsRAG-results_genesNames.txt'), index_col=0)\n",
    "#tbl = tbl[(tbl.padj < 0.05)].dropna()\n",
    "\n",
    "# === Pheno ==\n",
    "A,B = 'TLX3','RAG'\n",
    "classes = [A]*3+[B]*3\n",
    "\n",
    "\n",
    "cols = ['Gene_name', 'TLX3.1_1','TLX3.1_5','TLX3.1_P','R2.RAG1W.RAG1','RAGS.RAGZ','RAGZ']\n",
    "\n",
    "tbn = tbl[cols]\n",
    "tbv = tbn.set_index(keys=tbn.columns[0])\n",
    "tbv.index=tbv.index.str.upper()\n",
    "\n"
   ]
  },
  {
   "cell_type": "code",
   "execution_count": 33,
   "metadata": {
    "collapsed": false
   },
   "outputs": [],
   "source": [
    "\n",
    "### == UP analysis\n",
    "\n",
    "tbu = tbv.iloc[tbv.index.isin(a)]\n"
   ]
  },
  {
   "cell_type": "code",
   "execution_count": 34,
   "metadata": {
    "collapsed": false
   },
   "outputs": [
    {
     "data": {
      "text/html": [
       "<div>\n",
       "<style scoped>\n",
       "    .dataframe tbody tr th:only-of-type {\n",
       "        vertical-align: middle;\n",
       "    }\n",
       "\n",
       "    .dataframe tbody tr th {\n",
       "        vertical-align: top;\n",
       "    }\n",
       "\n",
       "    .dataframe thead th {\n",
       "        text-align: right;\n",
       "    }\n",
       "</style>\n",
       "<table border=\"1\" class=\"dataframe\">\n",
       "  <thead>\n",
       "    <tr style=\"text-align: right;\">\n",
       "      <th></th>\n",
       "      <th>TLX3.1_1</th>\n",
       "      <th>TLX3.1_5</th>\n",
       "      <th>TLX3.1_P</th>\n",
       "      <th>R2.RAG1W.RAG1</th>\n",
       "      <th>RAGS.RAGZ</th>\n",
       "      <th>RAGZ</th>\n",
       "    </tr>\n",
       "    <tr>\n",
       "      <th>Gene_name</th>\n",
       "      <th></th>\n",
       "      <th></th>\n",
       "      <th></th>\n",
       "      <th></th>\n",
       "      <th></th>\n",
       "      <th></th>\n",
       "    </tr>\n",
       "  </thead>\n",
       "  <tbody>\n",
       "    <tr>\n",
       "      <th>STK17B</th>\n",
       "      <td>29076.292421</td>\n",
       "      <td>30006.256154</td>\n",
       "      <td>28335.646536</td>\n",
       "      <td>4512.345494</td>\n",
       "      <td>4712.337432</td>\n",
       "      <td>4854.096891</td>\n",
       "    </tr>\n",
       "    <tr>\n",
       "      <th>VIM</th>\n",
       "      <td>66268.581405</td>\n",
       "      <td>65986.636665</td>\n",
       "      <td>59990.689013</td>\n",
       "      <td>8079.467476</td>\n",
       "      <td>7898.171366</td>\n",
       "      <td>8168.327297</td>\n",
       "    </tr>\n",
       "    <tr>\n",
       "      <th>CD163L1</th>\n",
       "      <td>98255.555045</td>\n",
       "      <td>98280.040254</td>\n",
       "      <td>87002.950279</td>\n",
       "      <td>5697.663756</td>\n",
       "      <td>4681.143228</td>\n",
       "      <td>5343.191540</td>\n",
       "    </tr>\n",
       "    <tr>\n",
       "      <th>ARID5A</th>\n",
       "      <td>48027.935648</td>\n",
       "      <td>46777.290182</td>\n",
       "      <td>55745.652233</td>\n",
       "      <td>6630.922414</td>\n",
       "      <td>6799.330350</td>\n",
       "      <td>6709.976586</td>\n",
       "    </tr>\n",
       "    <tr>\n",
       "      <th>BASP1</th>\n",
       "      <td>7915.922553</td>\n",
       "      <td>8480.771683</td>\n",
       "      <td>9014.846318</td>\n",
       "      <td>671.627171</td>\n",
       "      <td>614.827711</td>\n",
       "      <td>663.292743</td>\n",
       "    </tr>\n",
       "  </tbody>\n",
       "</table>\n",
       "</div>"
      ],
      "text/plain": [
       "               TLX3.1_1      TLX3.1_5      TLX3.1_P  R2.RAG1W.RAG1  \\\n",
       "Gene_name                                                            \n",
       "STK17B     29076.292421  30006.256154  28335.646536    4512.345494   \n",
       "VIM        66268.581405  65986.636665  59990.689013    8079.467476   \n",
       "CD163L1    98255.555045  98280.040254  87002.950279    5697.663756   \n",
       "ARID5A     48027.935648  46777.290182  55745.652233    6630.922414   \n",
       "BASP1       7915.922553   8480.771683   9014.846318     671.627171   \n",
       "\n",
       "             RAGS.RAGZ         RAGZ  \n",
       "Gene_name                            \n",
       "STK17B     4712.337432  4854.096891  \n",
       "VIM        7898.171366  8168.327297  \n",
       "CD163L1    4681.143228  5343.191540  \n",
       "ARID5A     6799.330350  6709.976586  \n",
       "BASP1       614.827711   663.292743  "
      ]
     },
     "execution_count": 34,
     "metadata": {},
     "output_type": "execute_result"
    }
   ],
   "source": []
  },
  {
   "cell_type": "code",
   "execution_count": null,
   "metadata": {
    "collapsed": true
   },
   "outputs": [],
   "source": []
  }
 ],
 "metadata": {
  "kernelspec": {
   "display_name": "Python 3",
   "language": "python",
   "name": "python3"
  },
  "language_info": {
   "codemirror_mode": {
    "name": "ipython",
    "version": 3
   },
   "file_extension": ".py",
   "mimetype": "text/x-python",
   "name": "python",
   "nbconvert_exporter": "python",
   "pygments_lexer": "ipython3",
   "version": "3.5.2"
  }
 },
 "nbformat": 4,
 "nbformat_minor": 2
}
