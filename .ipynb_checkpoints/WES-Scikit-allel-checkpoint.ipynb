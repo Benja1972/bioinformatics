{
 "cells": [
  {
   "cell_type": "code",
   "execution_count": 1,
   "metadata": {
    "collapsed": false
   },
   "outputs": [
    {
     "name": "stderr",
     "output_type": "stream",
     "text": [
      "/home/sergio/miniconda3/lib/python3.5/importlib/_bootstrap.py:222: RuntimeWarning: numpy.dtype size changed, may indicate binary incompatibility. Expected 96, got 88\n",
      "  return f(*args, **kwds)\n",
      "/home/sergio/miniconda3/lib/python3.5/importlib/_bootstrap.py:222: RuntimeWarning: numpy.dtype size changed, may indicate binary incompatibility. Expected 96, got 88\n",
      "  return f(*args, **kwds)\n",
      "/home/sergio/miniconda3/lib/python3.5/importlib/_bootstrap.py:222: RuntimeWarning: numpy.dtype size changed, may indicate binary incompatibility. Expected 96, got 88\n",
      "  return f(*args, **kwds)\n",
      "/home/sergio/miniconda3/lib/python3.5/site-packages/h5py/__init__.py:34: FutureWarning: Conversion of the second argument of issubdtype from `float` to `np.floating` is deprecated. In future, it will be treated as `np.float64 == np.dtype(float).type`.\n",
      "  from ._conv import register_converters as _register_converters\n"
     ]
    },
    {
     "name": "stdout",
     "output_type": "stream",
     "text": [
      "scikit-allel 1.1.9\n"
     ]
    }
   ],
   "source": [
    "import numpy as np\n",
    "import scipy\n",
    "import pandas\n",
    "import matplotlib as mpl\n",
    "import matplotlib.pyplot as plt\n",
    "%matplotlib inline\n",
    "import seaborn as sns\n",
    "sns.set_style('white')\n",
    "sns.set_style('ticks')\n",
    "sns.set_context('notebook')\n",
    "import h5py\n",
    "import allel; print('scikit-allel', allel.__version__)"
   ]
  },
  {
   "cell_type": "code",
   "execution_count": 2,
   "metadata": {
    "collapsed": true
   },
   "outputs": [],
   "source": [
    "### Functions\n",
    "def chrom2num(st):\n",
    "    chrm = st.split(':')[0]\n",
    "    pos = st.split(':')[1].split('-')\n",
    "\n",
    "    pl = int(pos[0].replace(',',''))\n",
    "\n",
    "    pr = int(pos[1].replace(',',''))\n",
    "    \n",
    "    return chrm, pl, pr\n",
    "\n",
    "def plot_variant_density(pos, window_size, title=None):\n",
    "    \n",
    "    # setup windows \n",
    "    bins = np.arange(pos.min(), pos.max(), window_size)\n",
    "    \n",
    "    # use window midpoints as x coordinate\n",
    "    x = (bins[1:] + bins[:-1])/2\n",
    "    \n",
    "    # compute variant density in each window\n",
    "    h, _ = np.histogram(pos, bins=bins)\n",
    "    y = h / window_size\n",
    "    \n",
    "    # plot\n",
    "    fig, ax = plt.subplots(figsize=(12, 3))\n",
    "    sns.despine(ax=ax, offset=10)\n",
    "    ax.plot(x, y)\n",
    "    ax.set_xlabel('Chromosome position (bp)')\n",
    "    ax.set_ylabel('Variant density (bp$^{-1}$)')\n",
    "    if title:\n",
    "        ax.set_title(title)\n",
    "\n",
    "def plot_variant_hist_2d(f1, f2, variants, downsample):\n",
    "    x = variants[f1][:][::downsample]\n",
    "    y = variants[f2][:][::downsample]\n",
    "    fig, ax = plt.subplots(figsize=(6, 6))\n",
    "    sns.despine(ax=ax, offset=10)\n",
    "    ax.hexbin(x, y, gridsize=20)\n",
    "    ax.set_xlabel(f1)\n",
    "    ax.set_ylabel(f2)\n",
    "    ax.set_title('Variant %s versus %s joint distribution' % (f1, f2))\n",
    "\n",
    "def plot_variant_hist(f, variants, bins=30, down=200):\n",
    "    x = variants[f][:][::down]\n",
    "    fig, ax = plt.subplots(figsize=(7, 5))\n",
    "    sns.despine(ax=ax, offset=10)\n",
    "    ax.hist(x, bins=bins)\n",
    "    ax.set_xlabel(f)\n",
    "    ax.set_ylabel('No. variants')\n",
    "    ax.set_title('Variant %s distribution' % f)"
   ]
  },
  {
   "cell_type": "code",
   "execution_count": 3,
   "metadata": {
    "collapsed": true
   },
   "outputs": [],
   "source": [
    "from os.path import join \n",
    "WORKDIR = '/home/sergio/Res_CIML/TLX3_project'\n",
    "SCRIPTS = join(WORKDIR,'scripts')\n",
    "DATADIR = join(WORKDIR,'data')"
   ]
  },
  {
   "cell_type": "code",
   "execution_count": 7,
   "metadata": {
    "collapsed": false
   },
   "outputs": [],
   "source": [
    "### VCF direct\n",
    "fwes =  join(DATADIR,'tracks/WGS-WES/Exomes/WES_TLX3_TAP_Tum7-8.vcf.gz')\n",
    "fwesh5 = join(DATADIR, 'tracks/WGS-WES/Exomes/WES_TLX3_TAP_Tum7-8.h5')\n",
    "\n",
    "# read VCF file, transform SNPEFF to separated fields (optional)\n",
    "cs = allel.read_vcf(fwes,fields='*', numbers={'ALT': 4},transformers=allel.ANNTransformer())\n"
   ]
  },
  {
   "cell_type": "code",
   "execution_count": null,
   "metadata": {
    "collapsed": false
   },
   "outputs": [],
   "source": [
    "# cs['samples']\n",
    "# array(['TAP-01', 'TLX3-01', 'Tumor7-01', 'Tumor8-01'], dtype=object)"
   ]
  },
  {
   "cell_type": "code",
   "execution_count": 38,
   "metadata": {
    "collapsed": false
   },
   "outputs": [],
   "source": [
    "# variants data to DataFrame, transform SNPEFF to separated fields (optional)\n",
    "var = allel.vcf_to_dataframe(fwes,fields='*', numbers={'ALT': 4}, transformers=allel.ANNTransformer())"
   ]
  },
  {
   "cell_type": "code",
   "execution_count": 40,
   "metadata": {
    "collapsed": false
   },
   "outputs": [],
   "source": [
    "## SNP calculation\n",
    "#var['REF_len'] = var.apply(lambda row: len(row['REF']), axis=1)\n",
    "#var['ALT1_len'] = var.apply(lambda row: len(row['ALT_1']), axis=1)\n",
    "#var['ALT2_len'] = var.apply(lambda row: len(row['ALT_2']), axis=1)\n",
    "\n",
    "var_snp = var[var['is_snp']==True]\n",
    "\n"
   ]
  },
  {
   "cell_type": "code",
   "execution_count": 42,
   "metadata": {
    "collapsed": false
   },
   "outputs": [
    {
     "data": {
      "text/plain": [
       "96851"
      ]
     },
     "execution_count": 42,
     "metadata": {},
     "output_type": "execute_result"
    }
   ],
   "source": [
    "len(var_snp)"
   ]
  },
  {
   "cell_type": "code",
   "execution_count": 43,
   "metadata": {
    "collapsed": true
   },
   "outputs": [],
   "source": [
    "# Genotype array to special class GenotypeArray\n",
    "gt = allel.GenotypeArray(cs['calldata/GT'])\n",
    "    ##- typical functions\n",
    "    # gt.is_het()\n",
    "    # gt.count_het(axis=1)\n",
    "    # ac = gt.count_alleles()"
   ]
  },
  {
   "cell_type": "code",
   "execution_count": null,
   "metadata": {
    "collapsed": false
   },
   "outputs": [],
   "source": [
    "#var.head()\n",
    "\n",
    "\n",
    "#gt1 = gt.subset([2,7,9,12,45,67,124])\n",
    "#gt2= gt.subset([3,8,10,13,46,68,125])\n",
    "\n",
    "#gt3 = gt2.concatenate(gt1)\n",
    "\n",
    "\n",
    "\n",
    "#gt.is_het()"
   ]
  },
  {
   "cell_type": "code",
   "execution_count": null,
   "metadata": {
    "collapsed": false
   },
   "outputs": [],
   "source": [
    "#print(sorted(var['ANN_Feature_Type'].unique()))\n",
    "#print(sorted(var['ANN_Transcript_BioType'].unique()))"
   ]
  },
  {
   "cell_type": "code",
   "execution_count": null,
   "metadata": {
    "collapsed": false
   },
   "outputs": [],
   "source": [
    "#cod_var = var[var['ANN_Feature_Type']=='transcript']"
   ]
  },
  {
   "cell_type": "code",
   "execution_count": null,
   "metadata": {
    "collapsed": false
   },
   "outputs": [],
   "source": [
    "#print(len(var))\n",
    "#len(cod_var)\n",
    "#cod_var[['ANN_Gene_Name','ANN_Feature_Type', 'ANN_Transcript_BioType']].head()"
   ]
  },
  {
   "cell_type": "code",
   "execution_count": null,
   "metadata": {
    "collapsed": false
   },
   "outputs": [],
   "source": [
    "#cod_ind=cod_var.index\n",
    "#cod_gt=gt[cod_ind]"
   ]
  },
  {
   "cell_type": "markdown",
   "metadata": {},
   "source": [
    "## Now we have pair {var, gt} for WES "
   ]
  },
  {
   "cell_type": "code",
   "execution_count": 44,
   "metadata": {
    "collapsed": false
   },
   "outputs": [
    {
     "data": {
      "image/png": "[encoded data removed]",
      "text/plain": [
       "<matplotlib.figure.Figure at 0x7f4a82a5c9e8>"
      ]
     },
     "metadata": {},
     "output_type": "display_data"
    }
   ],
   "source": [
    "#cod_var.head(12)\n",
    "a,b,c = plt.hist(np.log(var['QUAL']), bins=100)"
   ]
  },
  {
   "cell_type": "code",
   "execution_count": null,
   "metadata": {
    "collapsed": false
   },
   "outputs": [],
   "source": [
    "#cod_gt[2,:]"
   ]
  },
  {
   "cell_type": "markdown",
   "metadata": {},
   "source": [
    "## Strip var data to region "
   ]
  },
  {
   "cell_type": "code",
   "execution_count": null,
   "metadata": {
    "collapsed": false
   },
   "outputs": [],
   "source": [
    "#st  ='chr12:77,033,211-78,041,433'\n",
    "#c,l,r = chrom2num(st)\n",
    "#print(c,l,r)"
   ]
  },
  {
   "cell_type": "code",
   "execution_count": null,
   "metadata": {
    "collapsed": false
   },
   "outputs": [],
   "source": [
    "#var_reg = var[(var['CHROM']==c) & (var['POS']>l) & (var['POS']<r)]"
   ]
  },
  {
   "cell_type": "code",
   "execution_count": null,
   "metadata": {
    "collapsed": false
   },
   "outputs": [],
   "source": [
    "# plot_variant_density(var_reg['POS'], window_size=35, title=c)"
   ]
  },
  {
   "cell_type": "code",
   "execution_count": null,
   "metadata": {
    "collapsed": false
   },
   "outputs": [],
   "source": [
    "### Plot density for all chromosomes\n",
    "# for ch in df['CHROM'].unique():\n",
    "#     dfc = df[df['CHROM']==ch]\n",
    "#    plot_windowed_variant_density(dfc['POS'], window_size=100000, title=ch+' , raw variant density')"
   ]
  },
  {
   "cell_type": "markdown",
   "metadata": {},
   "source": [
    "## Working with chunked table, we need HDF5 file"
   ]
  },
  {
   "cell_type": "code",
   "execution_count": 75,
   "metadata": {
    "collapsed": false
   },
   "outputs": [
    {
     "name": "stdout",
     "output_type": "stream",
     "text": [
      "[vcf_to_hdf5] 65536 rows in 1.37s; chunk in 1.37s (47742 rows/s); chr11\u0000:58546480\n",
      "[vcf_to_hdf5] 110895 rows in 3.36s; chunk in 1.99s (22816 rows/s)\n"
     ]
    },
    {
     "name": "stderr",
     "output_type": "stream",
     "text": [
      "/home/sergio/miniconda3/lib/python3.5/site-packages/allel/io/vcf_read.py:464: UserWarning: found string length 220 longer than 131 guessed for field 'calldata/PID', values will be truncated; recommend rerunning setting type to at least \"S220\"\n",
      "  (data.dtype.itemsize, dataset.dtype.itemsize, k, data.dtype.itemsize)\n",
      "/home/sergio/miniconda3/lib/python3.5/site-packages/allel/io/vcf_read.py:464: UserWarning: found string length 47 longer than 22 guessed for field 'variants/ALT', values will be truncated; recommend rerunning setting type to at least \"S47\"\n",
      "  (data.dtype.itemsize, dataset.dtype.itemsize, k, data.dtype.itemsize)\n",
      "/home/sergio/miniconda3/lib/python3.5/site-packages/allel/io/vcf_read.py:464: UserWarning: found string length 47 longer than 22 guessed for field 'variants/ANN_Allele', values will be truncated; recommend rerunning setting type to at least \"S47\"\n",
      "  (data.dtype.itemsize, dataset.dtype.itemsize, k, data.dtype.itemsize)\n"
     ]
    },
    {
     "name": "stdout",
     "output_type": "stream",
     "text": [
      "[vcf_to_hdf5] all done (26815 rows/s)\n"
     ]
    },
    {
     "name": "stderr",
     "output_type": "stream",
     "text": [
      "/home/sergio/miniconda3/lib/python3.5/site-packages/allel/io/vcf_read.py:464: UserWarning: found string length 30 longer than 27 guessed for field 'variants/ANN_Feature_ID', values will be truncated; recommend rerunning setting type to at least \"S30\"\n",
      "  (data.dtype.itemsize, dataset.dtype.itemsize, k, data.dtype.itemsize)\n",
      "/home/sergio/miniconda3/lib/python3.5/site-packages/allel/io/vcf_read.py:464: UserWarning: found string length 30 longer than 27 guessed for field 'variants/ANN_Gene_ID', values will be truncated; recommend rerunning setting type to at least \"S30\"\n",
      "  (data.dtype.itemsize, dataset.dtype.itemsize, k, data.dtype.itemsize)\n",
      "/home/sergio/miniconda3/lib/python3.5/site-packages/allel/io/vcf_read.py:464: UserWarning: found string length 28 longer than 27 guessed for field 'variants/ANN_Gene_Name', values will be truncated; recommend rerunning setting type to at least \"S28\"\n",
      "  (data.dtype.itemsize, dataset.dtype.itemsize, k, data.dtype.itemsize)\n",
      "/home/sergio/miniconda3/lib/python3.5/site-packages/allel/io/vcf_read.py:464: UserWarning: found string length 120 longer than 117 guessed for field 'variants/ANN_HGVS_c', values will be truncated; recommend rerunning setting type to at least \"S120\"\n",
      "  (data.dtype.itemsize, dataset.dtype.itemsize, k, data.dtype.itemsize)\n"
     ]
    }
   ],
   "source": [
    "### Save to hdf5\n",
    "# fwesh5 ='tracks/WGS-WES/Exomes/WES_TLX3_TAP_Tum7-8.h5'\n",
    "\n",
    "import sys\n",
    "\n",
    "allel.vcf_to_hdf5(fwes,fwesh5, \n",
    "                   fields='*', alt_number=4,transformers=allel.ANNTransformer(),log=sys.stdout, vlen=False)\n",
    "\n",
    "\n",
    "#csh = h5py.File(fwesh5,mode='r')"
   ]
  },
  {
   "cell_type": "code",
   "execution_count": 48,
   "metadata": {
    "collapsed": false
   },
   "outputs": [],
   "source": [
    "#list(csh['variants'])"
   ]
  },
  {
   "cell_type": "code",
   "execution_count": 76,
   "metadata": {
    "collapsed": false
   },
   "outputs": [],
   "source": [
    "### HDF5 from VCF database\n",
    "\n",
    "# read HDF5 file\n",
    "csh = h5py.File(fwesh5,mode='r')\n",
    "var_tb = allel.VariantChunkedTable(csh['variants'], \n",
    "                                   names=['CHROM', 'POS', 'REF', 'ALT', 'DP', 'MQ', 'QD', 'is_snp',\n",
    "                                             'ANN_AA_length',\n",
    "                                             'ANN_Allele',\n",
    "                                             'ANN_Annotation',\n",
    "                                             'ANN_Annotation_Impact',\n",
    "                                             'ANN_Feature_ID',\n",
    "                                             'ANN_Feature_Type',\n",
    "                                             'ANN_Gene_ID',\n",
    "                                             'ANN_Gene_Name',\n",
    "                                             'ANN_Rank',\n",
    "                                             'ANN_Transcript_BioType','numalt'])"
   ]
  },
  {
   "cell_type": "code",
   "execution_count": 59,
   "metadata": {
    "collapsed": false
   },
   "outputs": [],
   "source": [
    "#var_tb\n",
    "#a,b,c=plt.hist(var_tb['DP'][:], bins=10)\n",
    "#csh['variants/REF']"
   ]
  },
  {
   "cell_type": "markdown",
   "metadata": {},
   "source": [
    "## Now we can work with filters"
   ]
  },
  {
   "cell_type": "code",
   "execution_count": 77,
   "metadata": {
    "collapsed": false
   },
   "outputs": [
    {
     "data": {
      "text/plain": [
       "14044"
      ]
     },
     "execution_count": 77,
     "metadata": {},
     "output_type": "execute_result"
    }
   ],
   "source": [
    "#fltr_expr = '(QD > 5) & (MQ > 40) & (DP > 1500) & (DP < 3000)'\n",
    "#fltr_expr = '(QD > 5) & (MQ > 40) & (DP > 1500) & (DP < 3000)'\n",
    "fltr_expr=\"is_snp==True\"\n",
    "\n",
    "var_tb_fltr = var_tb.eval(fltr_expr)[:]\n",
    "\n",
    "#var_tb\n",
    "#var_tb_fltr\n",
    "#np.count_nonzero(var_tb_fltr)\n",
    "np.count_nonzero(~var_tb_fltr)\n",
    "\n",
    "#list(csh['calldata'].keys())\n",
    "#list(csh['variants'].keys())"
   ]
  },
  {
   "cell_type": "code",
   "execution_count": 78,
   "metadata": {
    "collapsed": false
   },
   "outputs": [
    {
     "data": {
      "text/plain": [
       "array([ True, False, False, ...,  True,  True,  True])"
      ]
     },
     "execution_count": 78,
     "metadata": {},
     "output_type": "execute_result"
    }
   ],
   "source": [
    "var_tb_fltr"
   ]
  },
  {
   "cell_type": "code",
   "execution_count": 79,
   "metadata": {
    "collapsed": false
   },
   "outputs": [],
   "source": [
    "## apply filter\n",
    "var_snp = var_tb.compress(var_tb_fltr)\n"
   ]
  },
  {
   "cell_type": "markdown",
   "metadata": {},
   "source": [
    "## Genotype from HDF5 "
   ]
  },
  {
   "cell_type": "code",
   "execution_count": 80,
   "metadata": {
    "collapsed": false
   },
   "outputs": [
    {
     "data": {
      "text/plain": [
       "['AD', 'DP', 'GQ', 'GT', 'MIN_DP', 'PGT', 'PID', 'PL', 'RGQ', 'SB']"
      ]
     },
     "execution_count": 80,
     "metadata": {},
     "output_type": "execute_result"
    }
   ],
   "source": [
    "list(csh['calldata'].keys())"
   ]
  },
  {
   "cell_type": "code",
   "execution_count": 83,
   "metadata": {
    "collapsed": false
   },
   "outputs": [],
   "source": [
    "gth = allel.GenotypeChunkedArray(csh['calldata/GT'])\n",
    "#gth"
   ]
  },
  {
   "cell_type": "code",
   "execution_count": null,
   "metadata": {
    "collapsed": false
   },
   "outputs": [],
   "source": [
    "list(csh['samples'])"
   ]
  },
  {
   "cell_type": "code",
   "execution_count": 81,
   "metadata": {
    "collapsed": false
   },
   "outputs": [],
   "source": [
    "import pandas as pd\n",
    "samples = pd.DataFrame({'sample':list(csh['samples']), 'cell_type':['TAP','TLX3', 'Tumor7','Tumor8']})\n",
    "TLX = samples['cell_type'].isin(['TLX3'])\n",
    "TAP = samples['cell_type'].isin(['TAP'])\n",
    "Tum7 = samples['cell_type'].isin(['Tumor7'])\n",
    "Tum8 = samples['cell_type'].isin(['Tumor8'])\n",
    "\n",
    "\n",
    "#TLX"
   ]
  },
  {
   "cell_type": "markdown",
   "metadata": {},
   "source": [
    "## Subset genotype  samples"
   ]
  },
  {
   "cell_type": "code",
   "execution_count": 84,
   "metadata": {
    "collapsed": false
   },
   "outputs": [],
   "source": [
    "gth_tlx = gth.subset(None,TLX)\n",
    "gth_tap = gth.subset(None,TAP)\n",
    "gth_tum7 = gth.subset(None,Tum7)\n",
    "gth_tum8 = gth.subset(None,Tum8)"
   ]
  },
  {
   "cell_type": "code",
   "execution_count": 90,
   "metadata": {
    "collapsed": true
   },
   "outputs": [],
   "source": [
    "gth_tlx_snp = gth.subset(var_tb_fltr,TLX)\n",
    "gth_tap_snp = gth.subset(var_tb_fltr,TAP)\n",
    "gth_tum7_snp = gth.subset(var_tb_fltr,Tum7)\n",
    "gth_tum8_snp = gth.subset(var_tb_fltr,Tum8)"
   ]
  },
  {
   "cell_type": "markdown",
   "metadata": {},
   "source": [
    "#### Now we have  tables for WES "
   ]
  },
  {
   "cell_type": "code",
   "execution_count": 93,
   "metadata": {
    "collapsed": false
   },
   "outputs": [
    {
     "name": "stdout",
     "output_type": "stream",
     "text": [
      "Total namber of var =  110895\n",
      "============================\n",
      "TLX3 missing =  [5.43216556] %\n",
      "TLX3 hetero =  [10.64159791] %\n",
      "============================\n",
      "TAP missing =  [9.74345101] %\n",
      "TAP hetero =  [7.31051896] %\n",
      "============================\n",
      "Tumor7 missing =  [10.97163984] %\n",
      "Tumor7 hetero =  [29.6126967] %\n",
      "============================\n",
      "Tumor8 missing =  [8.66856035] %\n",
      "Tumor8 hetero =  [57.90883268] %\n"
     ]
    }
   ],
   "source": [
    "n_variants = len(var_tb)\n",
    "pc_missing_tlx = gth_tlx.count_missing(axis=0)[:] * 100 / n_variants\n",
    "pc_het_tlx = gth_tlx.count_het(axis=0)[:] * 100 / n_variants\n",
    "\n",
    "pc_missing_tap = gth_tap.count_missing(axis=0)[:] * 100 / n_variants\n",
    "pc_het_tap = gth_tap.count_het(axis=0)[:] * 100 / n_variants\n",
    "\n",
    "\n",
    "pc_missing_tum7 = gth_tum7.count_missing(axis=0)[:] * 100 / n_variants\n",
    "pc_het_tum7 = gth_tum7.count_het(axis=0)[:] * 100 / n_variants\n",
    "\n",
    "pc_missing_tum8 = gth_tum8.count_missing(axis=0)[:] * 100 / n_variants\n",
    "pc_het_tum8 = gth_tum8.count_het(axis=0)[:] * 100 / n_variants\n",
    "\n",
    "print('Total namber of var = ', n_variants)\n",
    "print('============================')\n",
    "\n",
    "print('TLX3 missing = ', pc_missing_tlx, '%')\n",
    "print('TLX3 hetero = ', pc_het_tlx, '%')\n",
    "\n",
    "print('============================')\n",
    "print('TAP missing = ', pc_missing_tap, '%')\n",
    "print('TAP hetero = ', pc_het_tap, '%')\n",
    "\n",
    "print('============================')\n",
    "print('Tumor7 missing = ', pc_missing_tum7, '%')\n",
    "print('Tumor7 hetero = ', pc_het_tum7, '%')\n",
    "\n",
    "print('============================')\n",
    "print('Tumor8 missing = ', pc_missing_tum8, '%')\n",
    "print('Tumor8 hetero = ', pc_het_tum8, '%')\n"
   ]
  },
  {
   "cell_type": "code",
   "execution_count": 95,
   "metadata": {
    "collapsed": false
   },
   "outputs": [
    {
     "name": "stdout",
     "output_type": "stream",
     "text": [
      "Total namber of SNPs =  96851\n",
      "============================\n",
      "TLX3 SNPs missing =  [5.49503877] %\n",
      "TLX3 SNPs hetero =  [9.62612673] %\n",
      "============================\n",
      "TAP SNPs missing =  [9.92762078] %\n",
      "TAP SNPs hetero =  [5.22039008] %\n",
      "============================\n",
      "Tumor7 SNPs missing =  [11.16147484] %\n",
      "Tumor7 SNPs hetero =  [29.91708914] %\n",
      "============================\n",
      "Tumor8 SNPs missing =  [8.88271675] %\n",
      "Tumor8 SNPs hetero =  [60.24202125] %\n"
     ]
    }
   ],
   "source": [
    "n_snp = len(var_snp)\n",
    "tlx_snp_miss = gth_tlx_snp.count_missing(axis=0)[:] * 100 / n_snp\n",
    "tlx_snp_het = gth_tlx_snp.count_het(axis=0)[:] * 100 / n_snp\n",
    "\n",
    "tap_snp_miss = gth_tap_snp.count_missing(axis=0)[:] * 100 / n_snp\n",
    "tap_snp_het = gth_tap_snp.count_het(axis=0)[:] * 100 / n_snp\n",
    "\n",
    "tum7_snp_miss = gth_tum7_snp.count_missing(axis=0)[:] * 100 / n_snp\n",
    "tum7_snp_het = gth_tum7_snp.count_het(axis=0)[:] * 100 / n_snp\n",
    "\n",
    "tum8_snp_miss = gth_tum8_snp.count_missing(axis=0)[:] * 100 / n_snp\n",
    "tum8_snp_het = gth_tum8_snp.count_het(axis=0)[:] * 100 / n_snp\n",
    "\n",
    "\n",
    "print('Total namber of SNPs = ', n_snp)\n",
    "print('============================')\n",
    "print('TLX3 SNPs missing = ', tlx_snp_miss, '%')\n",
    "print('TLX3 SNPs hetero = ', tlx_snp_het, '%')\n",
    "\n",
    "print('============================')\n",
    "print('TAP SNPs missing = ', tap_snp_miss, '%')\n",
    "print('TAP SNPs hetero = ', tap_snp_het, '%')\n",
    "\n",
    "print('============================')\n",
    "print('Tumor7 SNPs missing = ', tum7_snp_miss, '%')\n",
    "print('Tumor7 SNPs hetero = ', tum7_snp_het, '%')\n",
    "\n",
    "print('============================')\n",
    "print('Tumor8 SNPs missing = ', tum8_snp_miss, '%')\n",
    "print('Tumor8 SNPs hetero = ', tum8_snp_het, '%')"
   ]
  },
  {
   "cell_type": "code",
   "execution_count": 86,
   "metadata": {
    "collapsed": false,
    "scrolled": true
   },
   "outputs": [
    {
     "name": "stdout",
     "output_type": "stream",
     "text": [
      "ALL segregating =  103335\n",
      "TLX segregating =  11801\n",
      "TAP segregating =  8107\n",
      "num variants =  110895\n"
     ]
    }
   ],
   "source": [
    "tlx_seg = gth_tlx.count_alleles().count_segregating()\n",
    "tap_seg = gth_tap.count_alleles().count_segregating()\n",
    "all_seg = gth.count_alleles().count_segregating()\n",
    "\n",
    "print('ALL segregating = ', all_seg)\n",
    "print('TLX segregating = ', tlx_seg)\n",
    "print('TAP segregating = ', tap_seg)\n",
    "print('num variants = ', n_variants)"
   ]
  },
  {
   "cell_type": "code",
   "execution_count": 88,
   "metadata": {
    "collapsed": false
   },
   "outputs": [],
   "source": [
    "#gth.count_alleles().is_segregating()[2000:2000+6]\n",
    "#gth[2000:2000+6]\n",
    "\n",
    "#var['REF']"
   ]
  },
  {
   "cell_type": "markdown",
   "metadata": {},
   "source": [
    "# Region based files"
   ]
  },
  {
   "cell_type": "code",
   "execution_count": 97,
   "metadata": {
    "collapsed": true
   },
   "outputs": [],
   "source": [
    "import pybedtools as pb\n",
    "\n",
    "tlx = pb.BedTool(join(DATADIR,'tracks/WGS-WES/Exomes/WES_TLX3.vcf.gz'))\n",
    "tap = pb.BedTool(join(DATADIR,'tracks/WGS-WES/Exomes/WES_TAP.vcf.gz'))\n",
    "tum7 = pb.BedTool(join(DATADIR,'tracks/WGS-WES/Exomes/WES_Tumor7.vcf.gz'))\n",
    "tum8 = pb.BedTool(join(DATADIR,'tracks/WGS-WES/Exomes/WES_Tumor8.vcf.gz'))"
   ]
  },
  {
   "cell_type": "code",
   "execution_count": 141,
   "metadata": {
    "collapsed": false
   },
   "outputs": [
    {
     "name": "stdout",
     "output_type": "stream",
     "text": [
      "Variants TLX3 =  16415\n",
      "Variants TAP =  9970\n",
      "Variants Tumor7 =  34765\n",
      "Variants Tumor8 =  87267\n"
     ]
    }
   ],
   "source": [
    "print('Variants TLX3 = ', len(tlx))\n",
    "print('Variants TAP = ', len(tap))\n",
    "print('Variants Tumor7 = ', len(tum7))\n",
    "print('Variants Tumor8 = ', len(tum8))"
   ]
  },
  {
   "cell_type": "code",
   "execution_count": 134,
   "metadata": {
    "collapsed": false
   },
   "outputs": [],
   "source": [
    "isec = tap.intersect(tlx, header=True)"
   ]
  },
  {
   "cell_type": "code",
   "execution_count": 135,
   "metadata": {
    "collapsed": false
   },
   "outputs": [],
   "source": [
    "isec_tum = tum8.intersect(tum7, header=True)"
   ]
  },
  {
   "cell_type": "code",
   "execution_count": 136,
   "metadata": {
    "collapsed": false
   },
   "outputs": [
    {
     "name": "stdout",
     "output_type": "stream",
     "text": [
      "TLX3 and TAP common =  3404\n",
      "Tumor common =  27714\n"
     ]
    }
   ],
   "source": [
    "print('TLX3 and TAP common = ', len(isec))\n",
    "print('Tumor common = ', len(isec_tum))"
   ]
  },
  {
   "cell_type": "code",
   "execution_count": 137,
   "metadata": {
    "collapsed": false
   },
   "outputs": [],
   "source": [
    "isec_all = isec_tum.intersect(isec, header=True)"
   ]
  },
  {
   "cell_type": "code",
   "execution_count": 138,
   "metadata": {
    "collapsed": false
   },
   "outputs": [
    {
     "data": {
      "text/plain": [
       "2071"
      ]
     },
     "execution_count": 138,
     "metadata": {},
     "output_type": "execute_result"
    }
   ],
   "source": [
    "len(isec_all)"
   ]
  },
  {
   "cell_type": "markdown",
   "metadata": {},
   "source": [
    "# CASE 1: Variants for list of genes - tumor suppressors"
   ]
  },
  {
   "cell_type": "code",
   "execution_count": null,
   "metadata": {
    "collapsed": false
   },
   "outputs": [],
   "source": [
    "import EnrichRLib as erl\n",
    "\n",
    "tall_sup = erl.read_gmt('gene_lists/T-ALL_suppressor.gmt')\n",
    "gl = tall_sup['T-ALL-suppressor']\n",
    "\n",
    "gl"
   ]
  },
  {
   "cell_type": "code",
   "execution_count": null,
   "metadata": {
    "collapsed": false
   },
   "outputs": [],
   "source": [
    "# working with pair {cod_var, cod_gt}\n",
    "cod_var.loc[:,'ANN_Gene_Name'] = cod_var['ANN_Gene_Name'].str.upper()"
   ]
  },
  {
   "cell_type": "code",
   "execution_count": null,
   "metadata": {
    "collapsed": false
   },
   "outputs": [],
   "source": [
    "#cod_var['ANN_Gene_Name'].head()\n",
    "\n",
    "cod_var_gs = cod_var.loc[cod_var['ANN_Gene_Name'].isin(gl)]"
   ]
  },
  {
   "cell_type": "code",
   "execution_count": null,
   "metadata": {
    "collapsed": false
   },
   "outputs": [],
   "source": [
    "cod_gt_gs = cod_gt[cod_var_gs.index]\n"
   ]
  },
  {
   "cell_type": "code",
   "execution_count": null,
   "metadata": {
    "collapsed": false
   },
   "outputs": [],
   "source": [
    "# TLX3 count homo/hetero\n",
    "tlx_homalt = cod_gt_gs[:,2:].is_hom_alt()[:]\n",
    "cod_gt_gs[:,2:].count_hom_alt()\n"
   ]
  },
  {
   "cell_type": "code",
   "execution_count": null,
   "metadata": {
    "collapsed": false
   },
   "outputs": [],
   "source": [
    "# TAP count homo/hetero\n",
    "tap_homalt = cod_gt_gs[:,:2].is_hom_alt()[:]\n",
    "\n",
    "cod_gt_gs[:,:2].count_hom_alt()"
   ]
  },
  {
   "cell_type": "code",
   "execution_count": null,
   "metadata": {
    "collapsed": false
   },
   "outputs": [],
   "source": [
    "cod_var_gs_r = cod_var_gs.reset_index()\n",
    "\n",
    "# tlx\n",
    "cod_var_gs_tlx = cod_var_gs_r[tlx_homalt]\n",
    "\n",
    "# tap\n",
    "cod_var_gs_tap = cod_var_gs_r[tap_homalt]"
   ]
  },
  {
   "cell_type": "code",
   "execution_count": null,
   "metadata": {
    "collapsed": false
   },
   "outputs": [],
   "source": [
    "cols = ['CHROM', 'POS', 'REF', 'ALT_1', 'ALT_2',\n",
    "        'ANN_Annotation',\n",
    "        'ANN_Annotation_Impact',\n",
    "        'ANN_Feature_ID',\n",
    "        'ANN_Feature_Type',\n",
    "        'ANN_Gene_ID',\n",
    "        'ANN_Gene_Name',\n",
    "        'ANN_Rank',\n",
    "        'ANN_Transcript_BioType']\n",
    "\n",
    "cod_var_gs_tlx[cols]"
   ]
  },
  {
   "cell_type": "code",
   "execution_count": null,
   "metadata": {
    "collapsed": false
   },
   "outputs": [],
   "source": [
    "cod_var_gs_tap[cols]"
   ]
  },
  {
   "cell_type": "markdown",
   "metadata": {},
   "source": [
    "# CASE 2: Variant in enhancers"
   ]
  },
  {
   "cell_type": "code",
   "execution_count": null,
   "metadata": {
    "collapsed": true
   },
   "outputs": [],
   "source": [
    "import pybedtools as pb"
   ]
  },
  {
   "cell_type": "code",
   "execution_count": null,
   "metadata": {
    "collapsed": false
   },
   "outputs": [],
   "source": [
    "enh = pb.BedTool('tracks/Enhancers_ChromHMM.bed')\n",
    "enh_df = enh.to_dataframe()"
   ]
  },
  {
   "cell_type": "code",
   "execution_count": null,
   "metadata": {
    "collapsed": false
   },
   "outputs": [],
   "source": [
    "#enh_df.head()"
   ]
  },
  {
   "cell_type": "code",
   "execution_count": null,
   "metadata": {
    "collapsed": false
   },
   "outputs": [],
   "source": [
    "ftlx = 'tracks/WGS-WES/Germline/FERRIER_09_Germline.allchr.snpEff.p.SAL.SAL10_1.vcf'\n",
    "var_b = pb.BedTool(ftlx)"
   ]
  },
  {
   "cell_type": "code",
   "execution_count": null,
   "metadata": {
    "collapsed": false
   },
   "outputs": [],
   "source": [
    "var_enh = (var_b + enh).saveas('tracks/WGS-WES/Germline/Vars_Enh_noHeader.vcf')"
   ]
  },
  {
   "cell_type": "code",
   "execution_count": null,
   "metadata": {
    "collapsed": false
   },
   "outputs": [],
   "source": [
    "len(var_enh)"
   ]
  },
  {
   "cell_type": "code",
   "execution_count": null,
   "metadata": {
    "collapsed": false
   },
   "outputs": [],
   "source": [
    "# Concat with header\n",
    "\n",
    "# !cat tracks/WGS-WES/Germline/Germline_header.txt tracks/WGS-WES/Germline/Vars_Enh_noHeader.vcf > tracks/WGS-WES/Germline/Vars_Enh.vcf"
   ]
  },
  {
   "cell_type": "code",
   "execution_count": null,
   "metadata": {
    "collapsed": false
   },
   "outputs": [],
   "source": [
    "var_enh_df = var_enh.to_dataframe(names=['CHROM','POS','ID','REF','ALT','QUAL','FILTER','INFO','FORMAT','AC3812','AC3813','AC3814','AC3815'])"
   ]
  },
  {
   "cell_type": "code",
   "execution_count": null,
   "metadata": {
    "collapsed": false
   },
   "outputs": [],
   "source": [
    "var_enh_df.head()"
   ]
  },
  {
   "cell_type": "code",
   "execution_count": null,
   "metadata": {
    "collapsed": false
   },
   "outputs": [],
   "source": [
    "#var_enh_df['INFO'][16]"
   ]
  },
  {
   "cell_type": "code",
   "execution_count": null,
   "metadata": {
    "collapsed": false
   },
   "outputs": [],
   "source": [
    "#plot_variant_hist_2d('QD', 'MQ', var, downsample=500)\n",
    "\n",
    "\n",
    "\n",
    "#“MQ” is average mapping quality across all samples.\n",
    "#plot_variant_hist('MQ', var, down=2)\n",
    "\n",
    "#“QD” is a slightly odd statistic but turns out to be very useful \n",
    "# for finding poor quality SNPs. Roughly speaking, high numbers \n",
    "# mean that evidence for variation is strong (concentrated), \n",
    "# low numbers mean that evidence is weak (dilute).\n",
    "\n",
    "\n",
    "#x = var['QD'][:][::1000]\n",
    "#plot_variant_hist('QD', var, bins=30, down=500)\n",
    "\n",
    "#ac = gt.count_alleles()\n",
    "#ac\n",
    "\n"
   ]
  },
  {
   "cell_type": "code",
   "execution_count": null,
   "metadata": {
    "collapsed": true
   },
   "outputs": [],
   "source": []
  }
 ],
 "metadata": {
  "kernelspec": {
   "display_name": "Python 3",
   "language": "python",
   "name": "python3"
  },
  "language_info": {
   "codemirror_mode": {
    "name": "ipython",
    "version": 3
   },
   "file_extension": ".py",
   "mimetype": "text/x-python",
   "name": "python",
   "nbconvert_exporter": "python",
   "pygments_lexer": "ipython3",
   "version": "3.5.2"
  }
 },
 "nbformat": 4,
 "nbformat_minor": 2
}
