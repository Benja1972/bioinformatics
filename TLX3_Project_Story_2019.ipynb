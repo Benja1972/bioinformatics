{
 "cells": [
  {
   "cell_type": "code",
   "execution_count": 2,
   "metadata": {
    "collapsed": false
   },
   "outputs": [],
   "source": [
    "import numpy as np\n",
    "import scipy\n",
    "import pandas as pd\n",
    "import pybedtools as pb\n",
    "\n",
    "# figs\n",
    "import matplotlib as mpl\n",
    "import matplotlib.pyplot as plt\n",
    "%matplotlib inline\n",
    "mpl.rcParams['figure.dpi']= 150\n",
    "import seaborn as sns\n",
    "\n",
    "\n",
    "#import h5py\n",
    "#import allel\n",
    "\n",
    "# my libs\n",
    "import EnrichRLib as erl\n",
    "import RNA_expression_processing as rn\n",
    "import Enh_Mut_Manip as emm\n",
    "\n",
    "# warnings\n",
    "import warnings\n",
    "warnings.filterwarnings('ignore')"
   ]
  },
  {
   "cell_type": "code",
   "execution_count": 3,
   "metadata": {
    "collapsed": true
   },
   "outputs": [],
   "source": [
    "# Project settings\n",
    "from os.path import join \n",
    "WORKDIR = '/home/sergio/Res_CIML/TLX3_project'\n",
    "SCRIPTS = join(WORKDIR,'scripts')\n",
    "DATADIR = join(WORKDIR,'data')\n",
    "WGS = join(DATADIR,'tracks/WGS-WES/Germline')\n",
    "RP = join(DATADIR,'tracks/MARGE/relativeRP/bam_input')"
   ]
  },
  {
   "cell_type": "markdown",
   "metadata": {},
   "source": [
    "# Data loading"
   ]
  },
  {
   "cell_type": "markdown",
   "metadata": {},
   "source": [
    "### Genome Wide mutations in TLX3"
   ]
  },
  {
   "cell_type": "code",
   "execution_count": 4,
   "metadata": {
    "collapsed": true
   },
   "outputs": [],
   "source": [
    "## == Genome vcf\n",
    "tlx_gn = pb.BedTool(join(WGS,'TLX3_WGS.vcf.gz'))"
   ]
  },
  {
   "cell_type": "markdown",
   "metadata": {},
   "source": [
    "### RNA-expression table TLX3-vs-RAG"
   ]
  },
  {
   "cell_type": "code",
   "execution_count": 5,
   "metadata": {
    "collapsed": true
   },
   "outputs": [],
   "source": [
    "## == Expression table TLX3 vs RAG\n",
    "tbl = pd.read_table(join(DATADIR,'tracks', 'TLX3vsRAG-results_genesNames.txt'), index_col=0)\n",
    "#tbl = tbl[(tbl.padj < 0.05)].dropna()\n",
    "\n",
    "# -- Pheno --\n",
    "A,B = 'TLX3','RAG'\n",
    "classes = [A]*3+[B]*3\n",
    "\n",
    "\n",
    "cols = ['Gene_name', 'TLX3.1_1','TLX3.1_5','TLX3.1_P','R2.RAG1W.RAG1','RAGS.RAGZ','RAGZ']\n",
    "\n",
    "tbn = tbl[cols]\n",
    "expr = tbn.set_index(keys=tbn.columns[0])\n",
    "#expr.index = expr.index.str.upper()"
   ]
  },
  {
   "cell_type": "markdown",
   "metadata": {},
   "source": [
    "### Enhancers from chromatin states"
   ]
  },
  {
   "cell_type": "code",
   "execution_count": 6,
   "metadata": {
    "collapsed": false
   },
   "outputs": [],
   "source": [
    "## == Enhancers \n",
    "enh = pb.BedTool(join(DATADIR,'tracks/Enhancers_ChromHMM.bed'))\n",
    "enh_df = enh.to_dataframe()\n",
    "\n",
    "# Enh to genes table\n",
    "enh2gn = pd.read_table(join(DATADIR,'tracks/Enhancers_ChromHMM_enh2genes.txt'), \n",
    "                        header=1, \n",
    "                        names=['enhancers','gene_name'])\n",
    "# Gene to enh table\n",
    "gn2enh = pd.read_table(join(DATADIR,'tracks/Enhancers_ChromHMM_genes2enh.txt'), \n",
    "                        header=1, \n",
    "                        names=['gene_name','enhancers'])\n"
   ]
  },
  {
   "cell_type": "markdown",
   "metadata": {},
   "source": [
    "### Regulatory potentials based on H3K27ac -- TLX3-vs-RAG"
   ]
  },
  {
   "cell_type": "code",
   "execution_count": 7,
   "metadata": {
    "collapsed": false
   },
   "outputs": [],
   "source": [
    "# Regulatory Potentials\n",
    "rpt  =  pd.read_table(join(RP,'RAG_TLX_TAP_relativeRP_mm10mm9.txt'))\n",
    "\n",
    "# -- transform\n",
    "rp = rpt.sort_values('lgFC_TLXvsRAG', axis=0, ascending=False)\n",
    "rp.drop_duplicates(subset='gene_name', inplace=True)\n",
    "\n",
    "\n",
    "A,B = 'TLX_rel_RP','RAG_rel_RP'\n",
    "cols = ['gene_name', A, B]\n",
    "\n",
    "rp = rp[cols]\n",
    "rp = rp.set_index(keys=rp.columns[0])\n"
   ]
  },
  {
   "cell_type": "markdown",
   "metadata": {},
   "source": [
    "### Annotations: genes, tss, T-all oncogenes etc."
   ]
  },
  {
   "cell_type": "code",
   "execution_count": 8,
   "metadata": {
    "collapsed": true
   },
   "outputs": [],
   "source": [
    "# Load T-ALL ocnogenes\n",
    "tall = erl.read_gmt(join(DATADIR,'gene_lists/Cancermine/T-ALL.gmt')) \n",
    "df_mut = pd.read_csv(join(DATADIR,'gene_lists/COSMIC/Genes_mutation_HUMAN_Acute-lymphoblastic-leukaemia.csv'))\n",
    "\n",
    "df_mut['Gname'] = df_mut['Gene name'].apply(lambda x: x.split('_')[0])\n",
    "\n",
    "tall_onc = tall['T-ALL all']\n",
    "tall_mut = list(df_mut['Gname'].unique())\n",
    "\n",
    "# Load genes body regions\n",
    "genes = pb.BedTool(join(DATADIR,'tracks/annot_tracks/references/mm9/mm9.refGene.bed'))\n"
   ]
  },
  {
   "cell_type": "code",
   "execution_count": null,
   "metadata": {
    "collapsed": false
   },
   "outputs": [],
   "source": [
    "rpt.head()"
   ]
  },
  {
   "cell_type": "code",
   "execution_count": null,
   "metadata": {
    "collapsed": false
   },
   "outputs": [],
   "source": [
    "#gn2enh.head()\n",
    "ts = emm.enh_gene(list(expr[0:10].index),gn2enh)\n",
    "\n",
    "ts_en = enh_df[enh_df['name'].isin(ts)]\n",
    "\n",
    "tsen = pb.BedTool.from_dataframe(ts_en).sort()"
   ]
  },
  {
   "cell_type": "code",
   "execution_count": null,
   "metadata": {
    "collapsed": false
   },
   "outputs": [],
   "source": []
  },
  {
   "cell_type": "code",
   "execution_count": null,
   "metadata": {
    "collapsed": true
   },
   "outputs": [],
   "source": []
  }
 ],
 "metadata": {
  "kernelspec": {
   "display_name": "Python 3",
   "language": "python",
   "name": "python3"
  },
  "language_info": {
   "codemirror_mode": {
    "name": "ipython",
    "version": 3
   },
   "file_extension": ".py",
   "mimetype": "text/x-python",
   "name": "python",
   "nbconvert_exporter": "python",
   "pygments_lexer": "ipython3",
   "version": "3.5.6"
  }
 },
 "nbformat": 4,
 "nbformat_minor": 2
}
