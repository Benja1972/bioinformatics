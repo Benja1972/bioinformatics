{
 "cells": [
  {
   "cell_type": "code",
   "execution_count": 1,
   "metadata": {
    "collapsed": false
   },
   "outputs": [
    {
     "name": "stderr",
     "output_type": "stream",
     "text": [
      "/home/sergio/miniconda3/lib/python3.5/importlib/_bootstrap.py:222: RuntimeWarning: numpy.dtype size changed, may indicate binary incompatibility. Expected 96, got 88\n",
      "  return f(*args, **kwds)\n",
      "/home/sergio/miniconda3/lib/python3.5/importlib/_bootstrap.py:222: RuntimeWarning: numpy.dtype size changed, may indicate binary incompatibility. Expected 96, got 88\n",
      "  return f(*args, **kwds)\n",
      "/home/sergio/miniconda3/lib/python3.5/importlib/_bootstrap.py:222: RuntimeWarning: numpy.dtype size changed, may indicate binary incompatibility. Expected 96, got 88\n",
      "  return f(*args, **kwds)\n",
      "/home/sergio/miniconda3/lib/python3.5/site-packages/h5py/__init__.py:34: FutureWarning: Conversion of the second argument of issubdtype from `float` to `np.floating` is deprecated. In future, it will be treated as `np.float64 == np.dtype(float).type`.\n",
      "  from ._conv import register_converters as _register_converters\n"
     ]
    },
    {
     "name": "stdout",
     "output_type": "stream",
     "text": [
      "scikit-allel 1.1.9\n"
     ]
    }
   ],
   "source": [
    "import numpy as np\n",
    "import scipy\n",
    "import pandas\n",
    "import matplotlib as mpl\n",
    "import matplotlib.pyplot as plt\n",
    "%matplotlib inline\n",
    "import seaborn as sns\n",
    "sns.set_style('white')\n",
    "sns.set_style('ticks')\n",
    "sns.set_context('notebook')\n",
    "import h5py\n",
    "import allel; print('scikit-allel', allel.__version__)"
   ]
  },
  {
   "cell_type": "code",
   "execution_count": 2,
   "metadata": {
    "collapsed": true
   },
   "outputs": [],
   "source": [
    "### Functions\n",
    "def chrom2num(st):\n",
    "    chrm = st.split(':')[0]\n",
    "    pos = st.split(':')[1].split('-')\n",
    "\n",
    "    pl = int(pos[0].replace(',',''))\n",
    "\n",
    "    pr = int(pos[1].replace(',',''))\n",
    "    \n",
    "    return chrm, pl, pr\n",
    "\n",
    "def plot_variant_density(pos, window_size, title=None):\n",
    "    \n",
    "    # setup windows \n",
    "    bins = np.arange(pos.min(), pos.max(), window_size)\n",
    "    \n",
    "    # use window midpoints as x coordinate\n",
    "    x = (bins[1:] + bins[:-1])/2\n",
    "    \n",
    "    # compute variant density in each window\n",
    "    h, _ = np.histogram(pos, bins=bins)\n",
    "    y = h / window_size\n",
    "    \n",
    "    # plot\n",
    "    fig, ax = plt.subplots(figsize=(12, 3))\n",
    "    sns.despine(ax=ax, offset=10)\n",
    "    ax.plot(x, y)\n",
    "    ax.set_xlabel('Chromosome position (bp)')\n",
    "    ax.set_ylabel('Variant density (bp$^{-1}$)')\n",
    "    if title:\n",
    "        ax.set_title(title)\n",
    "\n",
    "def plot_variant_hist_2d(f1, f2, variants, downsample):\n",
    "    x = variants[f1][:][::downsample]\n",
    "    y = variants[f2][:][::downsample]\n",
    "    fig, ax = plt.subplots(figsize=(6, 6))\n",
    "    sns.despine(ax=ax, offset=10)\n",
    "    ax.hexbin(x, y, gridsize=20)\n",
    "    ax.set_xlabel(f1)\n",
    "    ax.set_ylabel(f2)\n",
    "    ax.set_title('Variant %s versus %s joint distribution' % (f1, f2))\n",
    "\n",
    "def plot_variant_hist(f, variants, bins=30, down=200):\n",
    "    x = variants[f][:][::down]\n",
    "    fig, ax = plt.subplots(figsize=(7, 5))\n",
    "    sns.despine(ax=ax, offset=10)\n",
    "    ax.hist(x, bins=bins)\n",
    "    ax.set_xlabel(f)\n",
    "    ax.set_ylabel('No. variants')\n",
    "    ax.set_title('Variant %s distribution' % f)"
   ]
  },
  {
   "cell_type": "code",
   "execution_count": 3,
   "metadata": {
    "collapsed": true
   },
   "outputs": [],
   "source": [
    "### VCF direct\n",
    "ftlx = 'tracks/WGS-WES/Germline/FERRIER_09_Germline.allchr.snpEff.p.SAL.SAL10_1.vcf'\n",
    "#ftlxg = 'tracks/WGS/Germline/FERRIER_09_Germline.allchr.snpEff.p.SAL.SAL10_1.vcf.gz'\n",
    "\n",
    "# read VCF file, transform SNPEFF to separated fields (optional)\n",
    "cs = allel.read_vcf(ftlx,fields='*', numbers={'ALT': 4},transformers=allel.ANNTransformer())\n"
   ]
  },
  {
   "cell_type": "code",
   "execution_count": 4,
   "metadata": {
    "collapsed": false
   },
   "outputs": [],
   "source": [
    "# variants data to DataFrame, transform SNPEFF to separated fields (optional)\n",
    "var = allel.vcf_to_dataframe(ftlx,fields='*', numbers={'ALT': 4}, transformers=allel.ANNTransformer())"
   ]
  },
  {
   "cell_type": "code",
   "execution_count": 5,
   "metadata": {
    "collapsed": true
   },
   "outputs": [],
   "source": [
    "# Genotype array to special class GenotypeArray\n",
    "gt = allel.GenotypeArray(cs['calldata/GT'])\n",
    "    ##- typical functions\n",
    "    # gt.is_het()\n",
    "    # gt.count_het(axis=1)\n",
    "    # ac = gt.count_alleles()"
   ]
  },
  {
   "cell_type": "code",
   "execution_count": 6,
   "metadata": {
    "collapsed": false
   },
   "outputs": [],
   "source": [
    "#gt1 = gt.subset([2,7,9,12,45,67,124])\n",
    "#gt2= gt.subset([3,8,10,13,46,68,125])\n",
    "\n",
    "#gt3 = gt2.concatenate(gt1)\n",
    "\n"
   ]
  },
  {
   "cell_type": "code",
   "execution_count": 7,
   "metadata": {
    "collapsed": false
   },
   "outputs": [],
   "source": [
    "#gt1"
   ]
  },
  {
   "cell_type": "code",
   "execution_count": 8,
   "metadata": {
    "collapsed": false
   },
   "outputs": [
    {
     "name": "stdout",
     "output_type": "stream",
     "text": [
      "['', 'intergenic_region', 'transcript']\n",
      "['', 'protein_coding', 'pseudogene']\n"
     ]
    }
   ],
   "source": [
    "print(sorted(var['ANN_Feature_Type'].unique()))\n",
    "print(sorted(var['ANN_Transcript_BioType'].unique()))"
   ]
  },
  {
   "cell_type": "code",
   "execution_count": 9,
   "metadata": {
    "collapsed": false
   },
   "outputs": [],
   "source": [
    "cod_var = var[var['ANN_Feature_Type']=='transcript']"
   ]
  },
  {
   "cell_type": "code",
   "execution_count": 10,
   "metadata": {
    "collapsed": false
   },
   "outputs": [
    {
     "name": "stdout",
     "output_type": "stream",
     "text": [
      "1177356\n"
     ]
    },
    {
     "data": {
      "text/html": [
       "<div>\n",
       "<style scoped>\n",
       "    .dataframe tbody tr th:only-of-type {\n",
       "        vertical-align: middle;\n",
       "    }\n",
       "\n",
       "    .dataframe tbody tr th {\n",
       "        vertical-align: top;\n",
       "    }\n",
       "\n",
       "    .dataframe thead th {\n",
       "        text-align: right;\n",
       "    }\n",
       "</style>\n",
       "<table border=\"1\" class=\"dataframe\">\n",
       "  <thead>\n",
       "    <tr style=\"text-align: right;\">\n",
       "      <th></th>\n",
       "      <th>ANN_Gene_Name</th>\n",
       "      <th>ANN_Feature_Type</th>\n",
       "      <th>ANN_Transcript_BioType</th>\n",
       "    </tr>\n",
       "  </thead>\n",
       "  <tbody>\n",
       "    <tr>\n",
       "      <th>435</th>\n",
       "      <td>Xkr4</td>\n",
       "      <td>transcript</td>\n",
       "      <td>protein_coding</td>\n",
       "    </tr>\n",
       "    <tr>\n",
       "      <th>436</th>\n",
       "      <td>Xkr4</td>\n",
       "      <td>transcript</td>\n",
       "      <td>protein_coding</td>\n",
       "    </tr>\n",
       "    <tr>\n",
       "      <th>437</th>\n",
       "      <td>Xkr4</td>\n",
       "      <td>transcript</td>\n",
       "      <td>protein_coding</td>\n",
       "    </tr>\n",
       "    <tr>\n",
       "      <th>438</th>\n",
       "      <td>Xkr4</td>\n",
       "      <td>transcript</td>\n",
       "      <td>protein_coding</td>\n",
       "    </tr>\n",
       "    <tr>\n",
       "      <th>439</th>\n",
       "      <td>Xkr4</td>\n",
       "      <td>transcript</td>\n",
       "      <td>protein_coding</td>\n",
       "    </tr>\n",
       "  </tbody>\n",
       "</table>\n",
       "</div>"
      ],
      "text/plain": [
       "    ANN_Gene_Name ANN_Feature_Type ANN_Transcript_BioType\n",
       "435          Xkr4       transcript         protein_coding\n",
       "436          Xkr4       transcript         protein_coding\n",
       "437          Xkr4       transcript         protein_coding\n",
       "438          Xkr4       transcript         protein_coding\n",
       "439          Xkr4       transcript         protein_coding"
      ]
     },
     "execution_count": 10,
     "metadata": {},
     "output_type": "execute_result"
    }
   ],
   "source": [
    "print(len(var))\n",
    "len(cod_var)\n",
    "cod_var[['ANN_Gene_Name','ANN_Feature_Type', 'ANN_Transcript_BioType']].head()"
   ]
  },
  {
   "cell_type": "code",
   "execution_count": 11,
   "metadata": {
    "collapsed": false
   },
   "outputs": [],
   "source": [
    "cod_ind=cod_var.index\n",
    "cod_gt=gt[cod_ind]"
   ]
  },
  {
   "cell_type": "markdown",
   "metadata": {},
   "source": [
    "## Now we have pair {cod_var, cod_gt} for transcripts only"
   ]
  },
  {
   "cell_type": "code",
   "execution_count": 12,
   "metadata": {
    "collapsed": false
   },
   "outputs": [
    {
     "data": {
      "image/png": "[encoded data removed]",
      "text/plain": [
       "<matplotlib.figure.Figure at 0x7f54274a5438>"
      ]
     },
     "metadata": {},
     "output_type": "display_data"
    }
   ],
   "source": [
    "#cod_var.head(12)\n",
    "a,b,c = plt.hist(np.log(cod_var['QUAL']), bins=100)"
   ]
  },
  {
   "cell_type": "code",
   "execution_count": 13,
   "metadata": {
    "collapsed": false
   },
   "outputs": [],
   "source": [
    "#cod_gt[2,:]"
   ]
  },
  {
   "cell_type": "markdown",
   "metadata": {},
   "source": [
    "## Strip var data to region "
   ]
  },
  {
   "cell_type": "code",
   "execution_count": 14,
   "metadata": {
    "collapsed": false
   },
   "outputs": [
    {
     "name": "stdout",
     "output_type": "stream",
     "text": [
      "chr12 77033211 78041433\n"
     ]
    }
   ],
   "source": [
    "st  ='chr12:77,033,211-78,041,433'\n",
    "c,l,r = chrom2num(st)\n",
    "print(c,l,r)"
   ]
  },
  {
   "cell_type": "code",
   "execution_count": 15,
   "metadata": {
    "collapsed": false
   },
   "outputs": [],
   "source": [
    "var_reg = var[(var['CHROM']==c) & (var['POS']>l) & (var['POS']<r)]"
   ]
  },
  {
   "cell_type": "code",
   "execution_count": 16,
   "metadata": {
    "collapsed": false
   },
   "outputs": [
    {
     "data": {
      "image/png": "[encoded data removed]",
      "text/plain": [
       "<matplotlib.figure.Figure at 0x7f54274a55c0>"
      ]
     },
     "metadata": {},
     "output_type": "display_data"
    }
   ],
   "source": [
    " plot_variant_density(var_reg['POS'], window_size=35, title=c)"
   ]
  },
  {
   "cell_type": "code",
   "execution_count": 17,
   "metadata": {
    "collapsed": false
   },
   "outputs": [],
   "source": [
    "### Plot density for all chromosomes\n",
    "# for ch in df['CHROM'].unique():\n",
    "#     dfc = df[df['CHROM']==ch]\n",
    "#    plot_windowed_variant_density(dfc['POS'], window_size=100000, title=ch+' , raw variant density')"
   ]
  },
  {
   "cell_type": "markdown",
   "metadata": {},
   "source": [
    "## Working with chunked table, we need HDF5 file"
   ]
  },
  {
   "cell_type": "code",
   "execution_count": 18,
   "metadata": {
    "collapsed": false
   },
   "outputs": [],
   "source": [
    "### Save to hdf5\n",
    "#import sys\n",
    "#allel.vcf_to_hdf5(ftlx,'FERRIER_09_Germline.allchr.snpEff.p.SAL.SAL10_1_Shrt.h5', \n",
    "#                  fields='*', alt_number=4,transformers=allel.ANNTransformer(),log=sys.stdout, vlen=False)"
   ]
  },
  {
   "cell_type": "code",
   "execution_count": 20,
   "metadata": {
    "collapsed": false
   },
   "outputs": [],
   "source": [
    "### HDF5 from VCF database\n",
    "ftlxh5 ='tracks/WGS-WES/Germline/FERRIER_09_Germline.allchr.snpEff.p.SAL.SAL10_1_Shrt.h5'\n",
    "\n",
    "# read HDF5 file\n",
    "csh = h5py.File(ftlxh5,mode='r')\n",
    "var_tb = allel.VariantChunkedTable(csh['variants'], \n",
    "                                   names=['CHROM', 'POS', 'REF', 'ALT', 'DP', 'MQ', 'QD', 'ANN_AA_length',\n",
    "                                             'ANN_Allele',\n",
    "                                             'ANN_Annotation',\n",
    "                                             'ANN_Annotation_Impact',\n",
    "                                             'ANN_Feature_ID',\n",
    "                                             'ANN_Feature_Type',\n",
    "                                             'ANN_Gene_ID',\n",
    "                                             'ANN_Gene_Name',\n",
    "                                             'ANN_Rank',\n",
    "                                             'ANN_Transcript_BioType','numalt'])"
   ]
  },
  {
   "cell_type": "code",
   "execution_count": 21,
   "metadata": {
    "collapsed": false
   },
   "outputs": [],
   "source": [
    "#a,b,c=plt.hist(var_tb['DP'][:], bins=10)\n",
    "#csh['variants/REF']"
   ]
  },
  {
   "cell_type": "markdown",
   "metadata": {},
   "source": [
    "## Now we can work with filters"
   ]
  },
  {
   "cell_type": "code",
   "execution_count": 22,
   "metadata": {
    "collapsed": false
   },
   "outputs": [
    {
     "data": {
      "text/plain": [
       "473279"
      ]
     },
     "execution_count": 22,
     "metadata": {},
     "output_type": "execute_result"
    }
   ],
   "source": [
    "#fltr_expr = '(QD > 5) & (MQ > 40) & (DP > 1500) & (DP < 3000)'\n",
    "fltr_expr=\"ANN_Feature_Type==b'transcript'\"\n",
    "\n",
    "var_tb_fltr = var_tb.eval(fltr_expr)[:]\n",
    "\n",
    "#var_tb\n",
    "#var_tb_fltr\n",
    "np.count_nonzero(var_tb_fltr)\n",
    "#np.count_nonzero(~var_tb_fltr)\n",
    "\n",
    "#list(csh['calldata'].keys())\n",
    "#list(csh['variants'].keys())"
   ]
  },
  {
   "cell_type": "code",
   "execution_count": 23,
   "metadata": {
    "collapsed": false
   },
   "outputs": [],
   "source": [
    "## apply filter\n",
    "var_pass = var_tb.compress(var_tb_fltr)\n"
   ]
  },
  {
   "cell_type": "markdown",
   "metadata": {},
   "source": [
    "## Genotype from HDF5 "
   ]
  },
  {
   "cell_type": "code",
   "execution_count": 24,
   "metadata": {
    "collapsed": false
   },
   "outputs": [
    {
     "data": {
      "text/plain": [
       "['AD', 'DP', 'GQ', 'GT', 'MIN_DP', 'MQ0', 'PGT', 'PID', 'PL', 'RGQ', 'SB']"
      ]
     },
     "execution_count": 24,
     "metadata": {},
     "output_type": "execute_result"
    }
   ],
   "source": [
    "list(csh['calldata'].keys())"
   ]
  },
  {
   "cell_type": "code",
   "execution_count": 25,
   "metadata": {
    "collapsed": false
   },
   "outputs": [
    {
     "data": {
      "text/html": [
       "<div class=\"allel allel-DisplayAs2D\"><span>&lt;GenotypeChunkedArray shape=(1177356, 4, 2) dtype=int8 chunks=(65536, 4, 2)\n",
       "   nbytes=9.0M cbytes=1.1M cratio=8.0\n",
       "   compression=gzip compression_opts=1\n",
       "   values=h5py._hl.dataset.Dataset&gt;</span><table><thead><tr><th></th><th style=\"text-align: center\">0</th><th style=\"text-align: center\">1</th><th style=\"text-align: center\">2</th><th style=\"text-align: center\">3</th></tr></thead><tbody><tr><th style=\"text-align: center; background-color: white; border-right: 1px solid black; \">0</th><td style=\"text-align: center\">0/0</td><td style=\"text-align: center\">0/0</td><td style=\"text-align: center\">0/1</td><td style=\"text-align: center\">0/0</td></tr><tr><th style=\"text-align: center; background-color: white; border-right: 1px solid black; \">1</th><td style=\"text-align: center\">./.</td><td style=\"text-align: center\">0/1</td><td style=\"text-align: center\">0/1</td><td style=\"text-align: center\">1/1</td></tr><tr><th style=\"text-align: center; background-color: white; border-right: 1px solid black; \">2</th><td style=\"text-align: center\">0/0</td><td style=\"text-align: center\">0/0</td><td style=\"text-align: center\">0/1</td><td style=\"text-align: center\">0/1</td></tr><tr><th style=\"text-align: center; background-color: white; border-right: 1px solid black; \">...</th><td style=\"text-align: center\" colspan=\"5\">...</td></tr><tr><th style=\"text-align: center; background-color: white; border-right: 1px solid black; \">1177353</th><td style=\"text-align: center\">0/0</td><td style=\"text-align: center\">0/1</td><td style=\"text-align: center\">0/1</td><td style=\"text-align: center\">0/1</td></tr><tr><th style=\"text-align: center; background-color: white; border-right: 1px solid black; \">1177354</th><td style=\"text-align: center\">0/0</td><td style=\"text-align: center\">0/1</td><td style=\"text-align: center\">0/0</td><td style=\"text-align: center\">0/1</td></tr><tr><th style=\"text-align: center; background-color: white; border-right: 1px solid black; \">1177355</th><td style=\"text-align: center\">0/0</td><td style=\"text-align: center\">0/0</td><td style=\"text-align: center\">1/1</td><td style=\"text-align: center\">1/1</td></tr></tbody></table></div>"
      ],
      "text/plain": [
       "<GenotypeChunkedArray shape=(1177356, 4, 2) dtype=int8 chunks=(65536, 4, 2)\n",
       "   nbytes=9.0M cbytes=1.1M cratio=8.0\n",
       "   compression=gzip compression_opts=1\n",
       "   values=h5py._hl.dataset.Dataset>"
      ]
     },
     "execution_count": 25,
     "metadata": {},
     "output_type": "execute_result"
    }
   ],
   "source": [
    "gth = allel.GenotypeChunkedArray(csh['calldata/GT'])\n",
    "gth"
   ]
  },
  {
   "cell_type": "code",
   "execution_count": 26,
   "metadata": {
    "collapsed": false
   },
   "outputs": [
    {
     "data": {
      "text/plain": [
       "[b'AC3812', b'AC3813', b'AC3814', b'AC3815']"
      ]
     },
     "execution_count": 26,
     "metadata": {},
     "output_type": "execute_result"
    }
   ],
   "source": [
    "list(csh['samples'])"
   ]
  },
  {
   "cell_type": "code",
   "execution_count": 27,
   "metadata": {
    "collapsed": false
   },
   "outputs": [],
   "source": [
    "import pandas as pd\n",
    "samples = pd.DataFrame({'sample':[b'AC3812', b'AC3813', b'AC3814', b'AC3815'], 'cell_type':['TAP','TAP','TLX3','TLX3']})\n",
    "TLX = samples['cell_type'].isin(['TLX3'])\n",
    "TAP = samples['cell_type'].isin(['TAP'])\n"
   ]
  },
  {
   "cell_type": "markdown",
   "metadata": {},
   "source": [
    "## Subset genotype on transcrips and samples"
   ]
  },
  {
   "cell_type": "code",
   "execution_count": 28,
   "metadata": {
    "collapsed": true
   },
   "outputs": [],
   "source": [
    "gth_tlx = gth.subset(var_tb_fltr, TLX)\n",
    "gth_tap = gth.subset(var_tb_fltr, TAP)"
   ]
  },
  {
   "cell_type": "markdown",
   "metadata": {},
   "source": [
    "#### Now we have three tables: {var_pass, gth_tlx, gth_tap}  for transcripts only "
   ]
  },
  {
   "cell_type": "code",
   "execution_count": 29,
   "metadata": {
    "collapsed": false
   },
   "outputs": [
    {
     "name": "stdout",
     "output_type": "stream",
     "text": [
      "TLX3 missing =  [0.81410753 0.82889797]\n",
      "TLX3 hetero =  [62.95525472 55.49475045]\n",
      "TAP missing =  [0.79487998 0.87348055]\n",
      "TAP hetero =  [21.04107725 20.86655017]\n"
     ]
    }
   ],
   "source": [
    "n_variants = len(var_pass)\n",
    "pc_missing_tlx = gth_tlx.count_missing(axis=0)[:] * 100 / n_variants\n",
    "pc_het_tlx = gth_tlx.count_het(axis=0)[:] * 100 / n_variants\n",
    "\n",
    "pc_missing_tap = gth_tap.count_missing(axis=0)[:] * 100 / n_variants\n",
    "pc_het_tap = gth_tap.count_het(axis=0)[:] * 100 / n_variants\n",
    "\n",
    "\n",
    "\n",
    "print('TLX3 missing = ', pc_missing_tlx)\n",
    "print('TLX3 hetero = ', pc_het_tlx)\n",
    "\n",
    "print('TAP missing = ', pc_missing_tap)\n",
    "print('TAP hetero = ', pc_het_tap)"
   ]
  },
  {
   "cell_type": "code",
   "execution_count": 30,
   "metadata": {
    "collapsed": false
   },
   "outputs": [
    {
     "name": "stdout",
     "output_type": "stream",
     "text": [
      "TLX segregating =  418534\n",
      "TAP segregating =  126927\n"
     ]
    }
   ],
   "source": [
    "tlx_seg = gth_tlx.count_alleles().count_segregating()\n",
    "tap_seg = gth_tap.count_alleles().count_segregating()\n",
    "\n",
    "print('TLX segregating = ', tlx_seg)\n",
    "print('TAP segregating = ', tap_seg)"
   ]
  },
  {
   "cell_type": "markdown",
   "metadata": {},
   "source": [
    "# CASE 1: Variants for list of genes - tumor suppressors"
   ]
  },
  {
   "cell_type": "code",
   "execution_count": 40,
   "metadata": {
    "collapsed": false
   },
   "outputs": [
    {
     "data": {
      "text/plain": [
       "['BCL11B',\n",
       " 'RUNX1',\n",
       " 'TET1',\n",
       " 'EZH2',\n",
       " 'FBXW7',\n",
       " 'PTEN',\n",
       " 'FAT1',\n",
       " 'LEF1',\n",
       " 'GATA3',\n",
       " 'ETV6',\n",
       " 'WT1',\n",
       " 'PTPN2',\n",
       " 'CDKN1B',\n",
       " 'RB1',\n",
       " 'DNM2',\n",
       " 'CNOT3',\n",
       " 'RPL5',\n",
       " 'RPL10',\n",
       " 'SH2B3',\n",
       " 'NF1',\n",
       " 'PHF6']"
      ]
     },
     "execution_count": 40,
     "metadata": {},
     "output_type": "execute_result"
    }
   ],
   "source": [
    "import EnrichRLib as erl\n",
    "\n",
    "tall_sup = erl.read_gmt('gene_lists/T-ALL_suppressor.gmt')\n",
    "gl = tall_sup['T-ALL-suppressor']\n",
    "\n",
    "gl"
   ]
  },
  {
   "cell_type": "code",
   "execution_count": 32,
   "metadata": {
    "collapsed": false
   },
   "outputs": [
    {
     "name": "stderr",
     "output_type": "stream",
     "text": [
      "/home/sergio/miniconda3/lib/python3.5/site-packages/pandas/core/indexing.py:537: SettingWithCopyWarning: \n",
      "A value is trying to be set on a copy of a slice from a DataFrame.\n",
      "Try using .loc[row_indexer,col_indexer] = value instead\n",
      "\n",
      "See the caveats in the documentation: http://pandas.pydata.org/pandas-docs/stable/indexing.html#indexing-view-versus-copy\n",
      "  self.obj[item] = s\n"
     ]
    }
   ],
   "source": [
    "# working with pair {cod_var, cod_gt}\n",
    "cod_var.loc[:,'ANN_Gene_Name'] = cod_var['ANN_Gene_Name'].str.upper()"
   ]
  },
  {
   "cell_type": "code",
   "execution_count": 33,
   "metadata": {
    "collapsed": false
   },
   "outputs": [],
   "source": [
    "#cod_var['ANN_Gene_Name'].head()\n",
    "\n",
    "cod_var_gs = cod_var.loc[cod_var['ANN_Gene_Name'].isin(gl)]"
   ]
  },
  {
   "cell_type": "code",
   "execution_count": 34,
   "metadata": {
    "collapsed": false
   },
   "outputs": [],
   "source": [
    "cod_gt_gs = cod_gt[cod_var_gs.index]\n"
   ]
  },
  {
   "cell_type": "code",
   "execution_count": 35,
   "metadata": {
    "collapsed": false
   },
   "outputs": [
    {
     "data": {
      "text/plain": [
       "6"
      ]
     },
     "execution_count": 35,
     "metadata": {},
     "output_type": "execute_result"
    }
   ],
   "source": [
    "# TLX3 count homo/hetero\n",
    "tlx_homalt = cod_gt_gs[:,2:].is_hom_alt()[:]\n",
    "cod_gt_gs[:,2:].count_hom_alt()\n"
   ]
  },
  {
   "cell_type": "code",
   "execution_count": 36,
   "metadata": {
    "collapsed": false
   },
   "outputs": [
    {
     "data": {
      "text/plain": [
       "11"
      ]
     },
     "execution_count": 36,
     "metadata": {},
     "output_type": "execute_result"
    }
   ],
   "source": [
    "# TAP count homo/hetero\n",
    "tap_homalt = cod_gt_gs[:,:2].is_hom_alt()[:]\n",
    "\n",
    "cod_gt_gs[:,:2].count_hom_alt()"
   ]
  },
  {
   "cell_type": "code",
   "execution_count": 37,
   "metadata": {
    "collapsed": false
   },
   "outputs": [],
   "source": [
    "cod_var_gs_r = cod_var_gs.reset_index()\n",
    "\n",
    "# tlx\n",
    "cod_var_gs_tlx = cod_var_gs_r[tlx_homalt]\n",
    "\n",
    "# tap\n",
    "cod_var_gs_tap = cod_var_gs_r[tap_homalt]"
   ]
  },
  {
   "cell_type": "code",
   "execution_count": 38,
   "metadata": {
    "collapsed": false
   },
   "outputs": [
    {
     "data": {
      "text/html": [
       "<div>\n",
       "<style scoped>\n",
       "    .dataframe tbody tr th:only-of-type {\n",
       "        vertical-align: middle;\n",
       "    }\n",
       "\n",
       "    .dataframe tbody tr th {\n",
       "        vertical-align: top;\n",
       "    }\n",
       "\n",
       "    .dataframe thead th {\n",
       "        text-align: right;\n",
       "    }\n",
       "</style>\n",
       "<table border=\"1\" class=\"dataframe\">\n",
       "  <thead>\n",
       "    <tr style=\"text-align: right;\">\n",
       "      <th></th>\n",
       "      <th>CHROM</th>\n",
       "      <th>POS</th>\n",
       "      <th>REF</th>\n",
       "      <th>ALT_1</th>\n",
       "      <th>ALT_2</th>\n",
       "      <th>ANN_Annotation</th>\n",
       "      <th>ANN_Annotation_Impact</th>\n",
       "      <th>ANN_Feature_ID</th>\n",
       "      <th>ANN_Feature_Type</th>\n",
       "      <th>ANN_Gene_ID</th>\n",
       "      <th>ANN_Gene_Name</th>\n",
       "      <th>ANN_Rank</th>\n",
       "      <th>ANN_Transcript_BioType</th>\n",
       "    </tr>\n",
       "  </thead>\n",
       "  <tbody>\n",
       "    <tr>\n",
       "      <th>59</th>\n",
       "      <td>chr12</td>\n",
       "      <td>109154426</td>\n",
       "      <td>G</td>\n",
       "      <td>A</td>\n",
       "      <td></td>\n",
       "      <td>synonymous_variant</td>\n",
       "      <td>LOW</td>\n",
       "      <td>NM_001079883.1</td>\n",
       "      <td>transcript</td>\n",
       "      <td>Bcl11b</td>\n",
       "      <td>BCL11B</td>\n",
       "      <td>4</td>\n",
       "      <td>protein_coding</td>\n",
       "    </tr>\n",
       "    <tr>\n",
       "      <th>59</th>\n",
       "      <td>chr12</td>\n",
       "      <td>109154426</td>\n",
       "      <td>G</td>\n",
       "      <td>A</td>\n",
       "      <td></td>\n",
       "      <td>synonymous_variant</td>\n",
       "      <td>LOW</td>\n",
       "      <td>NM_001079883.1</td>\n",
       "      <td>transcript</td>\n",
       "      <td>Bcl11b</td>\n",
       "      <td>BCL11B</td>\n",
       "      <td>4</td>\n",
       "      <td>protein_coding</td>\n",
       "    </tr>\n",
       "    <tr>\n",
       "      <th>130</th>\n",
       "      <td>chr12</td>\n",
       "      <td>109182765</td>\n",
       "      <td>T</td>\n",
       "      <td>C</td>\n",
       "      <td></td>\n",
       "      <td>intron_variant</td>\n",
       "      <td>MODIFIER</td>\n",
       "      <td>NM_001079883.1</td>\n",
       "      <td>transcript</td>\n",
       "      <td>Bcl11b</td>\n",
       "      <td>BCL11B</td>\n",
       "      <td>3</td>\n",
       "      <td>protein_coding</td>\n",
       "    </tr>\n",
       "    <tr>\n",
       "      <th>173</th>\n",
       "      <td>chr12</td>\n",
       "      <td>109202497</td>\n",
       "      <td>A</td>\n",
       "      <td>T</td>\n",
       "      <td></td>\n",
       "      <td>intron_variant</td>\n",
       "      <td>MODIFIER</td>\n",
       "      <td>NM_001079883.1</td>\n",
       "      <td>transcript</td>\n",
       "      <td>Bcl11b</td>\n",
       "      <td>BCL11B</td>\n",
       "      <td>3</td>\n",
       "      <td>protein_coding</td>\n",
       "    </tr>\n",
       "    <tr>\n",
       "      <th>510</th>\n",
       "      <td>chr6</td>\n",
       "      <td>134092483</td>\n",
       "      <td>C</td>\n",
       "      <td>G</td>\n",
       "      <td></td>\n",
       "      <td>intron_variant</td>\n",
       "      <td>MODIFIER</td>\n",
       "      <td>NM_007961.4</td>\n",
       "      <td>transcript</td>\n",
       "      <td>Etv6</td>\n",
       "      <td>ETV6</td>\n",
       "      <td>2</td>\n",
       "      <td>protein_coding</td>\n",
       "    </tr>\n",
       "    <tr>\n",
       "      <th>510</th>\n",
       "      <td>chr6</td>\n",
       "      <td>134092483</td>\n",
       "      <td>C</td>\n",
       "      <td>G</td>\n",
       "      <td></td>\n",
       "      <td>intron_variant</td>\n",
       "      <td>MODIFIER</td>\n",
       "      <td>NM_007961.4</td>\n",
       "      <td>transcript</td>\n",
       "      <td>Etv6</td>\n",
       "      <td>ETV6</td>\n",
       "      <td>2</td>\n",
       "      <td>protein_coding</td>\n",
       "    </tr>\n",
       "  </tbody>\n",
       "</table>\n",
       "</div>"
      ],
      "text/plain": [
       "     CHROM        POS REF ALT_1 ALT_2      ANN_Annotation  \\\n",
       "59   chr12  109154426   G     A        synonymous_variant   \n",
       "59   chr12  109154426   G     A        synonymous_variant   \n",
       "130  chr12  109182765   T     C            intron_variant   \n",
       "173  chr12  109202497   A     T            intron_variant   \n",
       "510   chr6  134092483   C     G            intron_variant   \n",
       "510   chr6  134092483   C     G            intron_variant   \n",
       "\n",
       "    ANN_Annotation_Impact  ANN_Feature_ID ANN_Feature_Type ANN_Gene_ID  \\\n",
       "59                    LOW  NM_001079883.1       transcript      Bcl11b   \n",
       "59                    LOW  NM_001079883.1       transcript      Bcl11b   \n",
       "130              MODIFIER  NM_001079883.1       transcript      Bcl11b   \n",
       "173              MODIFIER  NM_001079883.1       transcript      Bcl11b   \n",
       "510              MODIFIER     NM_007961.4       transcript        Etv6   \n",
       "510              MODIFIER     NM_007961.4       transcript        Etv6   \n",
       "\n",
       "    ANN_Gene_Name  ANN_Rank ANN_Transcript_BioType  \n",
       "59         BCL11B         4         protein_coding  \n",
       "59         BCL11B         4         protein_coding  \n",
       "130        BCL11B         3         protein_coding  \n",
       "173        BCL11B         3         protein_coding  \n",
       "510          ETV6         2         protein_coding  \n",
       "510          ETV6         2         protein_coding  "
      ]
     },
     "execution_count": 38,
     "metadata": {},
     "output_type": "execute_result"
    }
   ],
   "source": [
    "cols = ['CHROM', 'POS', 'REF', 'ALT_1', 'ALT_2',\n",
    "        'ANN_Annotation',\n",
    "        'ANN_Annotation_Impact',\n",
    "        'ANN_Feature_ID',\n",
    "        'ANN_Feature_Type',\n",
    "        'ANN_Gene_ID',\n",
    "        'ANN_Gene_Name',\n",
    "        'ANN_Rank',\n",
    "        'ANN_Transcript_BioType']\n",
    "\n",
    "cod_var_gs_tlx[cols]"
   ]
  },
  {
   "cell_type": "code",
   "execution_count": 39,
   "metadata": {
    "collapsed": false
   },
   "outputs": [
    {
     "data": {
      "text/html": [
       "<div>\n",
       "<style scoped>\n",
       "    .dataframe tbody tr th:only-of-type {\n",
       "        vertical-align: middle;\n",
       "    }\n",
       "\n",
       "    .dataframe tbody tr th {\n",
       "        vertical-align: top;\n",
       "    }\n",
       "\n",
       "    .dataframe thead th {\n",
       "        text-align: right;\n",
       "    }\n",
       "</style>\n",
       "<table border=\"1\" class=\"dataframe\">\n",
       "  <thead>\n",
       "    <tr style=\"text-align: right;\">\n",
       "      <th></th>\n",
       "      <th>CHROM</th>\n",
       "      <th>POS</th>\n",
       "      <th>REF</th>\n",
       "      <th>ALT_1</th>\n",
       "      <th>ALT_2</th>\n",
       "      <th>ANN_Annotation</th>\n",
       "      <th>ANN_Annotation_Impact</th>\n",
       "      <th>ANN_Feature_ID</th>\n",
       "      <th>ANN_Feature_Type</th>\n",
       "      <th>ANN_Gene_ID</th>\n",
       "      <th>ANN_Gene_Name</th>\n",
       "      <th>ANN_Rank</th>\n",
       "      <th>ANN_Transcript_BioType</th>\n",
       "    </tr>\n",
       "  </thead>\n",
       "  <tbody>\n",
       "    <tr>\n",
       "      <th>59</th>\n",
       "      <td>chr12</td>\n",
       "      <td>109154426</td>\n",
       "      <td>G</td>\n",
       "      <td>A</td>\n",
       "      <td></td>\n",
       "      <td>synonymous_variant</td>\n",
       "      <td>LOW</td>\n",
       "      <td>NM_001079883.1</td>\n",
       "      <td>transcript</td>\n",
       "      <td>Bcl11b</td>\n",
       "      <td>BCL11B</td>\n",
       "      <td>4</td>\n",
       "      <td>protein_coding</td>\n",
       "    </tr>\n",
       "    <tr>\n",
       "      <th>59</th>\n",
       "      <td>chr12</td>\n",
       "      <td>109154426</td>\n",
       "      <td>G</td>\n",
       "      <td>A</td>\n",
       "      <td></td>\n",
       "      <td>synonymous_variant</td>\n",
       "      <td>LOW</td>\n",
       "      <td>NM_001079883.1</td>\n",
       "      <td>transcript</td>\n",
       "      <td>Bcl11b</td>\n",
       "      <td>BCL11B</td>\n",
       "      <td>4</td>\n",
       "      <td>protein_coding</td>\n",
       "    </tr>\n",
       "    <tr>\n",
       "      <th>78</th>\n",
       "      <td>chr12</td>\n",
       "      <td>109168286</td>\n",
       "      <td>G</td>\n",
       "      <td>A</td>\n",
       "      <td></td>\n",
       "      <td>intron_variant</td>\n",
       "      <td>MODIFIER</td>\n",
       "      <td>NM_001079883.1</td>\n",
       "      <td>transcript</td>\n",
       "      <td>Bcl11b</td>\n",
       "      <td>BCL11B</td>\n",
       "      <td>3</td>\n",
       "      <td>protein_coding</td>\n",
       "    </tr>\n",
       "    <tr>\n",
       "      <th>130</th>\n",
       "      <td>chr12</td>\n",
       "      <td>109182765</td>\n",
       "      <td>T</td>\n",
       "      <td>C</td>\n",
       "      <td></td>\n",
       "      <td>intron_variant</td>\n",
       "      <td>MODIFIER</td>\n",
       "      <td>NM_001079883.1</td>\n",
       "      <td>transcript</td>\n",
       "      <td>Bcl11b</td>\n",
       "      <td>BCL11B</td>\n",
       "      <td>3</td>\n",
       "      <td>protein_coding</td>\n",
       "    </tr>\n",
       "    <tr>\n",
       "      <th>173</th>\n",
       "      <td>chr12</td>\n",
       "      <td>109202497</td>\n",
       "      <td>A</td>\n",
       "      <td>T</td>\n",
       "      <td></td>\n",
       "      <td>intron_variant</td>\n",
       "      <td>MODIFIER</td>\n",
       "      <td>NM_001079883.1</td>\n",
       "      <td>transcript</td>\n",
       "      <td>Bcl11b</td>\n",
       "      <td>BCL11B</td>\n",
       "      <td>3</td>\n",
       "      <td>protein_coding</td>\n",
       "    </tr>\n",
       "    <tr>\n",
       "      <th>256</th>\n",
       "      <td>chr12</td>\n",
       "      <td>109240672</td>\n",
       "      <td>CTTTT</td>\n",
       "      <td>C</td>\n",
       "      <td></td>\n",
       "      <td>intron_variant</td>\n",
       "      <td>MODIFIER</td>\n",
       "      <td>NM_001079883.1</td>\n",
       "      <td>transcript</td>\n",
       "      <td>Bcl11b</td>\n",
       "      <td>BCL11B</td>\n",
       "      <td>1</td>\n",
       "      <td>protein_coding</td>\n",
       "    </tr>\n",
       "    <tr>\n",
       "      <th>426</th>\n",
       "      <td>chr6</td>\n",
       "      <td>134004385</td>\n",
       "      <td>G</td>\n",
       "      <td>GTATATATATATATA</td>\n",
       "      <td></td>\n",
       "      <td>intron_variant</td>\n",
       "      <td>MODIFIER</td>\n",
       "      <td>NM_007961.4</td>\n",
       "      <td>transcript</td>\n",
       "      <td>Etv6</td>\n",
       "      <td>ETV6</td>\n",
       "      <td>1</td>\n",
       "      <td>protein_coding</td>\n",
       "    </tr>\n",
       "    <tr>\n",
       "      <th>426</th>\n",
       "      <td>chr6</td>\n",
       "      <td>134004385</td>\n",
       "      <td>G</td>\n",
       "      <td>GTATATATATATATA</td>\n",
       "      <td></td>\n",
       "      <td>intron_variant</td>\n",
       "      <td>MODIFIER</td>\n",
       "      <td>NM_007961.4</td>\n",
       "      <td>transcript</td>\n",
       "      <td>Etv6</td>\n",
       "      <td>ETV6</td>\n",
       "      <td>1</td>\n",
       "      <td>protein_coding</td>\n",
       "    </tr>\n",
       "    <tr>\n",
       "      <th>510</th>\n",
       "      <td>chr6</td>\n",
       "      <td>134092483</td>\n",
       "      <td>C</td>\n",
       "      <td>G</td>\n",
       "      <td></td>\n",
       "      <td>intron_variant</td>\n",
       "      <td>MODIFIER</td>\n",
       "      <td>NM_007961.4</td>\n",
       "      <td>transcript</td>\n",
       "      <td>Etv6</td>\n",
       "      <td>ETV6</td>\n",
       "      <td>2</td>\n",
       "      <td>protein_coding</td>\n",
       "    </tr>\n",
       "    <tr>\n",
       "      <th>510</th>\n",
       "      <td>chr6</td>\n",
       "      <td>134092483</td>\n",
       "      <td>C</td>\n",
       "      <td>G</td>\n",
       "      <td></td>\n",
       "      <td>intron_variant</td>\n",
       "      <td>MODIFIER</td>\n",
       "      <td>NM_007961.4</td>\n",
       "      <td>transcript</td>\n",
       "      <td>Etv6</td>\n",
       "      <td>ETV6</td>\n",
       "      <td>2</td>\n",
       "      <td>protein_coding</td>\n",
       "    </tr>\n",
       "    <tr>\n",
       "      <th>530</th>\n",
       "      <td>chr6</td>\n",
       "      <td>134178978</td>\n",
       "      <td>GCACACA</td>\n",
       "      <td>G</td>\n",
       "      <td></td>\n",
       "      <td>intron_variant</td>\n",
       "      <td>MODIFIER</td>\n",
       "      <td>NM_007961.4</td>\n",
       "      <td>transcript</td>\n",
       "      <td>Etv6</td>\n",
       "      <td>ETV6</td>\n",
       "      <td>3</td>\n",
       "      <td>protein_coding</td>\n",
       "    </tr>\n",
       "  </tbody>\n",
       "</table>\n",
       "</div>"
      ],
      "text/plain": [
       "     CHROM        POS      REF            ALT_1 ALT_2      ANN_Annotation  \\\n",
       "59   chr12  109154426        G                A        synonymous_variant   \n",
       "59   chr12  109154426        G                A        synonymous_variant   \n",
       "78   chr12  109168286        G                A            intron_variant   \n",
       "130  chr12  109182765        T                C            intron_variant   \n",
       "173  chr12  109202497        A                T            intron_variant   \n",
       "256  chr12  109240672    CTTTT                C            intron_variant   \n",
       "426   chr6  134004385        G  GTATATATATATATA            intron_variant   \n",
       "426   chr6  134004385        G  GTATATATATATATA            intron_variant   \n",
       "510   chr6  134092483        C                G            intron_variant   \n",
       "510   chr6  134092483        C                G            intron_variant   \n",
       "530   chr6  134178978  GCACACA                G            intron_variant   \n",
       "\n",
       "    ANN_Annotation_Impact  ANN_Feature_ID ANN_Feature_Type ANN_Gene_ID  \\\n",
       "59                    LOW  NM_001079883.1       transcript      Bcl11b   \n",
       "59                    LOW  NM_001079883.1       transcript      Bcl11b   \n",
       "78               MODIFIER  NM_001079883.1       transcript      Bcl11b   \n",
       "130              MODIFIER  NM_001079883.1       transcript      Bcl11b   \n",
       "173              MODIFIER  NM_001079883.1       transcript      Bcl11b   \n",
       "256              MODIFIER  NM_001079883.1       transcript      Bcl11b   \n",
       "426              MODIFIER     NM_007961.4       transcript        Etv6   \n",
       "426              MODIFIER     NM_007961.4       transcript        Etv6   \n",
       "510              MODIFIER     NM_007961.4       transcript        Etv6   \n",
       "510              MODIFIER     NM_007961.4       transcript        Etv6   \n",
       "530              MODIFIER     NM_007961.4       transcript        Etv6   \n",
       "\n",
       "    ANN_Gene_Name  ANN_Rank ANN_Transcript_BioType  \n",
       "59         BCL11B         4         protein_coding  \n",
       "59         BCL11B         4         protein_coding  \n",
       "78         BCL11B         3         protein_coding  \n",
       "130        BCL11B         3         protein_coding  \n",
       "173        BCL11B         3         protein_coding  \n",
       "256        BCL11B         1         protein_coding  \n",
       "426          ETV6         1         protein_coding  \n",
       "426          ETV6         1         protein_coding  \n",
       "510          ETV6         2         protein_coding  \n",
       "510          ETV6         2         protein_coding  \n",
       "530          ETV6         3         protein_coding  "
      ]
     },
     "execution_count": 39,
     "metadata": {},
     "output_type": "execute_result"
    }
   ],
   "source": [
    "cod_var_gs_tap[cols]"
   ]
  },
  {
   "cell_type": "markdown",
   "metadata": {},
   "source": [
    "# CASE 2: Variant in enhancers"
   ]
  },
  {
   "cell_type": "code",
   "execution_count": 20,
   "metadata": {
    "collapsed": true
   },
   "outputs": [],
   "source": [
    "import pybedtools as pb"
   ]
  },
  {
   "cell_type": "code",
   "execution_count": 26,
   "metadata": {
    "collapsed": false
   },
   "outputs": [],
   "source": [
    "enh = pb.BedTool('tracks/Enhancers_ChromHMM.bed')\n",
    "enh_df = enh.to_dataframe()"
   ]
  },
  {
   "cell_type": "code",
   "execution_count": 57,
   "metadata": {
    "collapsed": false
   },
   "outputs": [],
   "source": [
    "#enh_df.head()"
   ]
  },
  {
   "cell_type": "code",
   "execution_count": 31,
   "metadata": {
    "collapsed": false
   },
   "outputs": [],
   "source": [
    "ftlx = 'tracks/WGS-WES/Germline/FERRIER_09_Germline.allchr.snpEff.p.SAL.SAL10_1.vcf'\n",
    "var_b = pb.BedTool(ftlx)"
   ]
  },
  {
   "cell_type": "code",
   "execution_count": 42,
   "metadata": {
    "collapsed": false
   },
   "outputs": [],
   "source": [
    "var_enh = (var_b + enh).saveas('tracks/WGS-WES/Germline/Vars_Enh_noHeader.vcf')"
   ]
  },
  {
   "cell_type": "code",
   "execution_count": 58,
   "metadata": {
    "collapsed": false
   },
   "outputs": [
    {
     "data": {
      "text/plain": [
       "6104"
      ]
     },
     "execution_count": 58,
     "metadata": {},
     "output_type": "execute_result"
    }
   ],
   "source": [
    "len(var_enh)"
   ]
  },
  {
   "cell_type": "code",
   "execution_count": 44,
   "metadata": {
    "collapsed": false
   },
   "outputs": [],
   "source": [
    "# Concat with header\n",
    "\n",
    "# !cat tracks/WGS-WES/Germline/Germline_header.txt tracks/WGS-WES/Germline/Vars_Enh_noHeader.vcf > tracks/WGS-WES/Germline/Vars_Enh.vcf"
   ]
  },
  {
   "cell_type": "code",
   "execution_count": 49,
   "metadata": {
    "collapsed": false
   },
   "outputs": [],
   "source": [
    "var_enh_df = var_enh.to_dataframe(names=['CHROM','POS','ID','REF','ALT','QUAL','FILTER','INFO','FORMAT','AC3812','AC3813','AC3814','AC3815'])"
   ]
  },
  {
   "cell_type": "code",
   "execution_count": 54,
   "metadata": {
    "collapsed": false
   },
   "outputs": [
    {
     "data": {
      "text/html": [
       "<div>\n",
       "<style scoped>\n",
       "    .dataframe tbody tr th:only-of-type {\n",
       "        vertical-align: middle;\n",
       "    }\n",
       "\n",
       "    .dataframe tbody tr th {\n",
       "        vertical-align: top;\n",
       "    }\n",
       "\n",
       "    .dataframe thead th {\n",
       "        text-align: right;\n",
       "    }\n",
       "</style>\n",
       "<table border=\"1\" class=\"dataframe\">\n",
       "  <thead>\n",
       "    <tr style=\"text-align: right;\">\n",
       "      <th></th>\n",
       "      <th>CHROM</th>\n",
       "      <th>POS</th>\n",
       "      <th>ID</th>\n",
       "      <th>REF</th>\n",
       "      <th>ALT</th>\n",
       "      <th>QUAL</th>\n",
       "      <th>FILTER</th>\n",
       "      <th>INFO</th>\n",
       "      <th>FORMAT</th>\n",
       "      <th>AC3812</th>\n",
       "      <th>AC3813</th>\n",
       "      <th>AC3814</th>\n",
       "      <th>AC3815</th>\n",
       "    </tr>\n",
       "  </thead>\n",
       "  <tbody>\n",
       "    <tr>\n",
       "      <th>0</th>\n",
       "      <td>chr1</td>\n",
       "      <td>6457367</td>\n",
       "      <td>.</td>\n",
       "      <td>G</td>\n",
       "      <td>A</td>\n",
       "      <td>75.30</td>\n",
       "      <td>PASS</td>\n",
       "      <td>AC=1;AF=0.125;AN=8;BaseQRankSum=-1.432e+00;Cli...</td>\n",
       "      <td>GT:AD:DP:GQ:PL</td>\n",
       "      <td>0/0:41,0:41:99:0,103,1489</td>\n",
       "      <td>0/0:43,0:43:99:0,99,1515</td>\n",
       "      <td>0/0:47,0:47:0:0,0,1425</td>\n",
       "      <td>0/1:38,7:45:99:105,0,1343</td>\n",
       "    </tr>\n",
       "    <tr>\n",
       "      <th>1</th>\n",
       "      <td>chr1</td>\n",
       "      <td>9227118</td>\n",
       "      <td>.</td>\n",
       "      <td>G</td>\n",
       "      <td>A</td>\n",
       "      <td>3553.94</td>\n",
       "      <td>map</td>\n",
       "      <td>AC=4;AF=0.500;AN=8;BaseQRankSum=-3.551e+00;Cli...</td>\n",
       "      <td>GT:AD:DP:GQ:PL</td>\n",
       "      <td>0/1:49,31:80:99:803,0,1598</td>\n",
       "      <td>0/1:47,46:93:99:1249,0,1453</td>\n",
       "      <td>0/1:51,30:81:99:726,0,1561</td>\n",
       "      <td>0/1:42,33:75:99:808,0,1327</td>\n",
       "    </tr>\n",
       "    <tr>\n",
       "      <th>2</th>\n",
       "      <td>chr1</td>\n",
       "      <td>10275750</td>\n",
       "      <td>.</td>\n",
       "      <td>GTCTC</td>\n",
       "      <td>G</td>\n",
       "      <td>109.29</td>\n",
       "      <td>PASS</td>\n",
       "      <td>AC=1;AF=0.125;AN=8;BaseQRankSum=-1.939e+00;Cli...</td>\n",
       "      <td>GT:AD:DP:GQ:PL</td>\n",
       "      <td>0/0:38,0:38:99:0,108,1620</td>\n",
       "      <td>0/0:41,0:41:99:0,102,1481</td>\n",
       "      <td>0/1:48,7:55:99:150,0,1958</td>\n",
       "      <td>0/0:39,0:39:99:0,103,1382</td>\n",
       "    </tr>\n",
       "    <tr>\n",
       "      <th>3</th>\n",
       "      <td>chr1</td>\n",
       "      <td>10315189</td>\n",
       "      <td>.</td>\n",
       "      <td>T</td>\n",
       "      <td>C</td>\n",
       "      <td>129.33</td>\n",
       "      <td>PASS</td>\n",
       "      <td>AC=1;AF=0.125;AN=8;BaseQRankSum=-1.779e+00;Cli...</td>\n",
       "      <td>GT:AD:DP:GQ:PL</td>\n",
       "      <td>0/0:39,0:39:99:0,100,1486</td>\n",
       "      <td>0/0:40,0:40:99:0,102,1511</td>\n",
       "      <td>0/1:39,9:48:99:161,0,1345</td>\n",
       "      <td>0/0:41,0:41:53:0,53,1429</td>\n",
       "    </tr>\n",
       "    <tr>\n",
       "      <th>4</th>\n",
       "      <td>chr1</td>\n",
       "      <td>10316603</td>\n",
       "      <td>.</td>\n",
       "      <td>G</td>\n",
       "      <td>GTCTTT</td>\n",
       "      <td>1767.94</td>\n",
       "      <td>mrd15;mrd20;mrd30</td>\n",
       "      <td>AC=4;AF=0.500;AN=8;BaseQRankSum=0.605;Clipping...</td>\n",
       "      <td>GT:AD:DP:GQ:PL</td>\n",
       "      <td>0/1:13,12:25:99:451,0,645</td>\n",
       "      <td>0/1:8,9:17:99:395,0,416</td>\n",
       "      <td>0/1:4,9:13:99:441,0,177</td>\n",
       "      <td>0/1:10,13:25:99:513,0,520</td>\n",
       "    </tr>\n",
       "  </tbody>\n",
       "</table>\n",
       "</div>"
      ],
      "text/plain": [
       "  CHROM       POS ID    REF     ALT     QUAL             FILTER  \\\n",
       "0  chr1   6457367  .      G       A    75.30               PASS   \n",
       "1  chr1   9227118  .      G       A  3553.94                map   \n",
       "2  chr1  10275750  .  GTCTC       G   109.29               PASS   \n",
       "3  chr1  10315189  .      T       C   129.33               PASS   \n",
       "4  chr1  10316603  .      G  GTCTTT  1767.94  mrd15;mrd20;mrd30   \n",
       "\n",
       "                                                INFO          FORMAT  \\\n",
       "0  AC=1;AF=0.125;AN=8;BaseQRankSum=-1.432e+00;Cli...  GT:AD:DP:GQ:PL   \n",
       "1  AC=4;AF=0.500;AN=8;BaseQRankSum=-3.551e+00;Cli...  GT:AD:DP:GQ:PL   \n",
       "2  AC=1;AF=0.125;AN=8;BaseQRankSum=-1.939e+00;Cli...  GT:AD:DP:GQ:PL   \n",
       "3  AC=1;AF=0.125;AN=8;BaseQRankSum=-1.779e+00;Cli...  GT:AD:DP:GQ:PL   \n",
       "4  AC=4;AF=0.500;AN=8;BaseQRankSum=0.605;Clipping...  GT:AD:DP:GQ:PL   \n",
       "\n",
       "                       AC3812                       AC3813  \\\n",
       "0   0/0:41,0:41:99:0,103,1489     0/0:43,0:43:99:0,99,1515   \n",
       "1  0/1:49,31:80:99:803,0,1598  0/1:47,46:93:99:1249,0,1453   \n",
       "2   0/0:38,0:38:99:0,108,1620    0/0:41,0:41:99:0,102,1481   \n",
       "3   0/0:39,0:39:99:0,100,1486    0/0:40,0:40:99:0,102,1511   \n",
       "4   0/1:13,12:25:99:451,0,645      0/1:8,9:17:99:395,0,416   \n",
       "\n",
       "                       AC3814                      AC3815  \n",
       "0      0/0:47,0:47:0:0,0,1425   0/1:38,7:45:99:105,0,1343  \n",
       "1  0/1:51,30:81:99:726,0,1561  0/1:42,33:75:99:808,0,1327  \n",
       "2   0/1:48,7:55:99:150,0,1958   0/0:39,0:39:99:0,103,1382  \n",
       "3   0/1:39,9:48:99:161,0,1345    0/0:41,0:41:53:0,53,1429  \n",
       "4     0/1:4,9:13:99:441,0,177   0/1:10,13:25:99:513,0,520  "
      ]
     },
     "execution_count": 54,
     "metadata": {},
     "output_type": "execute_result"
    }
   ],
   "source": [
    "var_enh_df.head()"
   ]
  },
  {
   "cell_type": "code",
   "execution_count": 59,
   "metadata": {
    "collapsed": false
   },
   "outputs": [],
   "source": [
    "#var_enh_df['INFO'][16]"
   ]
  },
  {
   "cell_type": "code",
   "execution_count": null,
   "metadata": {
    "collapsed": false
   },
   "outputs": [],
   "source": [
    "#plot_variant_hist_2d('QD', 'MQ', var, downsample=500)\n",
    "\n",
    "\n",
    "\n",
    "#“MQ” is average mapping quality across all samples.\n",
    "#plot_variant_hist('MQ', var, down=2)\n",
    "\n",
    "#“QD” is a slightly odd statistic but turns out to be very useful \n",
    "# for finding poor quality SNPs. Roughly speaking, high numbers \n",
    "# mean that evidence for variation is strong (concentrated), \n",
    "# low numbers mean that evidence is weak (dilute).\n",
    "\n",
    "\n",
    "#x = var['QD'][:][::1000]\n",
    "#plot_variant_hist('QD', var, bins=30, down=500)\n",
    "\n",
    "#ac = gt.count_alleles()\n",
    "#ac\n",
    "\n"
   ]
  },
  {
   "cell_type": "code",
   "execution_count": null,
   "metadata": {
    "collapsed": true
   },
   "outputs": [],
   "source": []
  }
 ],
 "metadata": {
  "kernelspec": {
   "display_name": "Python 3",
   "language": "python",
   "name": "python3"
  },
  "language_info": {
   "codemirror_mode": {
    "name": "ipython",
    "version": 3
   },
   "file_extension": ".py",
   "mimetype": "text/x-python",
   "name": "python",
   "nbconvert_exporter": "python",
   "pygments_lexer": "ipython3",
   "version": "3.5.2"
  }
 },
 "nbformat": 4,
 "nbformat_minor": 2
}
