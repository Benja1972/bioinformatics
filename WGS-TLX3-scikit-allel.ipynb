{
 "cells": [
  {
   "cell_type": "code",
   "execution_count": 9,
   "metadata": {
    "collapsed": false
   },
   "outputs": [
    {
     "name": "stdout",
     "output_type": "stream",
     "text": [
      "scikit-allel 1.1.9\n"
     ]
    }
   ],
   "source": [
    "import numpy as np\n",
    "import scipy\n",
    "import pandas\n",
    "import matplotlib as mpl\n",
    "import matplotlib.pyplot as plt\n",
    "%matplotlib inline\n",
    "import seaborn as sns\n",
    "sns.set_style('white')\n",
    "sns.set_style('ticks')\n",
    "sns.set_context('notebook')\n",
    "import h5py\n",
    "import allel; print('scikit-allel', allel.__version__)\n",
    "import warnings\n",
    "warnings.filterwarnings('ignore')"
   ]
  },
  {
   "cell_type": "code",
   "execution_count": 2,
   "metadata": {
    "collapsed": true
   },
   "outputs": [],
   "source": [
    "from os.path import join \n",
    "WORKDIR = '/home/sergio/Res_CIML/TLX3_project'\n",
    "SCRIPTS = join(WORKDIR,'scripts')\n",
    "DATADIR = join(WORKDIR,'data')"
   ]
  },
  {
   "cell_type": "code",
   "execution_count": 3,
   "metadata": {
    "collapsed": true
   },
   "outputs": [],
   "source": [
    "### Functions\n",
    "def chrom2num(st):\n",
    "    chrm = st.split(':')[0]\n",
    "    pos = st.split(':')[1].split('-')\n",
    "\n",
    "    pl = int(pos[0].replace(',',''))\n",
    "\n",
    "    pr = int(pos[1].replace(',',''))\n",
    "    \n",
    "    return chrm, pl, pr\n",
    "\n",
    "def plot_variant_density(pos, window_size, title=None):\n",
    "    \n",
    "    # setup windows \n",
    "    bins = np.arange(pos.min(), pos.max(), window_size)\n",
    "    \n",
    "    # use window midpoints as x coordinate\n",
    "    x = (bins[1:] + bins[:-1])/2\n",
    "    \n",
    "    # compute variant density in each window\n",
    "    h, _ = np.histogram(pos, bins=bins)\n",
    "    y = h / window_size\n",
    "    \n",
    "    # plot\n",
    "    fig, ax = plt.subplots(figsize=(12, 3))\n",
    "    sns.despine(ax=ax, offset=10)\n",
    "    ax.plot(x, y)\n",
    "    ax.set_xlabel('Chromosome position (bp)')\n",
    "    ax.set_ylabel('Variant density (bp$^{-1}$)')\n",
    "    if title:\n",
    "        ax.set_title(title)\n",
    "\n",
    "def plot_variant_hist_2d(f1, f2, variants, downsample):\n",
    "    x = variants[f1][:][::downsample]\n",
    "    y = variants[f2][:][::downsample]\n",
    "    fig, ax = plt.subplots(figsize=(6, 6))\n",
    "    sns.despine(ax=ax, offset=10)\n",
    "    ax.hexbin(x, y, gridsize=20)\n",
    "    ax.set_xlabel(f1)\n",
    "    ax.set_ylabel(f2)\n",
    "    ax.set_title('Variant %s versus %s joint distribution' % (f1, f2))\n",
    "\n",
    "def plot_variant_hist(f, variants, bins=30, down=200):\n",
    "    x = variants[f][:][::down]\n",
    "    fig, ax = plt.subplots(figsize=(7, 5))\n",
    "    sns.despine(ax=ax, offset=10)\n",
    "    ax.hist(x, bins=bins)\n",
    "    ax.set_xlabel(f)\n",
    "    ax.set_ylabel('No. variants')\n",
    "    ax.set_title('Variant %s distribution' % f)"
   ]
  },
  {
   "cell_type": "code",
   "execution_count": 4,
   "metadata": {
    "collapsed": true
   },
   "outputs": [],
   "source": [
    "### VCF direct\n",
    "ftlx = join(DATADIR,'tracks/WGS-WES/Germline/FERRIER_09_Germline.allchr.snpEff.p.SAL.SAL10_1.vcf')\n",
    "#ftlxg = 'tracks/WGS/Germline/FERRIER_09_Germline.allchr.snpEff.p.SAL.SAL10_1.vcf.gz'\n",
    "\n",
    "# read VCF file, transform SNPEFF to separated fields (optional)\n",
    "cs = allel.read_vcf(ftlx,fields='*', numbers={'ALT': 4},transformers=allel.ANNTransformer())\n"
   ]
  },
  {
   "cell_type": "code",
   "execution_count": 5,
   "metadata": {
    "collapsed": false
   },
   "outputs": [],
   "source": [
    "# variants data to DataFrame, transform SNPEFF to separated fields (optional)\n",
    "var = allel.vcf_to_dataframe(ftlx,fields='*', numbers={'ALT': 4}, transformers=allel.ANNTransformer())"
   ]
  },
  {
   "cell_type": "code",
   "execution_count": null,
   "metadata": {
    "collapsed": true
   },
   "outputs": [],
   "source": [
    "# Genotype array to special class GenotypeArray\n",
    "gt = allel.GenotypeArray(cs['calldata/GT'])\n",
    "    ##- typical functions\n",
    "    # gt.is_het()\n",
    "    # gt.count_het(axis=1)\n",
    "    # ac = gt.count_alleles()"
   ]
  },
  {
   "cell_type": "code",
   "execution_count": null,
   "metadata": {
    "collapsed": false
   },
   "outputs": [],
   "source": [
    "#gt1 = gt.subset([2,7,9,12,45,67,124])\n",
    "#gt2= gt.subset([3,8,10,13,46,68,125])\n",
    "\n",
    "#gt3 = gt2.concatenate(gt1)\n",
    "\n"
   ]
  },
  {
   "cell_type": "code",
   "execution_count": null,
   "metadata": {
    "collapsed": false
   },
   "outputs": [],
   "source": [
    "#gt1"
   ]
  },
  {
   "cell_type": "code",
   "execution_count": null,
   "metadata": {
    "collapsed": false
   },
   "outputs": [],
   "source": [
    "print(sorted(var['ANN_Feature_Type'].unique()))\n",
    "print(sorted(var['ANN_Transcript_BioType'].unique()))"
   ]
  },
  {
   "cell_type": "code",
   "execution_count": null,
   "metadata": {
    "collapsed": false
   },
   "outputs": [],
   "source": [
    "cod_var = var[var['ANN_Feature_Type']=='transcript']"
   ]
  },
  {
   "cell_type": "code",
   "execution_count": null,
   "metadata": {
    "collapsed": false
   },
   "outputs": [],
   "source": [
    "print(len(var))\n",
    "len(cod_var)\n",
    "cod_var[['ANN_Gene_Name','ANN_Feature_Type', 'ANN_Transcript_BioType']].head()"
   ]
  },
  {
   "cell_type": "code",
   "execution_count": null,
   "metadata": {
    "collapsed": false
   },
   "outputs": [],
   "source": [
    "cod_ind=cod_var.index\n",
    "cod_gt=gt[cod_ind]"
   ]
  },
  {
   "cell_type": "markdown",
   "metadata": {},
   "source": [
    "## Now we have pair {cod_var, cod_gt} for transcripts only"
   ]
  },
  {
   "cell_type": "code",
   "execution_count": null,
   "metadata": {
    "collapsed": false
   },
   "outputs": [],
   "source": [
    "#cod_var.head(12)\n",
    "a,b,c = plt.hist(np.log(cod_var['QUAL']), bins=100)"
   ]
  },
  {
   "cell_type": "code",
   "execution_count": null,
   "metadata": {
    "collapsed": false
   },
   "outputs": [],
   "source": [
    "#cod_gt[2,:]"
   ]
  },
  {
   "cell_type": "markdown",
   "metadata": {},
   "source": [
    "## Strip var data to region "
   ]
  },
  {
   "cell_type": "code",
   "execution_count": null,
   "metadata": {
    "collapsed": false
   },
   "outputs": [],
   "source": [
    "st  ='chr12:77,033,211-78,041,433'\n",
    "c,l,r = chrom2num(st)\n",
    "print(c,l,r)"
   ]
  },
  {
   "cell_type": "code",
   "execution_count": null,
   "metadata": {
    "collapsed": false
   },
   "outputs": [],
   "source": [
    "var_reg = var[(var['CHROM']==c) & (var['POS']>l) & (var['POS']<r)]"
   ]
  },
  {
   "cell_type": "code",
   "execution_count": null,
   "metadata": {
    "collapsed": false
   },
   "outputs": [],
   "source": [
    " plot_variant_density(var_reg['POS'], window_size=35, title=c)"
   ]
  },
  {
   "cell_type": "code",
   "execution_count": null,
   "metadata": {
    "collapsed": false
   },
   "outputs": [],
   "source": [
    "### Plot density for all chromosomes\n",
    "# for ch in df['CHROM'].unique():\n",
    "#     dfc = df[df['CHROM']==ch]\n",
    "#    plot_windowed_variant_density(dfc['POS'], window_size=100000, title=ch+' , raw variant density')"
   ]
  },
  {
   "cell_type": "markdown",
   "metadata": {},
   "source": [
    "## Working with chunked table, we need HDF5 file"
   ]
  },
  {
   "cell_type": "code",
   "execution_count": null,
   "metadata": {
    "collapsed": false
   },
   "outputs": [],
   "source": [
    "### Save to hdf5\n",
    "#import sys\n",
    "#allel.vcf_to_hdf5(ftlx,'FERRIER_09_Germline.allchr.snpEff.p.SAL.SAL10_1_Shrt.h5', \n",
    "#                  fields='*', alt_number=4,transformers=allel.ANNTransformer(),log=sys.stdout, vlen=False)"
   ]
  },
  {
   "cell_type": "code",
   "execution_count": 6,
   "metadata": {
    "collapsed": false
   },
   "outputs": [],
   "source": [
    "### HDF5 from VCF database\n",
    "ftlxh5 =join(DATADIR,'tracks/WGS-WES/Germline/FERRIER_09_Germline.allchr.snpEff.p.SAL.SAL10_1_Shrt.h5')\n",
    "\n",
    "# read HDF5 file\n",
    "csh = h5py.File(ftlxh5,mode='r')\n",
    "var_tb = allel.VariantChunkedTable(csh['variants'], \n",
    "                                   names=['CHROM', 'POS', 'REF', 'ALT', 'DP', 'MQ', 'QD', 'is_snp',\n",
    "                                             'ANN_AA_length',\n",
    "                                             'ANN_Allele',\n",
    "                                             'ANN_Annotation',\n",
    "                                             'ANN_Annotation_Impact',\n",
    "                                             'ANN_Feature_ID',\n",
    "                                             'ANN_Feature_Type',\n",
    "                                             'ANN_Gene_ID',\n",
    "                                             'ANN_Gene_Name',\n",
    "                                             'ANN_Rank',\n",
    "                                             'ANN_Transcript_BioType','numalt'])"
   ]
  },
  {
   "cell_type": "code",
   "execution_count": null,
   "metadata": {
    "collapsed": false
   },
   "outputs": [],
   "source": [
    "#a,b,c=plt.hist(var_tb['DP'][:], bins=10)\n",
    "#csh['variants/REF']"
   ]
  },
  {
   "cell_type": "markdown",
   "metadata": {},
   "source": [
    "## Now we can work with filters"
   ]
  },
  {
   "cell_type": "code",
   "execution_count": 7,
   "metadata": {
    "collapsed": false
   },
   "outputs": [
    {
     "data": {
      "text/plain": [
       "909904"
      ]
     },
     "execution_count": 7,
     "metadata": {},
     "output_type": "execute_result"
    }
   ],
   "source": [
    "#fltr_expr = '(QD > 5) & (MQ > 40) & (DP > 1500) & (DP < 3000)'\n",
    "#fltr_expr=\"ANN_Feature_Type==b'transcript'\"\n",
    "\n",
    "fltr_expr=\"is_snp==True\"\n",
    "\n",
    "var_tb_fltr = var_tb.eval(fltr_expr)[:]\n",
    "\n",
    "#var_tb\n",
    "#var_tb_fltr\n",
    "np.count_nonzero(var_tb_fltr)\n",
    "#np.count_nonzero(~var_tb_fltr)\n",
    "\n",
    "#list(csh['calldata'].keys())\n",
    "#list(csh['variants'].keys())"
   ]
  },
  {
   "cell_type": "code",
   "execution_count": 8,
   "metadata": {
    "collapsed": false
   },
   "outputs": [],
   "source": [
    "## apply filter\n",
    "var_pass = var_tb.compress(var_tb_fltr)\n"
   ]
  },
  {
   "cell_type": "markdown",
   "metadata": {},
   "source": [
    "## Genotype from HDF5 "
   ]
  },
  {
   "cell_type": "code",
   "execution_count": null,
   "metadata": {
    "collapsed": false
   },
   "outputs": [],
   "source": [
    "list(csh['calldata'].keys())"
   ]
  },
  {
   "cell_type": "code",
   "execution_count": null,
   "metadata": {
    "collapsed": false
   },
   "outputs": [],
   "source": [
    "gth = allel.GenotypeChunkedArray(csh['calldata/GT'])\n",
    "gth"
   ]
  },
  {
   "cell_type": "code",
   "execution_count": null,
   "metadata": {
    "collapsed": false
   },
   "outputs": [],
   "source": [
    "list(csh['samples'])"
   ]
  },
  {
   "cell_type": "code",
   "execution_count": null,
   "metadata": {
    "collapsed": false
   },
   "outputs": [],
   "source": [
    "import pandas as pd\n",
    "samples = pd.DataFrame({'sample':[b'AC3812', b'AC3813', b'AC3814', b'AC3815'], 'cell_type':['TAP','TAP','TLX3','TLX3']})\n",
    "TLX = samples['cell_type'].isin(['TLX3'])\n",
    "TAP = samples['cell_type'].isin(['TAP'])\n"
   ]
  },
  {
   "cell_type": "markdown",
   "metadata": {},
   "source": [
    "## Subset genotype on transcrips and samples"
   ]
  },
  {
   "cell_type": "code",
   "execution_count": null,
   "metadata": {
    "collapsed": true
   },
   "outputs": [],
   "source": [
    "gth_tlx = gth.subset(var_tb_fltr, TLX)\n",
    "gth_tap = gth.subset(var_tb_fltr, TAP)"
   ]
  },
  {
   "cell_type": "markdown",
   "metadata": {},
   "source": [
    "#### Now we have three tables: {var_pass, gth_tlx, gth_tap}  for transcripts only "
   ]
  },
  {
   "cell_type": "code",
   "execution_count": null,
   "metadata": {
    "collapsed": false
   },
   "outputs": [],
   "source": [
    "n_variants = len(var_pass)\n",
    "pc_missing_tlx = gth_tlx.count_missing(axis=0)[:] * 100 / n_variants\n",
    "pc_het_tlx = gth_tlx.count_het(axis=0)[:] * 100 / n_variants\n",
    "\n",
    "pc_missing_tap = gth_tap.count_missing(axis=0)[:] * 100 / n_variants\n",
    "pc_het_tap = gth_tap.count_het(axis=0)[:] * 100 / n_variants\n",
    "\n",
    "\n",
    "\n",
    "print('TLX3 missing = ', pc_missing_tlx)\n",
    "print('TLX3 hetero = ', pc_het_tlx)\n",
    "\n",
    "print('TAP missing = ', pc_missing_tap)\n",
    "print('TAP hetero = ', pc_het_tap)"
   ]
  },
  {
   "cell_type": "code",
   "execution_count": null,
   "metadata": {
    "collapsed": false
   },
   "outputs": [],
   "source": [
    "tlx_seg = gth_tlx.count_alleles().count_segregating()\n",
    "tap_seg = gth_tap.count_alleles().count_segregating()\n",
    "\n",
    "print('TLX segregating = ', tlx_seg)\n",
    "print('TAP segregating = ', tap_seg)"
   ]
  },
  {
   "cell_type": "markdown",
   "metadata": {},
   "source": [
    "# CASE 1: Variants for list of genes - tumor suppressors"
   ]
  },
  {
   "cell_type": "code",
   "execution_count": null,
   "metadata": {
    "collapsed": false
   },
   "outputs": [],
   "source": [
    "import EnrichRLib as erl\n",
    "\n",
    "tall_sup = erl.read_gmt('gene_lists/T-ALL_suppressor.gmt')\n",
    "gl = tall_sup['T-ALL-suppressor']\n",
    "\n",
    "gl"
   ]
  },
  {
   "cell_type": "code",
   "execution_count": null,
   "metadata": {
    "collapsed": false
   },
   "outputs": [],
   "source": [
    "# working with pair {cod_var, cod_gt}\n",
    "cod_var.loc[:,'ANN_Gene_Name'] = cod_var['ANN_Gene_Name'].str.upper()"
   ]
  },
  {
   "cell_type": "code",
   "execution_count": null,
   "metadata": {
    "collapsed": false
   },
   "outputs": [],
   "source": [
    "#cod_var['ANN_Gene_Name'].head()\n",
    "\n",
    "cod_var_gs = cod_var.loc[cod_var['ANN_Gene_Name'].isin(gl)]"
   ]
  },
  {
   "cell_type": "code",
   "execution_count": null,
   "metadata": {
    "collapsed": false
   },
   "outputs": [],
   "source": [
    "cod_gt_gs = cod_gt[cod_var_gs.index]\n"
   ]
  },
  {
   "cell_type": "code",
   "execution_count": null,
   "metadata": {
    "collapsed": false
   },
   "outputs": [],
   "source": [
    "# TLX3 count homo/hetero\n",
    "tlx_homalt = cod_gt_gs[:,2:].is_hom_alt()[:]\n",
    "cod_gt_gs[:,2:].count_hom_alt()\n"
   ]
  },
  {
   "cell_type": "code",
   "execution_count": null,
   "metadata": {
    "collapsed": false
   },
   "outputs": [],
   "source": [
    "# TAP count homo/hetero\n",
    "tap_homalt = cod_gt_gs[:,:2].is_hom_alt()[:]\n",
    "\n",
    "cod_gt_gs[:,:2].count_hom_alt()"
   ]
  },
  {
   "cell_type": "code",
   "execution_count": null,
   "metadata": {
    "collapsed": false
   },
   "outputs": [],
   "source": [
    "cod_var_gs_r = cod_var_gs.reset_index()\n",
    "\n",
    "# tlx\n",
    "cod_var_gs_tlx = cod_var_gs_r[tlx_homalt]\n",
    "\n",
    "# tap\n",
    "cod_var_gs_tap = cod_var_gs_r[tap_homalt]"
   ]
  },
  {
   "cell_type": "code",
   "execution_count": null,
   "metadata": {
    "collapsed": false
   },
   "outputs": [],
   "source": [
    "cols = ['CHROM', 'POS', 'REF', 'ALT_1', 'ALT_2',\n",
    "        'ANN_Annotation',\n",
    "        'ANN_Annotation_Impact',\n",
    "        'ANN_Feature_ID',\n",
    "        'ANN_Feature_Type',\n",
    "        'ANN_Gene_ID',\n",
    "        'ANN_Gene_Name',\n",
    "        'ANN_Rank',\n",
    "        'ANN_Transcript_BioType']\n",
    "\n",
    "cod_var_gs_tlx[cols]"
   ]
  },
  {
   "cell_type": "code",
   "execution_count": null,
   "metadata": {
    "collapsed": false
   },
   "outputs": [],
   "source": [
    "cod_var_gs_tap[cols]"
   ]
  },
  {
   "cell_type": "markdown",
   "metadata": {},
   "source": [
    "# CASE 2: Variant in enhancers"
   ]
  },
  {
   "cell_type": "code",
   "execution_count": null,
   "metadata": {
    "collapsed": true
   },
   "outputs": [],
   "source": [
    "import pybedtools as pb"
   ]
  },
  {
   "cell_type": "code",
   "execution_count": null,
   "metadata": {
    "collapsed": false
   },
   "outputs": [],
   "source": [
    "enh = pb.BedTool('tracks/Enhancers_ChromHMM.bed')\n",
    "enh_df = enh.to_dataframe()"
   ]
  },
  {
   "cell_type": "code",
   "execution_count": null,
   "metadata": {
    "collapsed": false
   },
   "outputs": [],
   "source": [
    "#enh_df.head()"
   ]
  },
  {
   "cell_type": "code",
   "execution_count": null,
   "metadata": {
    "collapsed": false
   },
   "outputs": [],
   "source": [
    "ftlx = 'tracks/WGS-WES/Germline/FERRIER_09_Germline.allchr.snpEff.p.SAL.SAL10_1.vcf'\n",
    "var_b = pb.BedTool(ftlx)"
   ]
  },
  {
   "cell_type": "code",
   "execution_count": null,
   "metadata": {
    "collapsed": false
   },
   "outputs": [],
   "source": [
    "var_enh = (var_b + enh).saveas('tracks/WGS-WES/Germline/Vars_Enh_noHeader.vcf')"
   ]
  },
  {
   "cell_type": "code",
   "execution_count": null,
   "metadata": {
    "collapsed": false
   },
   "outputs": [],
   "source": [
    "len(var_enh)"
   ]
  },
  {
   "cell_type": "code",
   "execution_count": null,
   "metadata": {
    "collapsed": false
   },
   "outputs": [],
   "source": [
    "# Concat with header\n",
    "\n",
    "# !cat tracks/WGS-WES/Germline/Germline_header.txt tracks/WGS-WES/Germline/Vars_Enh_noHeader.vcf > tracks/WGS-WES/Germline/Vars_Enh.vcf"
   ]
  },
  {
   "cell_type": "code",
   "execution_count": null,
   "metadata": {
    "collapsed": false
   },
   "outputs": [],
   "source": [
    "var_enh_df = var_enh.to_dataframe(names=['CHROM','POS','ID','REF','ALT','QUAL','FILTER','INFO','FORMAT','AC3812','AC3813','AC3814','AC3815'])"
   ]
  },
  {
   "cell_type": "code",
   "execution_count": null,
   "metadata": {
    "collapsed": false
   },
   "outputs": [],
   "source": [
    "var_enh_df.head()"
   ]
  },
  {
   "cell_type": "code",
   "execution_count": null,
   "metadata": {
    "collapsed": false
   },
   "outputs": [],
   "source": [
    "#var_enh_df['INFO'][16]"
   ]
  },
  {
   "cell_type": "code",
   "execution_count": null,
   "metadata": {
    "collapsed": false
   },
   "outputs": [],
   "source": [
    "#plot_variant_hist_2d('QD', 'MQ', var, downsample=500)\n",
    "\n",
    "\n",
    "\n",
    "#“MQ” is average mapping quality across all samples.\n",
    "#plot_variant_hist('MQ', var, down=2)\n",
    "\n",
    "#“QD” is a slightly odd statistic but turns out to be very useful \n",
    "# for finding poor quality SNPs. Roughly speaking, high numbers \n",
    "# mean that evidence for variation is strong (concentrated), \n",
    "# low numbers mean that evidence is weak (dilute).\n",
    "\n",
    "\n",
    "#x = var['QD'][:][::1000]\n",
    "#plot_variant_hist('QD', var, bins=30, down=500)\n",
    "\n",
    "#ac = gt.count_alleles()\n",
    "#ac\n",
    "\n"
   ]
  },
  {
   "cell_type": "code",
   "execution_count": null,
   "metadata": {
    "collapsed": true
   },
   "outputs": [],
   "source": []
  }
 ],
 "metadata": {
  "kernelspec": {
   "display_name": "Python 3",
   "language": "python",
   "name": "python3"
  },
  "language_info": {
   "codemirror_mode": {
    "name": "ipython",
    "version": 3
   },
   "file_extension": ".py",
   "mimetype": "text/x-python",
   "name": "python",
   "nbconvert_exporter": "python",
   "pygments_lexer": "ipython3",
   "version": "3.5.2"
  }
 },
 "nbformat": 4,
 "nbformat_minor": 2
}
