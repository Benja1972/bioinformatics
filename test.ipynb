{
 "cells": [
  {
   "cell_type": "code",
   "execution_count": 1,
   "metadata": {
    "collapsed": false
   },
   "outputs": [
    {
     "name": "stderr",
     "output_type": "stream",
     "text": [
      "Loading required package: grid\n",
      "Loading required package: IRanges\n",
      "Loading required package: BiocGenerics\n",
      "Loading required package: parallel\n",
      "\n",
      "Attaching package: ‘BiocGenerics’\n",
      "\n",
      "The following objects are masked from ‘package:parallel’:\n",
      "\n",
      "    clusterApply, clusterApplyLB, clusterCall, clusterEvalQ,\n",
      "    clusterExport, clusterMap, parApply, parCapply, parLapply,\n",
      "    parLapplyLB, parRapply, parSapply, parSapplyLB\n",
      "\n",
      "The following objects are masked from ‘package:stats’:\n",
      "\n",
      "    IQR, mad, xtabs\n",
      "\n",
      "The following objects are masked from ‘package:base’:\n",
      "\n",
      "    anyDuplicated, append, as.data.frame, as.vector, cbind, colnames,\n",
      "    do.call, duplicated, eval, evalq, Filter, Find, get, grep, grepl,\n",
      "    intersect, is.unsorted, lapply, lengths, Map, mapply, match, mget,\n",
      "    order, paste, pmax, pmax.int, pmin, pmin.int, Position, rank,\n",
      "    rbind, Reduce, rownames, sapply, setdiff, sort, table, tapply,\n",
      "    union, unique, unlist, unsplit\n",
      "\n",
      "Loading required package: S4Vectors\n",
      "Loading required package: stats4\n",
      "Loading required package: Biostrings\n",
      "Loading required package: XVector\n",
      "Loading required package: GenomicRanges\n",
      "Loading required package: GenomeInfoDb\n",
      "Loading required package: VennDiagram\n",
      "Loading required package: futile.logger\n",
      "Loading required package: DBI\n",
      "\n"
     ]
    }
   ],
   "source": [
    "library(ChIPpeakAnno)"
   ]
  },
  {
   "cell_type": "code",
   "execution_count": 2,
   "metadata": {
    "collapsed": false
   },
   "outputs": [
    {
     "name": "stderr",
     "output_type": "stream",
     "text": [
      "duplicated or NA names found. Rename all the names by numbers.\n"
     ]
    }
   ],
   "source": [
    "macs <- system.file(\"extdata\", \"MACS_peaks.xls\", package=\"ChIPpeakAnno\")\n",
    "macsOutput <- toGRanges(macs, format=\"MACS\")"
   ]
  },
  {
   "cell_type": "code",
   "execution_count": 4,
   "metadata": {
    "collapsed": false
   },
   "outputs": [],
   "source": [
    "data(TSS.human.GRCh38)"
   ]
  },
  {
   "cell_type": "code",
   "execution_count": 6,
   "metadata": {
    "collapsed": true
   },
   "outputs": [],
   "source": [
    "macs.anno <- annotatePeakInBatch(macsOutput, AnnotationData=TSS.human.GRCh38)"
   ]
  },
  {
   "cell_type": "code",
   "execution_count": 7,
   "metadata": {
    "collapsed": false
   },
   "outputs": [
    {
     "name": "stderr",
     "output_type": "stream",
     "text": [
      "Loading required package: AnnotationDbi\n",
      "Loading required package: Biobase\n",
      "Welcome to Bioconductor\n",
      "\n",
      "    Vignettes contain introductory material; view with\n",
      "    'browseVignettes()'. To cite Bioconductor, see\n",
      "    'citation(\"Biobase\")', and for packages 'citation(\"pkgname\")'.\n",
      "\n",
      "\n"
     ]
    }
   ],
   "source": [
    "library(org.Hs.eg.db)\n",
    "macs.anno <- addGeneIDs(annotatedPeak=macs.anno, \n",
    "                        orgAnn=\"org.Hs.eg.db\", \n",
    "                        IDs2Add=\"symbol\")"
   ]
  },
  {
   "cell_type": "code",
   "execution_count": 8,
   "metadata": {
    "collapsed": true
   },
   "outputs": [],
   "source": [
    "if(interactive()){## annotate the peaks with UCSC annotation\n",
    "    library(GenomicFeatures)\n",
    "    library(TxDb.Hsapiens.UCSC.hg38.knownGene)\n",
    "    ucsc.hg38.knownGene <- genes(TxDb.Hsapiens.UCSC.hg38.knownGene)\n",
    "    macs.anno <- annotatePeakInBatch(macsOutput, \n",
    "                                     AnnotationData=ucsc.hg38.knownGene)\n",
    "    macs.anno <- addGeneIDs(annotatedPeak=macs.anno, \n",
    "                            orgAnn=\"org.Hs.eg.db\", \n",
    "                            feature_id_type=\"entrez_id\",\n",
    "                            IDs2Add=\"symbol\")\n",
    "}"
   ]
  },
  {
   "cell_type": "code",
   "execution_count": 10,
   "metadata": {
    "collapsed": true
   },
   "outputs": [],
   "source": [
    "library(yaml)"
   ]
  },
  {
   "cell_type": "code",
   "execution_count": 12,
   "metadata": {
    "collapsed": false
   },
   "outputs": [],
   "source": [
    "tlx_list <- yaml.load_file(\"tracks/TLX3_TLX3_list.yaml\")"
   ]
  },
  {
   "cell_type": "code",
   "execution_count": 16,
   "metadata": {
    "collapsed": false
   },
   "outputs": [
    {
     "data": {
      "text/html": [
       "'/NAS3B/Bioinfoplatform/PFlab/RNA-Seq/RNA-SEQ_ANALYSIS/3-HTSCOUNT/TopHat_Very-Sensitive/TLX3-1_1.HTSeqCount.txt'"
      ],
      "text/latex": [
       "'/NAS3B/Bioinfoplatform/PFlab/RNA-Seq/RNA-SEQ\\_ANALYSIS/3-HTSCOUNT/TopHat\\_Very-Sensitive/TLX3-1\\_1.HTSeqCount.txt'"
      ],
      "text/markdown": [
       "'/NAS3B/Bioinfoplatform/PFlab/RNA-Seq/RNA-SEQ_ANALYSIS/3-HTSCOUNT/TopHat_Very-Sensitive/TLX3-1_1.HTSeqCount.txt'"
      ],
      "text/plain": [
       "[1] \"/NAS3B/Bioinfoplatform/PFlab/RNA-Seq/RNA-SEQ_ANALYSIS/3-HTSCOUNT/TopHat_Very-Sensitive/TLX3-1_1.HTSeqCount.txt\""
      ]
     },
     "metadata": {},
     "output_type": "display_data"
    }
   ],
   "source": [
    "tlx_list$table[1]"
   ]
  },
  {
   "cell_type": "code",
   "execution_count": 17,
   "metadata": {
    "collapsed": false
   },
   "outputs": [
    {
     "data": {
      "text/plain": [
       "GRanges object with 22 ranges and 16 metadata columns:\n",
       "                      seqnames                 ranges strand   |    length\n",
       "                         <Rle>              <IRanges>  <Rle>   | <integer>\n",
       "  X01.ENSG00000259984     chr1 [ 25323511,  25324015]      *   |       505\n",
       "  X02.ENSG00000117616     chr1 [ 25362685,  25362997]      *   |       313\n",
       "  X03.ENSG00000275064     chr1 [145558152, 145558537]      *   |       386\n",
       "  X04.ENSG00000204179    chr10 [ 47088702,  47089329]      *   |       628\n",
       "  X05.ENSG00000237139    chr10 [ 73556761,  73558352]      *   |      1592\n",
       "                  ...      ...                    ...    ... ...       ...\n",
       "  X18.ENSG00000176515     chr6   [ 1053937,  1054145]      *   |       209\n",
       "  X19.ENSG00000127947     chr7   [77500324, 77500521]      *   |       198\n",
       "  X20.ENSG00000266855     chr9   [91654598, 91655024]      *   |       427\n",
       "  X21.ENSG00000136943     chr9   [97041672, 97041816]      *   |       145\n",
       "  X22.ENSG00000277876     chrX   [30807200, 30807959]      *   |       760\n",
       "                         summit      tags    qvalue fold_enrichment       FDR\n",
       "                      <integer> <integer> <numeric>       <numeric> <numeric>\n",
       "  X01.ENSG00000259984       252        45     59.17           17.01      5.80\n",
       "  X02.ENSG00000117616       211        33     60.63           22.41      4.20\n",
       "  X03.ENSG00000275064        59        39     53.10           20.68      2.30\n",
       "  X04.ENSG00000204179       484        68     56.09           16.37      0.75\n",
       "  X05.ENSG00000237139       377       179     58.16            9.52      0.25\n",
       "                  ...       ...       ...       ...             ...       ...\n",
       "  X18.ENSG00000176515       128        41     59.46           18.66     100.0\n",
       "  X19.ENSG00000127947       136        18     50.91           34.10      28.3\n",
       "  X20.ENSG00000266855       332        43     56.32           15.15       3.5\n",
       "  X21.ENSG00000136943        96        15     50.17           34.10       6.9\n",
       "  X22.ENSG00000277876       427        89    104.94           16.48       5.3\n",
       "                             peak         feature start_position end_position\n",
       "                      <character>     <character>      <integer>    <integer>\n",
       "  X01.ENSG00000259984         X01 ENSG00000259984       25336429     25337465\n",
       "  X02.ENSG00000117616         X02 ENSG00000117616       25242237     25338213\n",
       "  X03.ENSG00000275064         X03 ENSG00000275064      145509047    145520594\n",
       "  X04.ENSG00000204179         X04 ENSG00000204179       46911396     47002488\n",
       "  X05.ENSG00000237139         X05 ENSG00000237139       73537803     73538391\n",
       "                  ...         ...             ...            ...          ...\n",
       "  X18.ENSG00000176515         X18 ENSG00000176515        1079929      1104946\n",
       "  X19.ENSG00000127947         X19 ENSG00000127947       77537275     77640071\n",
       "  X20.ENSG00000266855         X20 ENSG00000266855       91636251     91636361\n",
       "  X21.ENSG00000136943         X21 ENSG00000136943       97029679     97039643\n",
       "  X22.ENSG00000277876         X22 ENSG00000277876       30821815     30823407\n",
       "                      feature_strand insideFeature distancetoFeature\n",
       "                         <character>      <factor>         <numeric>\n",
       "  X01.ENSG00000259984              -    downstream             13954\n",
       "  X02.ENSG00000117616              -      upstream            -24472\n",
       "  X03.ENSG00000275064              +    downstream             49105\n",
       "  X04.ENSG00000204179              +    downstream            177306\n",
       "  X05.ENSG00000237139              +    downstream             18958\n",
       "                  ...            ...           ...               ...\n",
       "  X18.ENSG00000176515              +      upstream            -25992\n",
       "  X19.ENSG00000127947              +      upstream            -36951\n",
       "  X20.ENSG00000266855              +    downstream             18347\n",
       "  X21.ENSG00000136943              -      upstream             -2029\n",
       "  X22.ENSG00000277876              -    downstream             16207\n",
       "                      shortestDistance fromOverlappingOrNearest\n",
       "                             <integer>              <character>\n",
       "  X01.ENSG00000259984            12414          NearestLocation\n",
       "  X02.ENSG00000117616            24472          NearestLocation\n",
       "  X03.ENSG00000275064            37558          NearestLocation\n",
       "  X04.ENSG00000204179            86214          NearestLocation\n",
       "  X05.ENSG00000237139            18370          NearestLocation\n",
       "                  ...              ...                      ...\n",
       "  X18.ENSG00000176515            25784          NearestLocation\n",
       "  X19.ENSG00000127947            36754          NearestLocation\n",
       "  X20.ENSG00000266855            18237          NearestLocation\n",
       "  X21.ENSG00000136943             2029          NearestLocation\n",
       "  X22.ENSG00000277876            13856          NearestLocation\n",
       "                                   symbol\n",
       "                                 <factor>\n",
       "  X01.ENSG00000259984                <NA>\n",
       "  X02.ENSG00000117616  LOC101928189;RSRP1\n",
       "  X03.ENSG00000275064                <NA>\n",
       "  X04.ENSG00000204179 LOC105369264;PTPN20\n",
       "  X05.ENSG00000237139                <NA>\n",
       "                  ...                 ...\n",
       "  X18.ENSG00000176515                <NA>\n",
       "  X19.ENSG00000127947              PTPN12\n",
       "  X20.ENSG00000266855           MIR3910-1\n",
       "  X21.ENSG00000136943                CTSV\n",
       "  X22.ENSG00000277876                <NA>\n",
       "  -------\n",
       "  seqinfo: 12 sequences from an unspecified genome; no seqlengths"
      ]
     },
     "metadata": {},
     "output_type": "display_data"
    }
   ],
   "source": [
    "macs.anno"
   ]
  },
  {
   "cell_type": "code",
   "execution_count": 4,
   "metadata": {
    "collapsed": false
   },
   "outputs": [],
   "source": []
  },
  {
   "cell_type": "code",
   "execution_count": null,
   "metadata": {
    "collapsed": true
   },
   "outputs": [],
   "source": []
  }
 ],
 "metadata": {
  "kernelspec": {
   "display_name": "R",
   "language": "R",
   "name": "ir"
  },
  "language_info": {
   "codemirror_mode": "r",
   "file_extension": ".r",
   "mimetype": "text/x-r-source",
   "name": "R",
   "pygments_lexer": "r",
   "version": "3.2.3"
  }
 },
 "nbformat": 4,
 "nbformat_minor": 2
}
