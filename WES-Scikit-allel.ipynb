{
 "cells": [
  {
   "cell_type": "code",
   "execution_count": 23,
   "metadata": {
    "collapsed": false
   },
   "outputs": [
    {
     "name": "stdout",
     "output_type": "stream",
     "text": [
      "scikit-allel 1.1.9\n"
     ]
    }
   ],
   "source": [
    "import numpy as np\n",
    "import scipy\n",
    "import pandas as pd\n",
    "import matplotlib as mpl\n",
    "import matplotlib.pyplot as plt\n",
    "%matplotlib inline\n",
    "import seaborn as sns\n",
    "sns.set_style('white')\n",
    "sns.set_style('ticks')\n",
    "sns.set_context('notebook')\n",
    "import h5py\n",
    "import allel; print('scikit-allel', allel.__version__)"
   ]
  },
  {
   "cell_type": "code",
   "execution_count": 3,
   "metadata": {
    "collapsed": true
   },
   "outputs": [],
   "source": [
    "from os.path import join \n",
    "WORKDIR = '/home/sergio/Res_CIML/TLX3_project'\n",
    "SCRIPTS = join(WORKDIR,'scripts')\n",
    "DATADIR = join(WORKDIR,'data')"
   ]
  },
  {
   "cell_type": "code",
   "execution_count": null,
   "metadata": {
    "collapsed": true
   },
   "outputs": [],
   "source": [
    "### Functions\n",
    "def chrom2num(st):\n",
    "    chrm = st.split(':')[0]\n",
    "    pos = st.split(':')[1].split('-')\n",
    "\n",
    "    pl = int(pos[0].replace(',',''))\n",
    "\n",
    "    pr = int(pos[1].replace(',',''))\n",
    "    \n",
    "    return chrm, pl, pr\n",
    "\n",
    "def plot_variant_density(pos, window_size, title=None):\n",
    "    \n",
    "    # setup windows \n",
    "    bins = np.arange(pos.min(), pos.max(), window_size)\n",
    "    \n",
    "    # use window midpoints as x coordinate\n",
    "    x = (bins[1:] + bins[:-1])/2\n",
    "    \n",
    "    # compute variant density in each window\n",
    "    h, _ = np.histogram(pos, bins=bins)\n",
    "    y = h / window_size\n",
    "    \n",
    "    # plot\n",
    "    fig, ax = plt.subplots(figsize=(12, 3))\n",
    "    sns.despine(ax=ax, offset=10)\n",
    "    ax.plot(x, y)\n",
    "    ax.set_xlabel('Chromosome position (bp)')\n",
    "    ax.set_ylabel('Variant density (bp$^{-1}$)')\n",
    "    if title:\n",
    "        ax.set_title(title)\n",
    "\n",
    "def plot_variant_hist_2d(f1, f2, variants, downsample):\n",
    "    x = variants[f1][:][::downsample]\n",
    "    y = variants[f2][:][::downsample]\n",
    "    fig, ax = plt.subplots(figsize=(6, 6))\n",
    "    sns.despine(ax=ax, offset=10)\n",
    "    ax.hexbin(x, y, gridsize=20)\n",
    "    ax.set_xlabel(f1)\n",
    "    ax.set_ylabel(f2)\n",
    "    ax.set_title('Variant %s versus %s joint distribution' % (f1, f2))\n",
    "\n",
    "def plot_variant_hist(f, variants, bins=30, down=200):\n",
    "    x = variants[f][:][::down]\n",
    "    fig, ax = plt.subplots(figsize=(7, 5))\n",
    "    sns.despine(ax=ax, offset=10)\n",
    "    ax.hist(x, bins=bins)\n",
    "    ax.set_xlabel(f)\n",
    "    ax.set_ylabel('No. variants')\n",
    "    ax.set_title('Variant %s distribution' % f)"
   ]
  },
  {
   "cell_type": "code",
   "execution_count": null,
   "metadata": {
    "collapsed": false
   },
   "outputs": [],
   "source": [
    "### VCF direct\n",
    "fwes =  join(DATADIR,'tracks/WGS-WES/Exomes/WES_TLX3_TAP_Tum7-8.vcf.gz')\n",
    "fwesh5 = join(DATADIR, 'tracks/WGS-WES/Exomes/WES_TLX3_TAP_Tum7-8.h5')\n",
    "\n",
    "# read VCF file, transform SNPEFF to separated fields (optional)\n",
    "cs = allel.read_vcf(fwes,fields='*', numbers={'ALT': 4},transformers=allel.ANNTransformer())\n"
   ]
  },
  {
   "cell_type": "code",
   "execution_count": null,
   "metadata": {
    "collapsed": false
   },
   "outputs": [],
   "source": [
    "# cs['samples']\n",
    "# array(['TAP-01', 'TLX3-01', 'Tumor7-01', 'Tumor8-01'], dtype=object)"
   ]
  },
  {
   "cell_type": "code",
   "execution_count": null,
   "metadata": {
    "collapsed": false
   },
   "outputs": [],
   "source": [
    "# variants data to DataFrame, transform SNPEFF to separated fields (optional)\n",
    "var = allel.vcf_to_dataframe(fwes,fields='*', numbers={'ALT': 4}, transformers=allel.ANNTransformer())"
   ]
  },
  {
   "cell_type": "code",
   "execution_count": null,
   "metadata": {
    "collapsed": false
   },
   "outputs": [],
   "source": [
    "## SNP calculation\n",
    "#var['REF_len'] = var.apply(lambda row: len(row['REF']), axis=1)\n",
    "#var['ALT1_len'] = var.apply(lambda row: len(row['ALT_1']), axis=1)\n",
    "#var['ALT2_len'] = var.apply(lambda row: len(row['ALT_2']), axis=1)\n",
    "\n",
    "var_snp = var[var['is_snp']==True]\n",
    "\n"
   ]
  },
  {
   "cell_type": "code",
   "execution_count": null,
   "metadata": {
    "collapsed": false
   },
   "outputs": [],
   "source": [
    "len(var_snp)"
   ]
  },
  {
   "cell_type": "code",
   "execution_count": null,
   "metadata": {
    "collapsed": true
   },
   "outputs": [],
   "source": [
    "# Genotype array to special class GenotypeArray\n",
    "gt = allel.GenotypeArray(cs['calldata/GT'])\n",
    "    ##- typical functions\n",
    "    # gt.is_het()\n",
    "    # gt.count_het(axis=1)\n",
    "    # ac = gt.count_alleles()"
   ]
  },
  {
   "cell_type": "code",
   "execution_count": null,
   "metadata": {
    "collapsed": false
   },
   "outputs": [],
   "source": [
    "#var.head()\n",
    "\n",
    "\n",
    "#gt1 = gt.subset([2,7,9,12,45,67,124])\n",
    "#gt2= gt.subset([3,8,10,13,46,68,125])\n",
    "\n",
    "#gt3 = gt2.concatenate(gt1)\n",
    "\n",
    "\n",
    "\n",
    "#gt.is_het()"
   ]
  },
  {
   "cell_type": "code",
   "execution_count": null,
   "metadata": {
    "collapsed": false
   },
   "outputs": [],
   "source": [
    "#print(sorted(var['ANN_Feature_Type'].unique()))\n",
    "#print(sorted(var['ANN_Transcript_BioType'].unique()))"
   ]
  },
  {
   "cell_type": "code",
   "execution_count": null,
   "metadata": {
    "collapsed": false
   },
   "outputs": [],
   "source": [
    "#cod_var = var[var['ANN_Feature_Type']=='transcript']"
   ]
  },
  {
   "cell_type": "code",
   "execution_count": null,
   "metadata": {
    "collapsed": false
   },
   "outputs": [],
   "source": [
    "#print(len(var))\n",
    "#len(cod_var)\n",
    "#cod_var[['ANN_Gene_Name','ANN_Feature_Type', 'ANN_Transcript_BioType']].head()"
   ]
  },
  {
   "cell_type": "code",
   "execution_count": null,
   "metadata": {
    "collapsed": false
   },
   "outputs": [],
   "source": [
    "#cod_ind=cod_var.index\n",
    "#cod_gt=gt[cod_ind]"
   ]
  },
  {
   "cell_type": "markdown",
   "metadata": {},
   "source": [
    "## Now we have pair {var, gt} for WES "
   ]
  },
  {
   "cell_type": "code",
   "execution_count": null,
   "metadata": {
    "collapsed": false
   },
   "outputs": [],
   "source": [
    "#cod_var.head(12)\n",
    "a,b,c = plt.hist(np.log(var['QUAL']), bins=100)"
   ]
  },
  {
   "cell_type": "code",
   "execution_count": null,
   "metadata": {
    "collapsed": false
   },
   "outputs": [],
   "source": [
    "#cod_gt[2,:]"
   ]
  },
  {
   "cell_type": "markdown",
   "metadata": {},
   "source": [
    "## Strip var data to region "
   ]
  },
  {
   "cell_type": "code",
   "execution_count": null,
   "metadata": {
    "collapsed": false
   },
   "outputs": [],
   "source": [
    "#st  ='chr12:77,033,211-78,041,433'\n",
    "#c,l,r = chrom2num(st)\n",
    "#print(c,l,r)"
   ]
  },
  {
   "cell_type": "code",
   "execution_count": null,
   "metadata": {
    "collapsed": false
   },
   "outputs": [],
   "source": [
    "#var_reg = var[(var['CHROM']==c) & (var['POS']>l) & (var['POS']<r)]"
   ]
  },
  {
   "cell_type": "code",
   "execution_count": null,
   "metadata": {
    "collapsed": false
   },
   "outputs": [],
   "source": [
    "# plot_variant_density(var_reg['POS'], window_size=35, title=c)"
   ]
  },
  {
   "cell_type": "code",
   "execution_count": null,
   "metadata": {
    "collapsed": false
   },
   "outputs": [],
   "source": [
    "### Plot density for all chromosomes\n",
    "# for ch in df['CHROM'].unique():\n",
    "#     dfc = df[df['CHROM']==ch]\n",
    "#    plot_windowed_variant_density(dfc['POS'], window_size=100000, title=ch+' , raw variant density')"
   ]
  },
  {
   "cell_type": "markdown",
   "metadata": {},
   "source": [
    "## Working with chunked table, we need HDF5 file"
   ]
  },
  {
   "cell_type": "code",
   "execution_count": null,
   "metadata": {
    "collapsed": false
   },
   "outputs": [],
   "source": [
    "### Save to hdf5\n",
    "# fwesh5 ='tracks/WGS-WES/Exomes/WES_TLX3_TAP_Tum7-8.h5'\n",
    "\n",
    "import sys\n",
    "\n",
    "allel.vcf_to_hdf5(fwes,fwesh5, \n",
    "                   fields='*', alt_number=4,transformers=allel.ANNTransformer(),log=sys.stdout, vlen=False)\n",
    "\n",
    "\n",
    "#csh = h5py.File(fwesh5,mode='r')"
   ]
  },
  {
   "cell_type": "code",
   "execution_count": null,
   "metadata": {
    "collapsed": false
   },
   "outputs": [],
   "source": [
    "#list(csh['variants'])"
   ]
  },
  {
   "cell_type": "code",
   "execution_count": null,
   "metadata": {
    "collapsed": false
   },
   "outputs": [],
   "source": [
    "### HDF5 from VCF database\n",
    "\n",
    "# read HDF5 file\n",
    "csh = h5py.File(fwesh5,mode='r')\n",
    "var_tb = allel.VariantChunkedTable(csh['variants'], \n",
    "                                   names=['CHROM', 'POS', 'REF', 'ALT', 'DP', 'MQ', 'QD', 'is_snp',\n",
    "                                             'ANN_AA_length',\n",
    "                                             'ANN_Allele',\n",
    "                                             'ANN_Annotation',\n",
    "                                             'ANN_Annotation_Impact',\n",
    "                                             'ANN_Feature_ID',\n",
    "                                             'ANN_Feature_Type',\n",
    "                                             'ANN_Gene_ID',\n",
    "                                             'ANN_Gene_Name',\n",
    "                                             'ANN_Rank',\n",
    "                                             'ANN_Transcript_BioType','numalt'])"
   ]
  },
  {
   "cell_type": "code",
   "execution_count": null,
   "metadata": {
    "collapsed": false
   },
   "outputs": [],
   "source": [
    "#var_tb\n",
    "#a,b,c=plt.hist(var_tb['DP'][:], bins=10)\n",
    "#csh['variants/REF']"
   ]
  },
  {
   "cell_type": "markdown",
   "metadata": {},
   "source": [
    "## Now we can work with filters"
   ]
  },
  {
   "cell_type": "code",
   "execution_count": null,
   "metadata": {
    "collapsed": false
   },
   "outputs": [],
   "source": [
    "#fltr_expr = '(QD > 5) & (MQ > 40) & (DP > 1500) & (DP < 3000)'\n",
    "#fltr_expr = '(QD > 5) & (MQ > 40) & (DP > 1500) & (DP < 3000)'\n",
    "fltr_expr=\"is_snp==True\"\n",
    "\n",
    "var_tb_fltr = var_tb.eval(fltr_expr)[:]\n",
    "\n",
    "#var_tb\n",
    "#var_tb_fltr\n",
    "#np.count_nonzero(var_tb_fltr)\n",
    "np.count_nonzero(~var_tb_fltr)\n",
    "\n",
    "#list(csh['calldata'].keys())\n",
    "#list(csh['variants'].keys())"
   ]
  },
  {
   "cell_type": "code",
   "execution_count": null,
   "metadata": {
    "collapsed": false
   },
   "outputs": [],
   "source": [
    "var_tb['ANN_Annotation_Impact'][:]"
   ]
  },
  {
   "cell_type": "code",
   "execution_count": null,
   "metadata": {
    "collapsed": false
   },
   "outputs": [],
   "source": [
    "## apply filter\n",
    "var_snp = var_tb.compress(var_tb_fltr)\n"
   ]
  },
  {
   "cell_type": "markdown",
   "metadata": {},
   "source": [
    "## Genotype from HDF5 "
   ]
  },
  {
   "cell_type": "code",
   "execution_count": null,
   "metadata": {
    "collapsed": false
   },
   "outputs": [],
   "source": [
    "list(csh['calldata'].keys())"
   ]
  },
  {
   "cell_type": "code",
   "execution_count": null,
   "metadata": {
    "collapsed": false
   },
   "outputs": [],
   "source": [
    "gth = allel.GenotypeChunkedArray(csh['calldata/GT'])\n",
    "#gth"
   ]
  },
  {
   "cell_type": "code",
   "execution_count": null,
   "metadata": {
    "collapsed": false
   },
   "outputs": [],
   "source": [
    "list(csh['samples'])"
   ]
  },
  {
   "cell_type": "code",
   "execution_count": null,
   "metadata": {
    "collapsed": false
   },
   "outputs": [],
   "source": [
    "import pandas as pd\n",
    "samples = pd.DataFrame({'sample':list(csh['samples']), 'cell_type':['TAP','TLX3', 'Tumor7','Tumor8']})\n",
    "TLX = samples['cell_type'].isin(['TLX3'])\n",
    "TAP = samples['cell_type'].isin(['TAP'])\n",
    "Tum7 = samples['cell_type'].isin(['Tumor7'])\n",
    "Tum8 = samples['cell_type'].isin(['Tumor8'])\n",
    "\n",
    "\n",
    "#TLX"
   ]
  },
  {
   "cell_type": "markdown",
   "metadata": {},
   "source": [
    "## Subset genotype  samples"
   ]
  },
  {
   "cell_type": "code",
   "execution_count": null,
   "metadata": {
    "collapsed": false
   },
   "outputs": [],
   "source": [
    "gth_tlx = gth.subset(None,TLX)\n",
    "gth_tap = gth.subset(None,TAP)\n",
    "gth_tum7 = gth.subset(None,Tum7)\n",
    "gth_tum8 = gth.subset(None,Tum8)"
   ]
  },
  {
   "cell_type": "code",
   "execution_count": null,
   "metadata": {
    "collapsed": true
   },
   "outputs": [],
   "source": [
    "gth_tlx_snp = gth.subset(var_tb_fltr,TLX)\n",
    "gth_tap_snp = gth.subset(var_tb_fltr,TAP)\n",
    "gth_tum7_snp = gth.subset(var_tb_fltr,Tum7)\n",
    "gth_tum8_snp = gth.subset(var_tb_fltr,Tum8)"
   ]
  },
  {
   "cell_type": "markdown",
   "metadata": {},
   "source": [
    "#### Now we have  tables for WES "
   ]
  },
  {
   "cell_type": "code",
   "execution_count": null,
   "metadata": {
    "collapsed": false
   },
   "outputs": [],
   "source": [
    "n_variants = len(var_tb)\n",
    "pc_missing_tlx = gth_tlx.count_missing(axis=0)[:] * 100 / n_variants\n",
    "pc_het_tlx = gth_tlx.count_het(axis=0)[:] * 100 / n_variants\n",
    "\n",
    "pc_missing_tap = gth_tap.count_missing(axis=0)[:] * 100 / n_variants\n",
    "pc_het_tap = gth_tap.count_het(axis=0)[:] * 100 / n_variants\n",
    "\n",
    "\n",
    "pc_missing_tum7 = gth_tum7.count_missing(axis=0)[:] * 100 / n_variants\n",
    "pc_het_tum7 = gth_tum7.count_het(axis=0)[:] * 100 / n_variants\n",
    "\n",
    "pc_missing_tum8 = gth_tum8.count_missing(axis=0)[:] * 100 / n_variants\n",
    "pc_het_tum8 = gth_tum8.count_het(axis=0)[:] * 100 / n_variants\n",
    "\n",
    "print('Total namber of var = ', n_variants)\n",
    "print('============================')\n",
    "\n",
    "print('TLX3 missing = ', pc_missing_tlx, '%')\n",
    "print('TLX3 hetero = ', pc_het_tlx, '%')\n",
    "\n",
    "print('============================')\n",
    "print('TAP missing = ', pc_missing_tap, '%')\n",
    "print('TAP hetero = ', pc_het_tap, '%')\n",
    "\n",
    "print('============================')\n",
    "print('Tumor7 missing = ', pc_missing_tum7, '%')\n",
    "print('Tumor7 hetero = ', pc_het_tum7, '%')\n",
    "\n",
    "print('============================')\n",
    "print('Tumor8 missing = ', pc_missing_tum8, '%')\n",
    "print('Tumor8 hetero = ', pc_het_tum8, '%')\n"
   ]
  },
  {
   "cell_type": "code",
   "execution_count": null,
   "metadata": {
    "collapsed": false
   },
   "outputs": [],
   "source": [
    "n_snp = len(var_snp)\n",
    "tlx_snp_miss = gth_tlx_snp.count_missing(axis=0)[:] * 100 / n_snp\n",
    "tlx_snp_het = gth_tlx_snp.count_het(axis=0)[:] * 100 / n_snp\n",
    "\n",
    "tap_snp_miss = gth_tap_snp.count_missing(axis=0)[:] * 100 / n_snp\n",
    "tap_snp_het = gth_tap_snp.count_het(axis=0)[:] * 100 / n_snp\n",
    "\n",
    "tum7_snp_miss = gth_tum7_snp.count_missing(axis=0)[:] * 100 / n_snp\n",
    "tum7_snp_het = gth_tum7_snp.count_het(axis=0)[:] * 100 / n_snp\n",
    "\n",
    "tum8_snp_miss = gth_tum8_snp.count_missing(axis=0)[:] * 100 / n_snp\n",
    "tum8_snp_het = gth_tum8_snp.count_het(axis=0)[:] * 100 / n_snp\n",
    "\n",
    "\n",
    "print('Total namber of SNPs = ', n_snp)\n",
    "print('============================')\n",
    "print('TLX3 SNPs missing = ', tlx_snp_miss, '%')\n",
    "print('TLX3 SNPs hetero = ', tlx_snp_het, '%')\n",
    "\n",
    "print('============================')\n",
    "print('TAP SNPs missing = ', tap_snp_miss, '%')\n",
    "print('TAP SNPs hetero = ', tap_snp_het, '%')\n",
    "\n",
    "print('============================')\n",
    "print('Tumor7 SNPs missing = ', tum7_snp_miss, '%')\n",
    "print('Tumor7 SNPs hetero = ', tum7_snp_het, '%')\n",
    "\n",
    "print('============================')\n",
    "print('Tumor8 SNPs missing = ', tum8_snp_miss, '%')\n",
    "print('Tumor8 SNPs hetero = ', tum8_snp_het, '%')"
   ]
  },
  {
   "cell_type": "code",
   "execution_count": null,
   "metadata": {
    "collapsed": false,
    "scrolled": true
   },
   "outputs": [],
   "source": [
    "tlx_seg = gth_tlx.count_alleles().count_segregating()\n",
    "tap_seg = gth_tap.count_alleles().count_segregating()\n",
    "all_seg = gth.count_alleles().count_segregating()\n",
    "\n",
    "print('ALL segregating = ', all_seg)\n",
    "print('TLX segregating = ', tlx_seg)\n",
    "print('TAP segregating = ', tap_seg)\n",
    "print('num variants = ', n_variants)"
   ]
  },
  {
   "cell_type": "code",
   "execution_count": null,
   "metadata": {
    "collapsed": false
   },
   "outputs": [],
   "source": [
    "#gth.count_alleles().is_segregating()[2000:2000+6]\n",
    "#gth[2000:2000+6]\n",
    "\n",
    "#var['REF']"
   ]
  },
  {
   "cell_type": "markdown",
   "metadata": {},
   "source": [
    "# Region based files"
   ]
  },
  {
   "cell_type": "code",
   "execution_count": 20,
   "metadata": {
    "collapsed": false
   },
   "outputs": [],
   "source": [
    "import pybedtools as pb\n",
    "\n",
    "WES = 'tracks/WGS-WES/Exomes'\n",
    "WGS = 'tracks/WGS-WES/Germline'\n",
    "\n",
    "# Exome vcf\n",
    "tlx_ex = pb.BedTool(join(DATADIR,WES,'WES_TLX3.vcf.gz'))\n",
    "tap_ex = pb.BedTool(join(DATADIR,WES,'WES_TAP.vcf.gz'))\n",
    "tum7_ex = pb.BedTool(join(DATADIR,WES,'WES_Tumor7.vcf.gz'))\n",
    "tum8_ex = pb.BedTool(join(DATADIR,WES,'WES_Tumor8.vcf.gz'))"
   ]
  },
  {
   "cell_type": "code",
   "execution_count": 21,
   "metadata": {
    "collapsed": false
   },
   "outputs": [],
   "source": [
    "# Genome vcf\n",
    "tlx_gn = pb.BedTool(join(DATADIR,WGS,'TLX3_WGS.vcf.gz'))\n",
    "tap_gn = pb.BedTool(join(DATADIR,WGS,'TAP_WGS.vcf.gz'))"
   ]
  },
  {
   "cell_type": "code",
   "execution_count": 14,
   "metadata": {
    "collapsed": false
   },
   "outputs": [
    {
     "name": "stdout",
     "output_type": "stream",
     "text": [
      "Exome TLX3 =  16415\n",
      "Genome TLX3 =  1073273\n",
      "--------------------------\n",
      "Exome TAP =  9970\n",
      "Genome TAP =  397878\n",
      "========================\n",
      "Exome Tumor7 =  34765\n",
      "Exome Tumor8 =  87267\n"
     ]
    }
   ],
   "source": [
    "print('Exome TLX3 = ', len(tlx_ex))\n",
    "print('Genome TLX3 = ', len(tlx_gn))\n",
    "print('--------------------------')\n",
    "print('Exome TAP = ', len(tap_ex))\n",
    "print('Genome TAP = ', len(tap_gn))\n",
    "print('========================')\n",
    "\n",
    "print('Exome Tumor7 = ', len(tum7_ex))\n",
    "print('Exome Tumor8 = ', len(tum8_ex))"
   ]
  },
  {
   "cell_type": "markdown",
   "metadata": {},
   "source": [
    "# Intersections"
   ]
  },
  {
   "cell_type": "code",
   "execution_count": 15,
   "metadata": {
    "collapsed": true
   },
   "outputs": [],
   "source": [
    "tlx_ex_gn = tlx_gn.intersect(tlx_ex, header=True)"
   ]
  },
  {
   "cell_type": "code",
   "execution_count": 16,
   "metadata": {
    "collapsed": true
   },
   "outputs": [],
   "source": [
    "tap_ex_gn = tap_gn.intersect(tap_ex, header=True)"
   ]
  },
  {
   "cell_type": "code",
   "execution_count": 17,
   "metadata": {
    "collapsed": false
   },
   "outputs": [
    {
     "name": "stdout",
     "output_type": "stream",
     "text": [
      "Common exome an genome TLX3 =  4244\n",
      "Common exome an genome TAP =  2521\n"
     ]
    }
   ],
   "source": [
    "print('Common exome an genome TLX3 = ', len(tlx_ex_gn))\n",
    "print('Common exome an genome TAP = ', len(tap_ex_gn))"
   ]
  },
  {
   "cell_type": "code",
   "execution_count": 6,
   "metadata": {
    "collapsed": false
   },
   "outputs": [],
   "source": [
    "isec_txp = tap_ex.intersect(tlx_ex, header=True)#.sort()"
   ]
  },
  {
   "cell_type": "code",
   "execution_count": 7,
   "metadata": {
    "collapsed": false
   },
   "outputs": [],
   "source": [
    "isec_tum = tum8_ex.intersect(tum7_ex, header=True) #.sort()"
   ]
  },
  {
   "cell_type": "code",
   "execution_count": 8,
   "metadata": {
    "collapsed": false
   },
   "outputs": [
    {
     "name": "stdout",
     "output_type": "stream",
     "text": [
      "TLX3 and TAP common =  3404\n",
      "Tumor common =  27714\n"
     ]
    }
   ],
   "source": [
    "print('TLX3 and TAP common = ', len(isec_txp))\n",
    "print('Tumor common = ', len(isec_tum))"
   ]
  },
  {
   "cell_type": "code",
   "execution_count": 9,
   "metadata": {
    "collapsed": false
   },
   "outputs": [],
   "source": [
    "isec_ex = isec_tum.intersect(isec_txp, header=True)"
   ]
  },
  {
   "cell_type": "code",
   "execution_count": 10,
   "metadata": {
    "collapsed": false
   },
   "outputs": [
    {
     "data": {
      "text/plain": [
       "<BedTool(/home/sergio/Res_CIML/TLX3_project/data/tracks/WGS-WES/Exomes/Vars_isec_all.vcf)>"
      ]
     },
     "execution_count": 10,
     "metadata": {},
     "output_type": "execute_result"
    }
   ],
   "source": [
    "len(isec_ex)\n",
    "isec_ex.saveas(join(DATADIR,WES,'Vars_isec_all.vcf'))"
   ]
  },
  {
   "cell_type": "markdown",
   "metadata": {},
   "source": [
    "# Variant effect by genes"
   ]
  },
  {
   "cell_type": "code",
   "execution_count": 24,
   "metadata": {
    "collapsed": false
   },
   "outputs": [],
   "source": [
    "gen_var =  pd.read_table(join(DATADIR,WES,'snpeff/all.genes.txt'), skiprows=1)\n",
    "gen_var.rename(columns={'#GeneName':'GeneName'}, inplace=True)"
   ]
  },
  {
   "cell_type": "code",
   "execution_count": 26,
   "metadata": {
    "collapsed": false
   },
   "outputs": [],
   "source": [
    "#list(gen_var.columns)"
   ]
  },
  {
   "cell_type": "code",
   "execution_count": 29,
   "metadata": {
    "collapsed": false
   },
   "outputs": [
    {
     "data": {
      "text/html": [
       "<div>\n",
       "<style scoped>\n",
       "    .dataframe tbody tr th:only-of-type {\n",
       "        vertical-align: middle;\n",
       "    }\n",
       "\n",
       "    .dataframe tbody tr th {\n",
       "        vertical-align: top;\n",
       "    }\n",
       "\n",
       "    .dataframe thead th {\n",
       "        text-align: right;\n",
       "    }\n",
       "</style>\n",
       "<table border=\"1\" class=\"dataframe\">\n",
       "  <thead>\n",
       "    <tr style=\"text-align: right;\">\n",
       "      <th></th>\n",
       "      <th>GeneName</th>\n",
       "      <th>GeneId</th>\n",
       "      <th>TranscriptId</th>\n",
       "      <th>BioType</th>\n",
       "      <th>variants_impact_HIGH</th>\n",
       "      <th>variants_impact_LOW</th>\n",
       "      <th>variants_impact_MODERATE</th>\n",
       "      <th>variants_impact_MODIFIER</th>\n",
       "      <th>variants_effect_3_prime_UTR_variant</th>\n",
       "      <th>variants_effect_5_prime_UTR_premature_start_codon_gain_variant</th>\n",
       "      <th>...</th>\n",
       "      <th>variants_effect_non_coding_transcript_variant</th>\n",
       "      <th>variants_effect_splice_acceptor_variant</th>\n",
       "      <th>variants_effect_splice_donor_variant</th>\n",
       "      <th>variants_effect_splice_region_variant</th>\n",
       "      <th>variants_effect_start_lost</th>\n",
       "      <th>variants_effect_stop_gained</th>\n",
       "      <th>variants_effect_stop_lost</th>\n",
       "      <th>variants_effect_stop_retained_variant</th>\n",
       "      <th>variants_effect_synonymous_variant</th>\n",
       "      <th>variants_effect_upstream_gene_variant</th>\n",
       "    </tr>\n",
       "  </thead>\n",
       "  <tbody>\n",
       "    <tr>\n",
       "      <th>20182</th>\n",
       "      <td>Ttn</td>\n",
       "      <td>Ttn</td>\n",
       "      <td>NM_011652.3</td>\n",
       "      <td>protein_coding</td>\n",
       "      <td>13</td>\n",
       "      <td>5</td>\n",
       "      <td>17</td>\n",
       "      <td>15</td>\n",
       "      <td>0</td>\n",
       "      <td>0</td>\n",
       "      <td>...</td>\n",
       "      <td>0</td>\n",
       "      <td>0</td>\n",
       "      <td>0</td>\n",
       "      <td>0</td>\n",
       "      <td>0</td>\n",
       "      <td>0</td>\n",
       "      <td>0</td>\n",
       "      <td>0</td>\n",
       "      <td>5</td>\n",
       "      <td>0</td>\n",
       "    </tr>\n",
       "    <tr>\n",
       "      <th>20183</th>\n",
       "      <td>Ttn</td>\n",
       "      <td>Ttn</td>\n",
       "      <td>NM_028004.2</td>\n",
       "      <td>protein_coding</td>\n",
       "      <td>9</td>\n",
       "      <td>5</td>\n",
       "      <td>13</td>\n",
       "      <td>23</td>\n",
       "      <td>0</td>\n",
       "      <td>0</td>\n",
       "      <td>...</td>\n",
       "      <td>0</td>\n",
       "      <td>0</td>\n",
       "      <td>0</td>\n",
       "      <td>0</td>\n",
       "      <td>0</td>\n",
       "      <td>0</td>\n",
       "      <td>0</td>\n",
       "      <td>0</td>\n",
       "      <td>5</td>\n",
       "      <td>0</td>\n",
       "    </tr>\n",
       "    <tr>\n",
       "      <th>12939</th>\n",
       "      <td>Obscn</td>\n",
       "      <td>Obscn</td>\n",
       "      <td>NM_199152.3</td>\n",
       "      <td>protein_coding</td>\n",
       "      <td>9</td>\n",
       "      <td>100</td>\n",
       "      <td>46</td>\n",
       "      <td>110</td>\n",
       "      <td>0</td>\n",
       "      <td>0</td>\n",
       "      <td>...</td>\n",
       "      <td>0</td>\n",
       "      <td>0</td>\n",
       "      <td>0</td>\n",
       "      <td>12</td>\n",
       "      <td>0</td>\n",
       "      <td>0</td>\n",
       "      <td>0</td>\n",
       "      <td>0</td>\n",
       "      <td>90</td>\n",
       "      <td>0</td>\n",
       "    </tr>\n",
       "    <tr>\n",
       "      <th>11844</th>\n",
       "      <td>Mtus1</td>\n",
       "      <td>Mtus1</td>\n",
       "      <td>NM_001005863.2</td>\n",
       "      <td>protein_coding</td>\n",
       "      <td>8</td>\n",
       "      <td>11</td>\n",
       "      <td>20</td>\n",
       "      <td>26</td>\n",
       "      <td>0</td>\n",
       "      <td>0</td>\n",
       "      <td>...</td>\n",
       "      <td>0</td>\n",
       "      <td>0</td>\n",
       "      <td>1</td>\n",
       "      <td>0</td>\n",
       "      <td>0</td>\n",
       "      <td>0</td>\n",
       "      <td>0</td>\n",
       "      <td>0</td>\n",
       "      <td>11</td>\n",
       "      <td>0</td>\n",
       "    </tr>\n",
       "    <tr>\n",
       "      <th>11847</th>\n",
       "      <td>Mtus1</td>\n",
       "      <td>Mtus1</td>\n",
       "      <td>NM_001286413.1</td>\n",
       "      <td>protein_coding</td>\n",
       "      <td>8</td>\n",
       "      <td>11</td>\n",
       "      <td>20</td>\n",
       "      <td>26</td>\n",
       "      <td>0</td>\n",
       "      <td>0</td>\n",
       "      <td>...</td>\n",
       "      <td>0</td>\n",
       "      <td>0</td>\n",
       "      <td>1</td>\n",
       "      <td>0</td>\n",
       "      <td>0</td>\n",
       "      <td>0</td>\n",
       "      <td>0</td>\n",
       "      <td>0</td>\n",
       "      <td>11</td>\n",
       "      <td>0</td>\n",
       "    </tr>\n",
       "    <tr>\n",
       "      <th>2635</th>\n",
       "      <td>Brca2</td>\n",
       "      <td>Brca2</td>\n",
       "      <td>NM_001081001.2</td>\n",
       "      <td>protein_coding</td>\n",
       "      <td>7</td>\n",
       "      <td>1</td>\n",
       "      <td>2</td>\n",
       "      <td>0</td>\n",
       "      <td>0</td>\n",
       "      <td>0</td>\n",
       "      <td>...</td>\n",
       "      <td>0</td>\n",
       "      <td>0</td>\n",
       "      <td>0</td>\n",
       "      <td>0</td>\n",
       "      <td>0</td>\n",
       "      <td>0</td>\n",
       "      <td>0</td>\n",
       "      <td>0</td>\n",
       "      <td>1</td>\n",
       "      <td>0</td>\n",
       "    </tr>\n",
       "    <tr>\n",
       "      <th>2636</th>\n",
       "      <td>Brca2</td>\n",
       "      <td>Brca2</td>\n",
       "      <td>NM_009765.3</td>\n",
       "      <td>protein_coding</td>\n",
       "      <td>7</td>\n",
       "      <td>1</td>\n",
       "      <td>2</td>\n",
       "      <td>0</td>\n",
       "      <td>0</td>\n",
       "      <td>0</td>\n",
       "      <td>...</td>\n",
       "      <td>0</td>\n",
       "      <td>0</td>\n",
       "      <td>0</td>\n",
       "      <td>0</td>\n",
       "      <td>0</td>\n",
       "      <td>0</td>\n",
       "      <td>0</td>\n",
       "      <td>0</td>\n",
       "      <td>1</td>\n",
       "      <td>0</td>\n",
       "    </tr>\n",
       "    <tr>\n",
       "      <th>11629</th>\n",
       "      <td>Mroh2a</td>\n",
       "      <td>Mroh2a</td>\n",
       "      <td>NM_001281466.1</td>\n",
       "      <td>protein_coding</td>\n",
       "      <td>7</td>\n",
       "      <td>67</td>\n",
       "      <td>57</td>\n",
       "      <td>289</td>\n",
       "      <td>4</td>\n",
       "      <td>0</td>\n",
       "      <td>...</td>\n",
       "      <td>0</td>\n",
       "      <td>0</td>\n",
       "      <td>0</td>\n",
       "      <td>12</td>\n",
       "      <td>0</td>\n",
       "      <td>6</td>\n",
       "      <td>0</td>\n",
       "      <td>0</td>\n",
       "      <td>60</td>\n",
       "      <td>18</td>\n",
       "    </tr>\n",
       "    <tr>\n",
       "      <th>12188</th>\n",
       "      <td>Nckap1l</td>\n",
       "      <td>Nckap1l</td>\n",
       "      <td>NM_153505.4</td>\n",
       "      <td>protein_coding</td>\n",
       "      <td>7</td>\n",
       "      <td>0</td>\n",
       "      <td>1</td>\n",
       "      <td>0</td>\n",
       "      <td>0</td>\n",
       "      <td>0</td>\n",
       "      <td>...</td>\n",
       "      <td>0</td>\n",
       "      <td>0</td>\n",
       "      <td>0</td>\n",
       "      <td>0</td>\n",
       "      <td>0</td>\n",
       "      <td>0</td>\n",
       "      <td>0</td>\n",
       "      <td>0</td>\n",
       "      <td>0</td>\n",
       "      <td>0</td>\n",
       "    </tr>\n",
       "    <tr>\n",
       "      <th>19914</th>\n",
       "      <td>Trio</td>\n",
       "      <td>Trio</td>\n",
       "      <td>NM_001081302.1</td>\n",
       "      <td>protein_coding</td>\n",
       "      <td>6</td>\n",
       "      <td>1</td>\n",
       "      <td>0</td>\n",
       "      <td>2</td>\n",
       "      <td>0</td>\n",
       "      <td>0</td>\n",
       "      <td>...</td>\n",
       "      <td>0</td>\n",
       "      <td>0</td>\n",
       "      <td>2</td>\n",
       "      <td>1</td>\n",
       "      <td>0</td>\n",
       "      <td>0</td>\n",
       "      <td>0</td>\n",
       "      <td>0</td>\n",
       "      <td>0</td>\n",
       "      <td>0</td>\n",
       "    </tr>\n",
       "  </tbody>\n",
       "</table>\n",
       "<p>10 rows × 32 columns</p>\n",
       "</div>"
      ],
      "text/plain": [
       "      GeneName   GeneId    TranscriptId         BioType  variants_impact_HIGH  \\\n",
       "20182      Ttn      Ttn     NM_011652.3  protein_coding                    13   \n",
       "20183      Ttn      Ttn     NM_028004.2  protein_coding                     9   \n",
       "12939    Obscn    Obscn     NM_199152.3  protein_coding                     9   \n",
       "11844    Mtus1    Mtus1  NM_001005863.2  protein_coding                     8   \n",
       "11847    Mtus1    Mtus1  NM_001286413.1  protein_coding                     8   \n",
       "2635     Brca2    Brca2  NM_001081001.2  protein_coding                     7   \n",
       "2636     Brca2    Brca2     NM_009765.3  protein_coding                     7   \n",
       "11629   Mroh2a   Mroh2a  NM_001281466.1  protein_coding                     7   \n",
       "12188  Nckap1l  Nckap1l     NM_153505.4  protein_coding                     7   \n",
       "19914     Trio     Trio  NM_001081302.1  protein_coding                     6   \n",
       "\n",
       "       variants_impact_LOW  variants_impact_MODERATE  \\\n",
       "20182                    5                        17   \n",
       "20183                    5                        13   \n",
       "12939                  100                        46   \n",
       "11844                   11                        20   \n",
       "11847                   11                        20   \n",
       "2635                     1                         2   \n",
       "2636                     1                         2   \n",
       "11629                   67                        57   \n",
       "12188                    0                         1   \n",
       "19914                    1                         0   \n",
       "\n",
       "       variants_impact_MODIFIER  variants_effect_3_prime_UTR_variant  \\\n",
       "20182                        15                                    0   \n",
       "20183                        23                                    0   \n",
       "12939                       110                                    0   \n",
       "11844                        26                                    0   \n",
       "11847                        26                                    0   \n",
       "2635                          0                                    0   \n",
       "2636                          0                                    0   \n",
       "11629                       289                                    4   \n",
       "12188                         0                                    0   \n",
       "19914                         2                                    0   \n",
       "\n",
       "       variants_effect_5_prime_UTR_premature_start_codon_gain_variant  \\\n",
       "20182                                                  0                \n",
       "20183                                                  0                \n",
       "12939                                                  0                \n",
       "11844                                                  0                \n",
       "11847                                                  0                \n",
       "2635                                                   0                \n",
       "2636                                                   0                \n",
       "11629                                                  0                \n",
       "12188                                                  0                \n",
       "19914                                                  0                \n",
       "\n",
       "                       ...                    \\\n",
       "20182                  ...                     \n",
       "20183                  ...                     \n",
       "12939                  ...                     \n",
       "11844                  ...                     \n",
       "11847                  ...                     \n",
       "2635                   ...                     \n",
       "2636                   ...                     \n",
       "11629                  ...                     \n",
       "12188                  ...                     \n",
       "19914                  ...                     \n",
       "\n",
       "       variants_effect_non_coding_transcript_variant  \\\n",
       "20182                                              0   \n",
       "20183                                              0   \n",
       "12939                                              0   \n",
       "11844                                              0   \n",
       "11847                                              0   \n",
       "2635                                               0   \n",
       "2636                                               0   \n",
       "11629                                              0   \n",
       "12188                                              0   \n",
       "19914                                              0   \n",
       "\n",
       "       variants_effect_splice_acceptor_variant  \\\n",
       "20182                                        0   \n",
       "20183                                        0   \n",
       "12939                                        0   \n",
       "11844                                        0   \n",
       "11847                                        0   \n",
       "2635                                         0   \n",
       "2636                                         0   \n",
       "11629                                        0   \n",
       "12188                                        0   \n",
       "19914                                        0   \n",
       "\n",
       "       variants_effect_splice_donor_variant  \\\n",
       "20182                                     0   \n",
       "20183                                     0   \n",
       "12939                                     0   \n",
       "11844                                     1   \n",
       "11847                                     1   \n",
       "2635                                      0   \n",
       "2636                                      0   \n",
       "11629                                     0   \n",
       "12188                                     0   \n",
       "19914                                     2   \n",
       "\n",
       "       variants_effect_splice_region_variant  variants_effect_start_lost  \\\n",
       "20182                                      0                           0   \n",
       "20183                                      0                           0   \n",
       "12939                                     12                           0   \n",
       "11844                                      0                           0   \n",
       "11847                                      0                           0   \n",
       "2635                                       0                           0   \n",
       "2636                                       0                           0   \n",
       "11629                                     12                           0   \n",
       "12188                                      0                           0   \n",
       "19914                                      1                           0   \n",
       "\n",
       "       variants_effect_stop_gained  variants_effect_stop_lost  \\\n",
       "20182                            0                          0   \n",
       "20183                            0                          0   \n",
       "12939                            0                          0   \n",
       "11844                            0                          0   \n",
       "11847                            0                          0   \n",
       "2635                             0                          0   \n",
       "2636                             0                          0   \n",
       "11629                            6                          0   \n",
       "12188                            0                          0   \n",
       "19914                            0                          0   \n",
       "\n",
       "       variants_effect_stop_retained_variant  \\\n",
       "20182                                      0   \n",
       "20183                                      0   \n",
       "12939                                      0   \n",
       "11844                                      0   \n",
       "11847                                      0   \n",
       "2635                                       0   \n",
       "2636                                       0   \n",
       "11629                                      0   \n",
       "12188                                      0   \n",
       "19914                                      0   \n",
       "\n",
       "       variants_effect_synonymous_variant  \\\n",
       "20182                                   5   \n",
       "20183                                   5   \n",
       "12939                                  90   \n",
       "11844                                  11   \n",
       "11847                                  11   \n",
       "2635                                    1   \n",
       "2636                                    1   \n",
       "11629                                  60   \n",
       "12188                                   0   \n",
       "19914                                   0   \n",
       "\n",
       "       variants_effect_upstream_gene_variant  \n",
       "20182                                      0  \n",
       "20183                                      0  \n",
       "12939                                      0  \n",
       "11844                                      0  \n",
       "11847                                      0  \n",
       "2635                                       0  \n",
       "2636                                       0  \n",
       "11629                                     18  \n",
       "12188                                      0  \n",
       "19914                                      0  \n",
       "\n",
       "[10 rows x 32 columns]"
      ]
     },
     "execution_count": 29,
     "metadata": {},
     "output_type": "execute_result"
    }
   ],
   "source": [
    "gen_var_impact = gen_var.sort_values('variants_impact_HIGH', axis=0, ascending=False)\n",
    "gen_var_impact.head(10)"
   ]
  },
  {
   "cell_type": "markdown",
   "metadata": {},
   "source": [
    "# BRCA Function\n",
    "Mutations in the *BRCA-1* and *BRCA-2* genes are associated with a subset of breast and ovarian cancers. These two genes have different functions within cells. Like the other tumor suppressors discussed so far, mutations can arise spontaneously or they may be inherited. Individuals who inherit a BRCA-1 or BRCA-2 mutation are known to be more susceptible to developing breast cancer. Individuals carrying a BRCA mutation have a lifetime risk (if they live to the age of 85) of 80% for developing breast cancer. The lifetime risks for developing ovarian cancer is 10-20% for BRCA-2 mutations and 40-60% for BRCA-1 mutations. The presence of these mutations may also increase the risk of prostate, pancreatic, colon, and other cancers.The total risk for any person depends on the individual genetic and environmental risk factors to which they are exposed. BRCA-1 and BRCA-2 mutations are thought to be associated with 5-10% of all breast cancers."
   ]
  },
  {
   "cell_type": "code",
   "execution_count": null,
   "metadata": {
    "collapsed": false
   },
   "outputs": [],
   "source": [
    "list(gen_var_impact.head(50)['GeneName'].unique())"
   ]
  },
  {
   "cell_type": "markdown",
   "metadata": {},
   "source": [
    "# CASE 1: Variants for list of genes - tumor suppressors"
   ]
  },
  {
   "cell_type": "code",
   "execution_count": null,
   "metadata": {
    "collapsed": false
   },
   "outputs": [],
   "source": [
    "import EnrichRLib as erl\n",
    "\n",
    "tall_sup = erl.read_gmt('gene_lists/T-ALL_suppressor.gmt')\n",
    "gl = tall_sup['T-ALL-suppressor']\n",
    "\n",
    "gl"
   ]
  },
  {
   "cell_type": "code",
   "execution_count": null,
   "metadata": {
    "collapsed": false
   },
   "outputs": [],
   "source": [
    "# working with pair {cod_var, cod_gt}\n",
    "cod_var.loc[:,'ANN_Gene_Name'] = cod_var['ANN_Gene_Name'].str.upper()"
   ]
  },
  {
   "cell_type": "code",
   "execution_count": null,
   "metadata": {
    "collapsed": false
   },
   "outputs": [],
   "source": [
    "#cod_var['ANN_Gene_Name'].head()\n",
    "\n",
    "cod_var_gs = cod_var.loc[cod_var['ANN_Gene_Name'].isin(gl)]"
   ]
  },
  {
   "cell_type": "code",
   "execution_count": null,
   "metadata": {
    "collapsed": false
   },
   "outputs": [],
   "source": [
    "cod_gt_gs = cod_gt[cod_var_gs.index]\n"
   ]
  },
  {
   "cell_type": "code",
   "execution_count": null,
   "metadata": {
    "collapsed": false
   },
   "outputs": [],
   "source": [
    "# TLX3 count homo/hetero\n",
    "tlx_homalt = cod_gt_gs[:,2:].is_hom_alt()[:]\n",
    "cod_gt_gs[:,2:].count_hom_alt()\n"
   ]
  },
  {
   "cell_type": "code",
   "execution_count": null,
   "metadata": {
    "collapsed": false
   },
   "outputs": [],
   "source": [
    "# TAP count homo/hetero\n",
    "tap_homalt = cod_gt_gs[:,:2].is_hom_alt()[:]\n",
    "\n",
    "cod_gt_gs[:,:2].count_hom_alt()"
   ]
  },
  {
   "cell_type": "code",
   "execution_count": null,
   "metadata": {
    "collapsed": false
   },
   "outputs": [],
   "source": [
    "cod_var_gs_r = cod_var_gs.reset_index()\n",
    "\n",
    "# tlx\n",
    "cod_var_gs_tlx = cod_var_gs_r[tlx_homalt]\n",
    "\n",
    "# tap\n",
    "cod_var_gs_tap = cod_var_gs_r[tap_homalt]"
   ]
  },
  {
   "cell_type": "code",
   "execution_count": null,
   "metadata": {
    "collapsed": false
   },
   "outputs": [],
   "source": [
    "cols = ['CHROM', 'POS', 'REF', 'ALT_1', 'ALT_2',\n",
    "        'ANN_Annotation',\n",
    "        'ANN_Annotation_Impact',\n",
    "        'ANN_Feature_ID',\n",
    "        'ANN_Feature_Type',\n",
    "        'ANN_Gene_ID',\n",
    "        'ANN_Gene_Name',\n",
    "        'ANN_Rank',\n",
    "        'ANN_Transcript_BioType']\n",
    "\n",
    "cod_var_gs_tlx[cols]"
   ]
  },
  {
   "cell_type": "code",
   "execution_count": null,
   "metadata": {
    "collapsed": false
   },
   "outputs": [],
   "source": [
    "cod_var_gs_tap[cols]"
   ]
  },
  {
   "cell_type": "markdown",
   "metadata": {},
   "source": [
    "# CASE 2: Variant in enhancers"
   ]
  },
  {
   "cell_type": "code",
   "execution_count": null,
   "metadata": {
    "collapsed": true
   },
   "outputs": [],
   "source": [
    "import pybedtools as pb"
   ]
  },
  {
   "cell_type": "code",
   "execution_count": null,
   "metadata": {
    "collapsed": false
   },
   "outputs": [],
   "source": [
    "enh = pb.BedTool('tracks/Enhancers_ChromHMM.bed')\n",
    "enh_df = enh.to_dataframe()"
   ]
  },
  {
   "cell_type": "code",
   "execution_count": null,
   "metadata": {
    "collapsed": false
   },
   "outputs": [],
   "source": [
    "#enh_df.head()"
   ]
  },
  {
   "cell_type": "code",
   "execution_count": null,
   "metadata": {
    "collapsed": false
   },
   "outputs": [],
   "source": [
    "ftlx = 'tracks/WGS-WES/Germline/FERRIER_09_Germline.allchr.snpEff.p.SAL.SAL10_1.vcf'\n",
    "var_b = pb.BedTool(ftlx)"
   ]
  },
  {
   "cell_type": "code",
   "execution_count": null,
   "metadata": {
    "collapsed": false
   },
   "outputs": [],
   "source": [
    "var_enh = (var_b + enh).saveas('tracks/WGS-WES/Germline/Vars_Enh_noHeader.vcf')"
   ]
  },
  {
   "cell_type": "code",
   "execution_count": null,
   "metadata": {
    "collapsed": false
   },
   "outputs": [],
   "source": [
    "len(var_enh)"
   ]
  },
  {
   "cell_type": "code",
   "execution_count": null,
   "metadata": {
    "collapsed": false
   },
   "outputs": [],
   "source": [
    "# Concat with header\n",
    "\n",
    "# !cat tracks/WGS-WES/Germline/Germline_header.txt tracks/WGS-WES/Germline/Vars_Enh_noHeader.vcf > tracks/WGS-WES/Germline/Vars_Enh.vcf"
   ]
  },
  {
   "cell_type": "code",
   "execution_count": null,
   "metadata": {
    "collapsed": false
   },
   "outputs": [],
   "source": [
    "var_enh_df = var_enh.to_dataframe(names=['CHROM','POS','ID','REF','ALT','QUAL','FILTER','INFO','FORMAT','AC3812','AC3813','AC3814','AC3815'])"
   ]
  },
  {
   "cell_type": "code",
   "execution_count": null,
   "metadata": {
    "collapsed": false
   },
   "outputs": [],
   "source": [
    "var_enh_df.head()"
   ]
  },
  {
   "cell_type": "code",
   "execution_count": null,
   "metadata": {
    "collapsed": false
   },
   "outputs": [],
   "source": [
    "#var_enh_df['INFO'][16]"
   ]
  },
  {
   "cell_type": "code",
   "execution_count": null,
   "metadata": {
    "collapsed": false
   },
   "outputs": [],
   "source": [
    "#plot_variant_hist_2d('QD', 'MQ', var, downsample=500)\n",
    "\n",
    "\n",
    "\n",
    "#“MQ” is average mapping quality across all samples.\n",
    "#plot_variant_hist('MQ', var, down=2)\n",
    "\n",
    "#“QD” is a slightly odd statistic but turns out to be very useful \n",
    "# for finding poor quality SNPs. Roughly speaking, high numbers \n",
    "# mean that evidence for variation is strong (concentrated), \n",
    "# low numbers mean that evidence is weak (dilute).\n",
    "\n",
    "\n",
    "#x = var['QD'][:][::1000]\n",
    "#plot_variant_hist('QD', var, bins=30, down=500)\n",
    "\n",
    "#ac = gt.count_alleles()\n",
    "#ac\n",
    "\n"
   ]
  },
  {
   "cell_type": "code",
   "execution_count": null,
   "metadata": {
    "collapsed": true
   },
   "outputs": [],
   "source": []
  }
 ],
 "metadata": {
  "kernelspec": {
   "display_name": "Python 3",
   "language": "python",
   "name": "python3"
  },
  "language_info": {
   "codemirror_mode": {
    "name": "ipython",
    "version": 3
   },
   "file_extension": ".py",
   "mimetype": "text/x-python",
   "name": "python",
   "nbconvert_exporter": "python",
   "pygments_lexer": "ipython3",
   "version": "3.5.6"
  }
 },
 "nbformat": 4,
 "nbformat_minor": 2
}
